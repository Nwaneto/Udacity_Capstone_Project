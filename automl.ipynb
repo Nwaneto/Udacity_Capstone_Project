{
 "cells": [
  {
   "cell_type": "markdown",
   "metadata": {},
   "source": [
    "# Automated ML\n",
    "\n",
    "TODO: Import Dependencies. In the cell below, import all the dependencies that you will need to complete the project."
   ]
  },
  {
   "cell_type": "code",
   "execution_count": 1,
   "metadata": {
    "gather": {
     "logged": 1598423888013
    },
    "jupyter": {
     "outputs_hidden": false,
     "source_hidden": false
    },
    "nteract": {
     "transient": {
      "deleting": false
     }
    }
   },
   "outputs": [],
   "source": [
    "from azureml.core import Workspace, Experiment\n",
    "from azureml.core.compute import ComputeTarget, AmlCompute\n",
    "from azureml.core.compute_target import ComputeTargetException\n",
    "from azureml.data.dataset_factory import TabularDatasetFactory\n",
    "import pandas as pd\n",
    "from azureml.train.automl import AutoMLConfig\n",
    "from azureml.widgets import RunDetails\n",
    "from azureml.core.model import Model\n",
    "from azureml.core.model import InferenceConfig\n",
    "from azureml.core import Workspace, Environment\n",
    "from azureml.core import Model\n",
    "from azureml.core.webservice import AciWebservice, Webservice\n",
    "import json\n",
    "import joblib"
   ]
  },
  {
   "cell_type": "markdown",
   "metadata": {},
   "source": [
    "## Dataset\n",
    "\n",
    "### Overview\n",
    "TODO: In this markdown cell, give an overview of the dataset you are using. Also mention the task you will be performing.\n",
    "\n",
    "\n",
    "TODO: Get data. In the cell below, write code to access the data you will be using in this project. Remember that the dataset needs to be external."
   ]
  },
  {
   "cell_type": "code",
   "execution_count": 2,
   "metadata": {
    "gather": {
     "logged": 1598423890461
    },
    "jupyter": {
     "outputs_hidden": false,
     "source_hidden": false
    },
    "nteract": {
     "transient": {
      "deleting": false
     }
    }
   },
   "outputs": [
    {
     "name": "stdout",
     "output_type": "stream",
     "text": [
      "Workspace name: quick-starts-ws-137760\n",
      "Azure region: southcentralus\n",
      "Subscription id: 61c5c3f0-6dc7-4ed9-a7f3-c704b20e3b30\n",
      "Resource group: aml-quickstarts-137760\n"
     ]
    }
   ],
   "source": [
    "#Connection to the workspace and definition of the experiment \n",
    "ws = Workspace.from_config()\n",
    "experiment_name = 'Parkinson-classification'\n",
    "\n",
    "experiment=Experiment(workspace=ws, name=experiment_name)\n",
    "\n",
    "print('Workspace name: ' + ws.name, \n",
    "      'Azure region: ' + ws.location, \n",
    "      'Subscription id: ' + ws.subscription_id, \n",
    "      'Resource group: ' + ws.resource_group, sep = '\\n')\n",
    "\n",
    "run = experiment.start_logging()"
   ]
  },
  {
   "cell_type": "code",
   "execution_count": 3,
   "metadata": {},
   "outputs": [
    {
     "data": {
      "text/html": [
       "<div>\n",
       "<style scoped>\n",
       "    .dataframe tbody tr th:only-of-type {\n",
       "        vertical-align: middle;\n",
       "    }\n",
       "\n",
       "    .dataframe tbody tr th {\n",
       "        vertical-align: top;\n",
       "    }\n",
       "\n",
       "    .dataframe thead th {\n",
       "        text-align: right;\n",
       "    }\n",
       "</style>\n",
       "<table border=\"1\" class=\"dataframe\">\n",
       "  <thead>\n",
       "    <tr style=\"text-align: right;\">\n",
       "      <th></th>\n",
       "      <th>name</th>\n",
       "      <th>MDVP:Fo(Hz)</th>\n",
       "      <th>MDVP:Fhi(Hz)</th>\n",
       "      <th>MDVP:Flo(Hz)</th>\n",
       "      <th>MDVP:Jitter(%)</th>\n",
       "      <th>MDVP:Jitter(Abs)</th>\n",
       "      <th>MDVP:RAP</th>\n",
       "      <th>MDVP:PPQ</th>\n",
       "      <th>Jitter:DDP</th>\n",
       "      <th>MDVP:Shimmer</th>\n",
       "      <th>...</th>\n",
       "      <th>Shimmer:DDA</th>\n",
       "      <th>NHR</th>\n",
       "      <th>HNR</th>\n",
       "      <th>status</th>\n",
       "      <th>RPDE</th>\n",
       "      <th>DFA</th>\n",
       "      <th>spread1</th>\n",
       "      <th>spread2</th>\n",
       "      <th>D2</th>\n",
       "      <th>PPE</th>\n",
       "    </tr>\n",
       "  </thead>\n",
       "  <tbody>\n",
       "    <tr>\n",
       "      <th>0</th>\n",
       "      <td>phon_R01_S01_1</td>\n",
       "      <td>119.992</td>\n",
       "      <td>157.302</td>\n",
       "      <td>74.997</td>\n",
       "      <td>0.00784</td>\n",
       "      <td>0.00007</td>\n",
       "      <td>0.00370</td>\n",
       "      <td>0.00554</td>\n",
       "      <td>0.01109</td>\n",
       "      <td>0.04374</td>\n",
       "      <td>...</td>\n",
       "      <td>0.06545</td>\n",
       "      <td>0.02211</td>\n",
       "      <td>21.033</td>\n",
       "      <td>1</td>\n",
       "      <td>0.414783</td>\n",
       "      <td>0.815285</td>\n",
       "      <td>-4.813031</td>\n",
       "      <td>0.266482</td>\n",
       "      <td>2.301442</td>\n",
       "      <td>0.284654</td>\n",
       "    </tr>\n",
       "    <tr>\n",
       "      <th>1</th>\n",
       "      <td>phon_R01_S01_2</td>\n",
       "      <td>122.400</td>\n",
       "      <td>148.650</td>\n",
       "      <td>113.819</td>\n",
       "      <td>0.00968</td>\n",
       "      <td>0.00008</td>\n",
       "      <td>0.00465</td>\n",
       "      <td>0.00696</td>\n",
       "      <td>0.01394</td>\n",
       "      <td>0.06134</td>\n",
       "      <td>...</td>\n",
       "      <td>0.09403</td>\n",
       "      <td>0.01929</td>\n",
       "      <td>19.085</td>\n",
       "      <td>1</td>\n",
       "      <td>0.458359</td>\n",
       "      <td>0.819521</td>\n",
       "      <td>-4.075192</td>\n",
       "      <td>0.335590</td>\n",
       "      <td>2.486855</td>\n",
       "      <td>0.368674</td>\n",
       "    </tr>\n",
       "    <tr>\n",
       "      <th>2</th>\n",
       "      <td>phon_R01_S01_3</td>\n",
       "      <td>116.682</td>\n",
       "      <td>131.111</td>\n",
       "      <td>111.555</td>\n",
       "      <td>0.01050</td>\n",
       "      <td>0.00009</td>\n",
       "      <td>0.00544</td>\n",
       "      <td>0.00781</td>\n",
       "      <td>0.01633</td>\n",
       "      <td>0.05233</td>\n",
       "      <td>...</td>\n",
       "      <td>0.08270</td>\n",
       "      <td>0.01309</td>\n",
       "      <td>20.651</td>\n",
       "      <td>1</td>\n",
       "      <td>0.429895</td>\n",
       "      <td>0.825288</td>\n",
       "      <td>-4.443179</td>\n",
       "      <td>0.311173</td>\n",
       "      <td>2.342259</td>\n",
       "      <td>0.332634</td>\n",
       "    </tr>\n",
       "    <tr>\n",
       "      <th>3</th>\n",
       "      <td>phon_R01_S01_4</td>\n",
       "      <td>116.676</td>\n",
       "      <td>137.871</td>\n",
       "      <td>111.366</td>\n",
       "      <td>0.00997</td>\n",
       "      <td>0.00009</td>\n",
       "      <td>0.00502</td>\n",
       "      <td>0.00698</td>\n",
       "      <td>0.01505</td>\n",
       "      <td>0.05492</td>\n",
       "      <td>...</td>\n",
       "      <td>0.08771</td>\n",
       "      <td>0.01353</td>\n",
       "      <td>20.644</td>\n",
       "      <td>1</td>\n",
       "      <td>0.434969</td>\n",
       "      <td>0.819235</td>\n",
       "      <td>-4.117501</td>\n",
       "      <td>0.334147</td>\n",
       "      <td>2.405554</td>\n",
       "      <td>0.368975</td>\n",
       "    </tr>\n",
       "    <tr>\n",
       "      <th>4</th>\n",
       "      <td>phon_R01_S01_5</td>\n",
       "      <td>116.014</td>\n",
       "      <td>141.781</td>\n",
       "      <td>110.655</td>\n",
       "      <td>0.01284</td>\n",
       "      <td>0.00011</td>\n",
       "      <td>0.00655</td>\n",
       "      <td>0.00908</td>\n",
       "      <td>0.01966</td>\n",
       "      <td>0.06425</td>\n",
       "      <td>...</td>\n",
       "      <td>0.10470</td>\n",
       "      <td>0.01767</td>\n",
       "      <td>19.649</td>\n",
       "      <td>1</td>\n",
       "      <td>0.417356</td>\n",
       "      <td>0.823484</td>\n",
       "      <td>-3.747787</td>\n",
       "      <td>0.234513</td>\n",
       "      <td>2.332180</td>\n",
       "      <td>0.410335</td>\n",
       "    </tr>\n",
       "  </tbody>\n",
       "</table>\n",
       "<p>5 rows × 24 columns</p>\n",
       "</div>"
      ],
      "text/plain": [
       "             name  MDVP:Fo(Hz)  MDVP:Fhi(Hz)  MDVP:Flo(Hz)  MDVP:Jitter(%)  \\\n",
       "0  phon_R01_S01_1      119.992       157.302        74.997         0.00784   \n",
       "1  phon_R01_S01_2      122.400       148.650       113.819         0.00968   \n",
       "2  phon_R01_S01_3      116.682       131.111       111.555         0.01050   \n",
       "3  phon_R01_S01_4      116.676       137.871       111.366         0.00997   \n",
       "4  phon_R01_S01_5      116.014       141.781       110.655         0.01284   \n",
       "\n",
       "   MDVP:Jitter(Abs)  MDVP:RAP  MDVP:PPQ  Jitter:DDP  MDVP:Shimmer  ...  \\\n",
       "0           0.00007   0.00370   0.00554     0.01109       0.04374  ...   \n",
       "1           0.00008   0.00465   0.00696     0.01394       0.06134  ...   \n",
       "2           0.00009   0.00544   0.00781     0.01633       0.05233  ...   \n",
       "3           0.00009   0.00502   0.00698     0.01505       0.05492  ...   \n",
       "4           0.00011   0.00655   0.00908     0.01966       0.06425  ...   \n",
       "\n",
       "   Shimmer:DDA      NHR     HNR  status      RPDE       DFA   spread1  \\\n",
       "0      0.06545  0.02211  21.033       1  0.414783  0.815285 -4.813031   \n",
       "1      0.09403  0.01929  19.085       1  0.458359  0.819521 -4.075192   \n",
       "2      0.08270  0.01309  20.651       1  0.429895  0.825288 -4.443179   \n",
       "3      0.08771  0.01353  20.644       1  0.434969  0.819235 -4.117501   \n",
       "4      0.10470  0.01767  19.649       1  0.417356  0.823484 -3.747787   \n",
       "\n",
       "    spread2        D2       PPE  \n",
       "0  0.266482  2.301442  0.284654  \n",
       "1  0.335590  2.486855  0.368674  \n",
       "2  0.311173  2.342259  0.332634  \n",
       "3  0.334147  2.405554  0.368975  \n",
       "4  0.234513  2.332180  0.410335  \n",
       "\n",
       "[5 rows x 24 columns]"
      ]
     },
     "execution_count": 3,
     "metadata": {},
     "output_type": "execute_result"
    }
   ],
   "source": [
    "#Get the data from github\n",
    "path_url = 'https://gist.githubusercontent.com/Nwaneto/0d1477bd10c92f8b16ab19306d21a17f/raw/0af3078c0d174e26039ab31525487ceaceda77b0/parkinson-classification-data.csv'\n",
    "ds = TabularDatasetFactory.from_delimited_files(path = path_url)\n",
    "ds.to_pandas_dataframe().head()"
   ]
  },
  {
   "cell_type": "code",
   "execution_count": 4,
   "metadata": {
    "scrolled": true
   },
   "outputs": [
    {
     "name": "stdout",
     "output_type": "stream",
     "text": [
      "Uploading an estimated of 13 files\n",
      "Uploading ./.amlignore\n",
      "Uploaded ./.amlignore, 1 files out of an estimated total of 13\n",
      "Uploading ./.amlignore.amltmp\n",
      "Uploaded ./.amlignore.amltmp, 2 files out of an estimated total of 13\n",
      "Uploading ./automl.ipynb\n",
      "Uploaded ./automl.ipynb, 3 files out of an estimated total of 13\n",
      "Uploading ./automl2.ipynb\n",
      "Uploaded ./automl2.ipynb, 4 files out of an estimated total of 13\n",
      "Uploading ./hyperparameter_tuning2.ipynb\n",
      "Uploaded ./hyperparameter_tuning2.ipynb, 5 files out of an estimated total of 13\n",
      "Uploading ./README.md\n",
      "Uploaded ./README.md, 6 files out of an estimated total of 13\n",
      "Uploading ./train.py\n",
      "Uploaded ./train.py, 7 files out of an estimated total of 13\n",
      "Uploading ./training_data.csv\n",
      "Uploaded ./training_data.csv, 8 files out of an estimated total of 13\n",
      "Uploading ./hyperparameter_tuning.ipynb\n",
      "Uploaded ./hyperparameter_tuning.ipynb, 9 files out of an estimated total of 13\n",
      "Uploading ./.ipynb_checkpoints/automl-checkpoint.ipynb\n",
      "Uploaded ./.ipynb_checkpoints/automl-checkpoint.ipynb, 10 files out of an estimated total of 13\n",
      "Uploading ./.ipynb_checkpoints/automl2-checkpoint.ipynb\n",
      "Uploaded ./.ipynb_checkpoints/automl2-checkpoint.ipynb, 11 files out of an estimated total of 13\n",
      "Uploading ./.ipynb_checkpoints/hyperparameter_tuning-checkpoint.ipynb\n",
      "Uploaded ./.ipynb_checkpoints/hyperparameter_tuning-checkpoint.ipynb, 12 files out of an estimated total of 13\n",
      "Uploading ./.ipynb_checkpoints/hyperparameter_tuning2-checkpoint.ipynb\n",
      "Uploaded ./.ipynb_checkpoints/hyperparameter_tuning2-checkpoint.ipynb, 13 files out of an estimated total of 13\n",
      "Uploaded 13 files\n"
     ]
    }
   ],
   "source": [
    "df=ds.to_pandas_dataframe()\n",
    "df.drop(\"name\", inplace=True, axis=1)  \n",
    "df.to_csv(\"./training_data.csv\")\n",
    "datastore = ws.get_default_datastore()\n",
    "datastore.upload(src_dir = \"./\", target_path = \"data/\")\n",
    "training_data = TabularDatasetFactory.from_delimited_files(path = [(datastore, (\"data/training_data.csv\"))])\n"
   ]
  },
  {
   "cell_type": "code",
   "execution_count": 5,
   "metadata": {},
   "outputs": [
    {
     "data": {
      "text/html": [
       "<div>\n",
       "<style scoped>\n",
       "    .dataframe tbody tr th:only-of-type {\n",
       "        vertical-align: middle;\n",
       "    }\n",
       "\n",
       "    .dataframe tbody tr th {\n",
       "        vertical-align: top;\n",
       "    }\n",
       "\n",
       "    .dataframe thead th {\n",
       "        text-align: right;\n",
       "    }\n",
       "</style>\n",
       "<table border=\"1\" class=\"dataframe\">\n",
       "  <thead>\n",
       "    <tr style=\"text-align: right;\">\n",
       "      <th></th>\n",
       "      <th>MDVP:Fo(Hz)</th>\n",
       "      <th>MDVP:Fhi(Hz)</th>\n",
       "      <th>MDVP:Flo(Hz)</th>\n",
       "      <th>MDVP:Jitter(%)</th>\n",
       "      <th>MDVP:Jitter(Abs)</th>\n",
       "      <th>MDVP:RAP</th>\n",
       "      <th>MDVP:PPQ</th>\n",
       "      <th>Jitter:DDP</th>\n",
       "      <th>MDVP:Shimmer</th>\n",
       "      <th>MDVP:Shimmer(dB)</th>\n",
       "      <th>...</th>\n",
       "      <th>Shimmer:DDA</th>\n",
       "      <th>NHR</th>\n",
       "      <th>HNR</th>\n",
       "      <th>status</th>\n",
       "      <th>RPDE</th>\n",
       "      <th>DFA</th>\n",
       "      <th>spread1</th>\n",
       "      <th>spread2</th>\n",
       "      <th>D2</th>\n",
       "      <th>PPE</th>\n",
       "    </tr>\n",
       "  </thead>\n",
       "  <tbody>\n",
       "    <tr>\n",
       "      <th>0</th>\n",
       "      <td>119.992</td>\n",
       "      <td>157.302</td>\n",
       "      <td>74.997</td>\n",
       "      <td>0.00784</td>\n",
       "      <td>0.00007</td>\n",
       "      <td>0.00370</td>\n",
       "      <td>0.00554</td>\n",
       "      <td>0.01109</td>\n",
       "      <td>0.04374</td>\n",
       "      <td>0.426</td>\n",
       "      <td>...</td>\n",
       "      <td>0.06545</td>\n",
       "      <td>0.02211</td>\n",
       "      <td>21.033</td>\n",
       "      <td>1</td>\n",
       "      <td>0.414783</td>\n",
       "      <td>0.815285</td>\n",
       "      <td>-4.813031</td>\n",
       "      <td>0.266482</td>\n",
       "      <td>2.301442</td>\n",
       "      <td>0.284654</td>\n",
       "    </tr>\n",
       "    <tr>\n",
       "      <th>1</th>\n",
       "      <td>122.400</td>\n",
       "      <td>148.650</td>\n",
       "      <td>113.819</td>\n",
       "      <td>0.00968</td>\n",
       "      <td>0.00008</td>\n",
       "      <td>0.00465</td>\n",
       "      <td>0.00696</td>\n",
       "      <td>0.01394</td>\n",
       "      <td>0.06134</td>\n",
       "      <td>0.626</td>\n",
       "      <td>...</td>\n",
       "      <td>0.09403</td>\n",
       "      <td>0.01929</td>\n",
       "      <td>19.085</td>\n",
       "      <td>1</td>\n",
       "      <td>0.458359</td>\n",
       "      <td>0.819521</td>\n",
       "      <td>-4.075192</td>\n",
       "      <td>0.335590</td>\n",
       "      <td>2.486855</td>\n",
       "      <td>0.368674</td>\n",
       "    </tr>\n",
       "    <tr>\n",
       "      <th>2</th>\n",
       "      <td>116.682</td>\n",
       "      <td>131.111</td>\n",
       "      <td>111.555</td>\n",
       "      <td>0.01050</td>\n",
       "      <td>0.00009</td>\n",
       "      <td>0.00544</td>\n",
       "      <td>0.00781</td>\n",
       "      <td>0.01633</td>\n",
       "      <td>0.05233</td>\n",
       "      <td>0.482</td>\n",
       "      <td>...</td>\n",
       "      <td>0.08270</td>\n",
       "      <td>0.01309</td>\n",
       "      <td>20.651</td>\n",
       "      <td>1</td>\n",
       "      <td>0.429895</td>\n",
       "      <td>0.825288</td>\n",
       "      <td>-4.443179</td>\n",
       "      <td>0.311173</td>\n",
       "      <td>2.342259</td>\n",
       "      <td>0.332634</td>\n",
       "    </tr>\n",
       "    <tr>\n",
       "      <th>3</th>\n",
       "      <td>116.676</td>\n",
       "      <td>137.871</td>\n",
       "      <td>111.366</td>\n",
       "      <td>0.00997</td>\n",
       "      <td>0.00009</td>\n",
       "      <td>0.00502</td>\n",
       "      <td>0.00698</td>\n",
       "      <td>0.01505</td>\n",
       "      <td>0.05492</td>\n",
       "      <td>0.517</td>\n",
       "      <td>...</td>\n",
       "      <td>0.08771</td>\n",
       "      <td>0.01353</td>\n",
       "      <td>20.644</td>\n",
       "      <td>1</td>\n",
       "      <td>0.434969</td>\n",
       "      <td>0.819235</td>\n",
       "      <td>-4.117501</td>\n",
       "      <td>0.334147</td>\n",
       "      <td>2.405554</td>\n",
       "      <td>0.368975</td>\n",
       "    </tr>\n",
       "    <tr>\n",
       "      <th>4</th>\n",
       "      <td>116.014</td>\n",
       "      <td>141.781</td>\n",
       "      <td>110.655</td>\n",
       "      <td>0.01284</td>\n",
       "      <td>0.00011</td>\n",
       "      <td>0.00655</td>\n",
       "      <td>0.00908</td>\n",
       "      <td>0.01966</td>\n",
       "      <td>0.06425</td>\n",
       "      <td>0.584</td>\n",
       "      <td>...</td>\n",
       "      <td>0.10470</td>\n",
       "      <td>0.01767</td>\n",
       "      <td>19.649</td>\n",
       "      <td>1</td>\n",
       "      <td>0.417356</td>\n",
       "      <td>0.823484</td>\n",
       "      <td>-3.747787</td>\n",
       "      <td>0.234513</td>\n",
       "      <td>2.332180</td>\n",
       "      <td>0.410335</td>\n",
       "    </tr>\n",
       "  </tbody>\n",
       "</table>\n",
       "<p>5 rows × 23 columns</p>\n",
       "</div>"
      ],
      "text/plain": [
       "   MDVP:Fo(Hz)  MDVP:Fhi(Hz)  MDVP:Flo(Hz)  MDVP:Jitter(%)  MDVP:Jitter(Abs)  \\\n",
       "0      119.992       157.302        74.997         0.00784           0.00007   \n",
       "1      122.400       148.650       113.819         0.00968           0.00008   \n",
       "2      116.682       131.111       111.555         0.01050           0.00009   \n",
       "3      116.676       137.871       111.366         0.00997           0.00009   \n",
       "4      116.014       141.781       110.655         0.01284           0.00011   \n",
       "\n",
       "   MDVP:RAP  MDVP:PPQ  Jitter:DDP  MDVP:Shimmer  MDVP:Shimmer(dB)  ...  \\\n",
       "0   0.00370   0.00554     0.01109       0.04374             0.426  ...   \n",
       "1   0.00465   0.00696     0.01394       0.06134             0.626  ...   \n",
       "2   0.00544   0.00781     0.01633       0.05233             0.482  ...   \n",
       "3   0.00502   0.00698     0.01505       0.05492             0.517  ...   \n",
       "4   0.00655   0.00908     0.01966       0.06425             0.584  ...   \n",
       "\n",
       "   Shimmer:DDA      NHR     HNR  status      RPDE       DFA   spread1  \\\n",
       "0      0.06545  0.02211  21.033       1  0.414783  0.815285 -4.813031   \n",
       "1      0.09403  0.01929  19.085       1  0.458359  0.819521 -4.075192   \n",
       "2      0.08270  0.01309  20.651       1  0.429895  0.825288 -4.443179   \n",
       "3      0.08771  0.01353  20.644       1  0.434969  0.819235 -4.117501   \n",
       "4      0.10470  0.01767  19.649       1  0.417356  0.823484 -3.747787   \n",
       "\n",
       "    spread2        D2       PPE  \n",
       "0  0.266482  2.301442  0.284654  \n",
       "1  0.335590  2.486855  0.368674  \n",
       "2  0.311173  2.342259  0.332634  \n",
       "3  0.334147  2.405554  0.368975  \n",
       "4  0.234513  2.332180  0.410335  \n",
       "\n",
       "[5 rows x 23 columns]"
      ]
     },
     "execution_count": 5,
     "metadata": {},
     "output_type": "execute_result"
    }
   ],
   "source": [
    "df.head()"
   ]
  },
  {
   "cell_type": "code",
   "execution_count": 6,
   "metadata": {},
   "outputs": [
    {
     "name": "stdout",
     "output_type": "stream",
     "text": [
      "Creating\n",
      "Succeeded.....................\n",
      "AmlCompute wait for completion finished\n",
      "\n",
      "Wait timeout has been reached\n",
      "Current provisioning state of AmlCompute is \"Succeeded\" and current node count is \"0\"\n"
     ]
    }
   ],
   "source": [
    "#Creation of the compute-cluster\n",
    "amlcompute_cluster_name = \"cpu-cluster\"\n",
    "\n",
    "try:\n",
    "    aml_compute = ComputeTarget(workspace=ws, name=amlcompute_cluster_name)\n",
    "    print('Found existing cluster, use it.')\n",
    "except ComputeTargetException:\n",
    "    compute_config = AmlCompute.provisioning_configuration(vm_size='STANDARD_DS3_V2',\n",
    "                                                           max_nodes=5)\n",
    "    aml_compute = ComputeTarget.create(ws, amlcompute_cluster_name, compute_config)\n",
    "\n",
    "aml_compute.wait_for_completion(show_output=True , min_node_count = 1, timeout_in_minutes = 2)"
   ]
  },
  {
   "cell_type": "markdown",
   "metadata": {},
   "source": [
    "## AutoML Configuration\n",
    "\n",
    "TODO: Explain why you chose the automl settings and cofiguration you used below."
   ]
  },
  {
   "cell_type": "code",
   "execution_count": 7,
   "metadata": {
    "gather": {
     "logged": 1598429217746
    },
    "jupyter": {
     "outputs_hidden": false,
     "source_hidden": false
    },
    "nteract": {
     "transient": {
      "deleting": false
     }
    }
   },
   "outputs": [],
   "source": [
    "# Automl settings \n",
    "automl_settings = {\n",
    "    \"experiment_timeout_minutes\" :15,\n",
    "    \"max_concurrent_iterations\": 4,\n",
    "    \"n_cross_validations\": 5,\n",
    "    \"primary_metric\": 'accuracy',\n",
    "}\n",
    "\n",
    "# Automl config \n",
    "automl_config = AutoMLConfig(\n",
    "    task=\"classification\",\n",
    "    compute_target=aml_compute,\n",
    "    training_data=training_data,\n",
    "    label_column_name=\"status\",\n",
    "    **automl_settings\n",
    ")"
   ]
  },
  {
   "cell_type": "code",
   "execution_count": 8,
   "metadata": {
    "gather": {
     "logged": 1598431107951
    },
    "jupyter": {
     "outputs_hidden": false,
     "source_hidden": false
    },
    "nteract": {
     "transient": {
      "deleting": false
     }
    }
   },
   "outputs": [
    {
     "name": "stdout",
     "output_type": "stream",
     "text": [
      "Running on remote.\n",
      "No run_configuration provided, running on cpu-cluster with default configuration\n",
      "Running on remote compute: cpu-cluster\n",
      "Parent Run ID: AutoML_a647e683-2a75-47a6-8915-7892ca77fef2\n",
      "\n",
      "Current status: FeaturesGeneration. Generating features for the dataset.\n",
      "Current status: ModelSelection. Beginning model selection.\n",
      "\n",
      "****************************************************************************************************\n",
      "DATA GUARDRAILS: \n",
      "\n",
      "TYPE:         Class balancing detection\n",
      "STATUS:       PASSED\n",
      "DESCRIPTION:  Your inputs were analyzed, and all classes are balanced in your training data.\n",
      "              Learn more about imbalanced data: https://aka.ms/AutomatedMLImbalancedData\n",
      "\n",
      "****************************************************************************************************\n",
      "\n",
      "TYPE:         Missing feature values imputation\n",
      "STATUS:       PASSED\n",
      "DESCRIPTION:  No feature missing values were detected in the training data.\n",
      "              Learn more about missing value imputation: https://aka.ms/AutomatedMLFeaturization\n",
      "\n",
      "****************************************************************************************************\n",
      "\n",
      "TYPE:         High cardinality feature detection\n",
      "STATUS:       PASSED\n",
      "DESCRIPTION:  Your inputs were analyzed, and no high cardinality features were detected.\n",
      "              Learn more about high cardinality feature handling: https://aka.ms/AutomatedMLFeaturization\n",
      "\n",
      "****************************************************************************************************\n",
      "\n",
      "****************************************************************************************************\n",
      "ITERATION: The iteration being evaluated.\n",
      "PIPELINE: A summary description of the pipeline being evaluated.\n",
      "DURATION: Time taken for the current iteration.\n",
      "METRIC: The result of computing score on the fitted pipeline.\n",
      "BEST: The best observed score thus far.\n",
      "****************************************************************************************************\n",
      "\n",
      " ITERATION   PIPELINE                                       DURATION      METRIC      BEST\n",
      "         3   MinMaxScaler RandomForest                      0:01:00       0.8923    0.8923\n",
      "         2   MinMaxScaler RandomForest                      0:00:54       0.9026    0.9026\n",
      "         5   MinMaxScaler SVM                               0:01:01       0.9692    0.9692\n",
      "         1   MaxAbsScaler XGBoostClassifier                 0:02:10       0.9641    0.9692\n",
      "         4   MinMaxScaler RandomForest                      0:02:05       0.9128    0.9692\n",
      "         0   MaxAbsScaler LightGBM                          0:02:12       0.9641    0.9692\n",
      "         6   SparseNormalizer XGBoostClassifier             0:00:48       0.8923    0.9692\n",
      "         7   SparseNormalizer XGBoostClassifier             0:00:54       0.9436    0.9692\n",
      "        10   MaxAbsScaler LightGBM                          0:00:54       0.8974    0.9692\n",
      "         8   MaxAbsScaler GradientBoosting                  0:00:59       0.9692    0.9692\n",
      "         9   SparseNormalizer LightGBM                      0:00:50       0.9026    0.9692\n",
      "        11   StandardScalerWrapper XGBoostClassifier        0:00:50       0.8974    0.9692\n",
      "        12   MinMaxScaler LightGBM                          0:00:48       0.9333    0.9692\n",
      "        13   SparseNormalizer XGBoostClassifier             0:00:48       0.9333    0.9692\n",
      "        14   RobustScaler ExtremeRandomTrees                0:00:49       0.8821    0.9692\n",
      "        15   SparseNormalizer XGBoostClassifier             0:00:54       0.9231    0.9692\n",
      "        16   SparseNormalizer XGBoostClassifier             0:00:49       0.9538    0.9692\n",
      "        17   StandardScalerWrapper LightGBM                 0:00:58       0.8308    0.9692\n",
      "        18   MaxAbsScaler ExtremeRandomTrees                0:00:56       0.9128    0.9692\n",
      "        19   StandardScalerWrapper LightGBM                 0:00:57       0.8667    0.9692\n",
      "        20   RobustScaler LightGBM                          0:00:54       0.8974    0.9692\n",
      "        21   SparseNormalizer XGBoostClassifier             0:00:53       0.9128    0.9692\n",
      "        22   StandardScalerWrapper LightGBM                 0:00:50       0.9333    0.9692\n",
      "        23   SparseNormalizer KNN                           0:00:49       0.8667    0.9692\n",
      "        24   RobustScaler KNN                               0:00:48       0.9385    0.9692\n",
      "        25   StandardScalerWrapper GradientBoosting         0:00:55       0.8000    0.9692\n",
      "        26   SparseNormalizer RandomForest                  0:00:49       0.9179    0.9692\n",
      "        27   MaxAbsScaler ExtremeRandomTrees                0:00:44       0.8359    0.9692\n",
      "        28   SparseNormalizer ExtremeRandomTrees            0:00:46       0.8718    0.9692\n",
      "        29   SparseNormalizer XGBoostClassifier             0:00:57       0.9077    0.9692\n",
      "        30   MinMaxScaler GradientBoosting                  0:00:56       0.7538    0.9692\n",
      "        31   StandardScalerWrapper XGBoostClassifier        0:00:50       0.9231    0.9692\n",
      "        32   StandardScalerWrapper XGBoostClassifier        0:00:56       0.9179    0.9692\n",
      "        33   SparseNormalizer XGBoostClassifier             0:00:55       0.9436    0.9692\n",
      "        34   MinMaxScaler LogisticRegression                0:00:55       0.8308    0.9692\n",
      "        35   StandardScalerWrapper GradientBoosting         0:00:53       0.9538    0.9692\n",
      "        36   StandardScalerWrapper LogisticRegression       0:00:52       0.8410    0.9692\n",
      "        37   SparseNormalizer XGBoostClassifier             0:00:49       0.8615    0.9692\n",
      "        38   SparseNormalizer LightGBM                      0:00:52       0.8872    0.9692\n",
      "        39   SparseNormalizer XGBoostClassifier             0:00:52       0.9179    0.9692\n",
      "        40   MaxAbsScaler GradientBoosting                  0:00:52       0.8872    0.9692\n",
      "        41   StandardScalerWrapper ExtremeRandomTrees       0:00:51       0.9231    0.9692\n",
      "        42   SparseNormalizer LightGBM                      0:00:49       0.9385    0.9692\n",
      "        43   StandardScalerWrapper ExtremeRandomTrees       0:00:54       0.8769    0.9692\n",
      "        44   MaxAbsScaler RandomForest                      0:00:51       0.9179    0.9692\n",
      "ERROR: {\n",
      "    \"additional_properties\": {},\n",
      "    \"error\": {\n",
      "        \"additional_properties\": {\n",
      "            \"debugInfo\": null\n",
      "        },\n",
      "        \"code\": \"UserError\",\n",
      "        \"severity\": null,\n",
      "        \"message\": \"Experiment timeout reached, please consider increasing your experiment timeout.\",\n",
      "        \"message_format\": \"Experiment timeout reached, please consider increasing your experiment timeout.\",\n",
      "        \"message_parameters\": {},\n",
      "        \"reference_code\": null,\n",
      "        \"details_uri\": null,\n",
      "        \"target\": null,\n",
      "        \"details\": [],\n",
      "        \"inner_error\": {\n",
      "            \"additional_properties\": {},\n",
      "            \"code\": \"ResourceExhausted\",\n",
      "            \"inner_error\": {\n",
      "                \"additional_properties\": {},\n",
      "                \"code\": \"Timeout\",\n",
      "                \"inner_error\": {\n",
      "                    \"additional_properties\": {},\n",
      "                    \"code\": \"ExperimentTimeoutForIterations\",\n",
      "                    \"inner_error\": null\n",
      "                }\n",
      "            }\n",
      "        }\n",
      "    },\n",
      "    \"correlation\": null,\n",
      "    \"environment\": null,\n",
      "    \"location\": null,\n",
      "    \"time\": {},\n",
      "    \"component_name\": null\n",
      "}\n",
      "        45   MinMaxScaler GradientBoosting                  0:00:39       0.9590    0.9692\n",
      "ERROR: {\n",
      "    \"additional_properties\": {},\n",
      "    \"error\": {\n",
      "        \"additional_properties\": {\n",
      "            \"debugInfo\": null\n",
      "        },\n",
      "        \"code\": \"UserError\",\n",
      "        \"severity\": null,\n",
      "        \"message\": \"Experiment timeout reached, please consider increasing your experiment timeout.\",\n",
      "        \"message_format\": \"Experiment timeout reached, please consider increasing your experiment timeout.\",\n",
      "        \"message_parameters\": {},\n",
      "        \"reference_code\": null,\n",
      "        \"details_uri\": null,\n",
      "        \"target\": null,\n",
      "        \"details\": [],\n",
      "        \"inner_error\": {\n",
      "            \"additional_properties\": {},\n",
      "            \"code\": \"ResourceExhausted\",\n",
      "            \"inner_error\": {\n",
      "                \"additional_properties\": {},\n",
      "                \"code\": \"Timeout\",\n",
      "                \"inner_error\": {\n",
      "                    \"additional_properties\": {},\n",
      "                    \"code\": \"ExperimentTimeoutForIterations\",\n",
      "                    \"inner_error\": null\n",
      "                }\n",
      "            }\n",
      "        }\n",
      "    },\n",
      "    \"correlation\": null,\n",
      "    \"environment\": null,\n",
      "    \"location\": null,\n",
      "    \"time\": {},\n",
      "    \"component_name\": null\n",
      "}\n"
     ]
    },
    {
     "name": "stdout",
     "output_type": "stream",
     "text": [
      "        46   SparseNormalizer XGBoostClassifier             0:00:27          nan    0.9692\n",
      "ERROR: {\n",
      "    \"additional_properties\": {},\n",
      "    \"error\": {\n",
      "        \"additional_properties\": {\n",
      "            \"debugInfo\": null\n",
      "        },\n",
      "        \"code\": \"UserError\",\n",
      "        \"severity\": null,\n",
      "        \"message\": \"Experiment timeout reached, please consider increasing your experiment timeout.\",\n",
      "        \"message_format\": \"Experiment timeout reached, please consider increasing your experiment timeout.\",\n",
      "        \"message_parameters\": {},\n",
      "        \"reference_code\": null,\n",
      "        \"details_uri\": null,\n",
      "        \"target\": null,\n",
      "        \"details\": [],\n",
      "        \"inner_error\": {\n",
      "            \"additional_properties\": {},\n",
      "            \"code\": \"ResourceExhausted\",\n",
      "            \"inner_error\": {\n",
      "                \"additional_properties\": {},\n",
      "                \"code\": \"Timeout\",\n",
      "                \"inner_error\": {\n",
      "                    \"additional_properties\": {},\n",
      "                    \"code\": \"ExperimentTimeoutForIterations\",\n",
      "                    \"inner_error\": null\n",
      "                }\n",
      "            }\n",
      "        }\n",
      "    },\n",
      "    \"correlation\": null,\n",
      "    \"environment\": null,\n",
      "    \"location\": null,\n",
      "    \"time\": {},\n",
      "    \"component_name\": null\n",
      "}\n",
      "        47    VotingEnsemble                                0:02:00       0.9744    0.9744\n",
      "        48    StackEnsemble                                 0:02:51       0.9538    0.9744\n"
     ]
    }
   ],
   "source": [
    "# Submit experiment\n",
    "auto_ml_run = experiment.submit(config = automl_config, show_output = True)\n"
   ]
  },
  {
   "cell_type": "markdown",
   "metadata": {},
   "source": [
    "## Run Details\n",
    "\n",
    "OPTIONAL: Write about the different models trained and their performance. Why do you think some models did better than others?\n",
    "\n",
    "TODO: In the cell below, use the `RunDetails` widget to show the different experiments."
   ]
  },
  {
   "cell_type": "code",
   "execution_count": 9,
   "metadata": {
    "gather": {
     "logged": 1598431121770
    },
    "jupyter": {
     "outputs_hidden": false,
     "source_hidden": false
    },
    "nteract": {
     "transient": {
      "deleting": false
     }
    }
   },
   "outputs": [
    {
     "data": {
      "application/vnd.jupyter.widget-view+json": {
       "model_id": "d9515cbaa129476f8fb8d29d9db96cdb",
       "version_major": 2,
       "version_minor": 0
      },
      "text/plain": [
       "_AutoMLWidget(widget_settings={'childWidgetDisplay': 'popup', 'send_telemetry': False, 'log_level': 'INFO', 's…"
      ]
     },
     "metadata": {},
     "output_type": "display_data"
    },
    {
     "data": {
      "application/aml.mini.widget.v1": "{\"status\": \"Completed\", \"workbench_run_details_uri\": \"https://ml.azure.com/experiments/Parkinson-classification/runs/AutoML_a647e683-2a75-47a6-8915-7892ca77fef2?wsid=/subscriptions/61c5c3f0-6dc7-4ed9-a7f3-c704b20e3b30/resourcegroups/aml-quickstarts-137760/workspaces/quick-starts-ws-137760\", \"run_id\": \"AutoML_a647e683-2a75-47a6-8915-7892ca77fef2\", \"run_properties\": {\"run_id\": \"AutoML_a647e683-2a75-47a6-8915-7892ca77fef2\", \"created_utc\": \"2021-02-07T07:39:21.327803Z\", \"properties\": {\"num_iterations\": \"1000\", \"training_type\": \"TrainFull\", \"acquisition_function\": \"EI\", \"primary_metric\": \"accuracy\", \"train_split\": \"0\", \"acquisition_parameter\": \"0\", \"num_cross_validation\": \"5\", \"target\": \"cpu-cluster\", \"AMLSettingsJsonString\": \"{\\\"path\\\":null,\\\"name\\\":\\\"Parkinson-classification\\\",\\\"subscription_id\\\":\\\"61c5c3f0-6dc7-4ed9-a7f3-c704b20e3b30\\\",\\\"resource_group\\\":\\\"aml-quickstarts-137760\\\",\\\"workspace_name\\\":\\\"quick-starts-ws-137760\\\",\\\"region\\\":\\\"southcentralus\\\",\\\"compute_target\\\":\\\"cpu-cluster\\\",\\\"spark_service\\\":null,\\\"azure_service\\\":\\\"remote\\\",\\\"many_models\\\":false,\\\"pipeline_fetch_max_batch_size\\\":1,\\\"iterations\\\":1000,\\\"primary_metric\\\":\\\"accuracy\\\",\\\"task_type\\\":\\\"classification\\\",\\\"data_script\\\":null,\\\"validation_size\\\":0.0,\\\"n_cross_validations\\\":5,\\\"y_min\\\":null,\\\"y_max\\\":null,\\\"num_classes\\\":null,\\\"featurization\\\":\\\"auto\\\",\\\"_ignore_package_version_incompatibilities\\\":false,\\\"is_timeseries\\\":false,\\\"max_cores_per_iteration\\\":1,\\\"max_concurrent_iterations\\\":4,\\\"iteration_timeout_minutes\\\":null,\\\"mem_in_mb\\\":null,\\\"enforce_time_on_windows\\\":false,\\\"experiment_timeout_minutes\\\":15,\\\"experiment_exit_score\\\":null,\\\"whitelist_models\\\":null,\\\"blacklist_algos\\\":[\\\"TensorFlowLinearClassifier\\\",\\\"TensorFlowDNN\\\"],\\\"supported_models\\\":[\\\"TensorFlowLinearClassifier\\\",\\\"SGD\\\",\\\"RandomForest\\\",\\\"KNN\\\",\\\"BernoulliNaiveBayes\\\",\\\"SVM\\\",\\\"LightGBM\\\",\\\"AveragedPerceptronClassifier\\\",\\\"TensorFlowDNN\\\",\\\"LogisticRegression\\\",\\\"GradientBoosting\\\",\\\"XGBoostClassifier\\\",\\\"DecisionTree\\\",\\\"LinearSVM\\\",\\\"MultinomialNaiveBayes\\\",\\\"ExtremeRandomTrees\\\"],\\\"auto_blacklist\\\":true,\\\"blacklist_samples_reached\\\":false,\\\"exclude_nan_labels\\\":true,\\\"verbosity\\\":20,\\\"_debug_log\\\":\\\"azureml_automl.log\\\",\\\"show_warnings\\\":false,\\\"model_explainability\\\":true,\\\"service_url\\\":null,\\\"sdk_url\\\":null,\\\"sdk_packages\\\":null,\\\"enable_onnx_compatible_models\\\":false,\\\"enable_split_onnx_featurizer_estimator_models\\\":false,\\\"vm_type\\\":\\\"STANDARD_DS3_V2\\\",\\\"telemetry_verbosity\\\":20,\\\"send_telemetry\\\":true,\\\"enable_dnn\\\":false,\\\"scenario\\\":\\\"SDK-1.13.0\\\",\\\"environment_label\\\":null,\\\"force_text_dnn\\\":false,\\\"enable_feature_sweeping\\\":true,\\\"enable_early_stopping\\\":false,\\\"early_stopping_n_iters\\\":10,\\\"metrics\\\":null,\\\"enable_ensembling\\\":true,\\\"enable_stack_ensembling\\\":true,\\\"ensemble_iterations\\\":15,\\\"enable_tf\\\":false,\\\"enable_subsampling\\\":null,\\\"subsample_seed\\\":null,\\\"enable_nimbusml\\\":false,\\\"enable_streaming\\\":false,\\\"force_streaming\\\":false,\\\"track_child_runs\\\":true,\\\"allowed_private_models\\\":[],\\\"label_column_name\\\":\\\"status\\\",\\\"weight_column_name\\\":null,\\\"cv_split_column_names\\\":null,\\\"enable_local_managed\\\":false,\\\"_local_managed_run_id\\\":null,\\\"cost_mode\\\":1,\\\"lag_length\\\":0,\\\"metric_operation\\\":\\\"maximize\\\",\\\"preprocess\\\":true}\", \"DataPrepJsonString\": \"{\\\\\\\"training_data\\\\\\\": \\\\\\\"{\\\\\\\\\\\\\\\"blocks\\\\\\\\\\\\\\\": [{\\\\\\\\\\\\\\\"id\\\\\\\\\\\\\\\": \\\\\\\\\\\\\\\"f3bc6c32-effb-4a9d-b9d0-21f89f8da048\\\\\\\\\\\\\\\", \\\\\\\\\\\\\\\"type\\\\\\\\\\\\\\\": \\\\\\\\\\\\\\\"Microsoft.DPrep.GetDatastoreFilesBlock\\\\\\\\\\\\\\\", \\\\\\\\\\\\\\\"arguments\\\\\\\\\\\\\\\": {\\\\\\\\\\\\\\\"datastores\\\\\\\\\\\\\\\": [{\\\\\\\\\\\\\\\"datastoreName\\\\\\\\\\\\\\\": \\\\\\\\\\\\\\\"workspaceblobstore\\\\\\\\\\\\\\\", \\\\\\\\\\\\\\\"path\\\\\\\\\\\\\\\": \\\\\\\\\\\\\\\"data/training_data.csv\\\\\\\\\\\\\\\", \\\\\\\\\\\\\\\"resourceGroup\\\\\\\\\\\\\\\": \\\\\\\\\\\\\\\"aml-quickstarts-137760\\\\\\\\\\\\\\\", \\\\\\\\\\\\\\\"subscription\\\\\\\\\\\\\\\": \\\\\\\\\\\\\\\"61c5c3f0-6dc7-4ed9-a7f3-c704b20e3b30\\\\\\\\\\\\\\\", \\\\\\\\\\\\\\\"workspaceName\\\\\\\\\\\\\\\": \\\\\\\\\\\\\\\"quick-starts-ws-137760\\\\\\\\\\\\\\\"}]}, \\\\\\\\\\\\\\\"localData\\\\\\\\\\\\\\\": {}, \\\\\\\\\\\\\\\"isEnabled\\\\\\\\\\\\\\\": true, \\\\\\\\\\\\\\\"name\\\\\\\\\\\\\\\": null, \\\\\\\\\\\\\\\"annotation\\\\\\\\\\\\\\\": null}, {\\\\\\\\\\\\\\\"id\\\\\\\\\\\\\\\": \\\\\\\\\\\\\\\"d9556b4a-198e-4882-bc33-63d9f09d1ff2\\\\\\\\\\\\\\\", \\\\\\\\\\\\\\\"type\\\\\\\\\\\\\\\": \\\\\\\\\\\\\\\"Microsoft.DPrep.ParseDelimitedBlock\\\\\\\\\\\\\\\", \\\\\\\\\\\\\\\"arguments\\\\\\\\\\\\\\\": {\\\\\\\\\\\\\\\"columnHeadersMode\\\\\\\\\\\\\\\": 3, \\\\\\\\\\\\\\\"fileEncoding\\\\\\\\\\\\\\\": 0, \\\\\\\\\\\\\\\"handleQuotedLineBreaks\\\\\\\\\\\\\\\": false, \\\\\\\\\\\\\\\"preview\\\\\\\\\\\\\\\": false, \\\\\\\\\\\\\\\"separator\\\\\\\\\\\\\\\": \\\\\\\\\\\\\\\",\\\\\\\\\\\\\\\", \\\\\\\\\\\\\\\"skipRows\\\\\\\\\\\\\\\": 0, \\\\\\\\\\\\\\\"skipRowsMode\\\\\\\\\\\\\\\": 0}, \\\\\\\\\\\\\\\"localData\\\\\\\\\\\\\\\": {}, \\\\\\\\\\\\\\\"isEnabled\\\\\\\\\\\\\\\": true, \\\\\\\\\\\\\\\"name\\\\\\\\\\\\\\\": null, \\\\\\\\\\\\\\\"annotation\\\\\\\\\\\\\\\": null}, {\\\\\\\\\\\\\\\"id\\\\\\\\\\\\\\\": \\\\\\\\\\\\\\\"7cd78adb-7bb4-4c0b-909b-0538f996ad99\\\\\\\\\\\\\\\", \\\\\\\\\\\\\\\"type\\\\\\\\\\\\\\\": \\\\\\\\\\\\\\\"Microsoft.DPrep.DropColumnsBlock\\\\\\\\\\\\\\\", \\\\\\\\\\\\\\\"arguments\\\\\\\\\\\\\\\": {\\\\\\\\\\\\\\\"columns\\\\\\\\\\\\\\\": {\\\\\\\\\\\\\\\"type\\\\\\\\\\\\\\\": 0, \\\\\\\\\\\\\\\"details\\\\\\\\\\\\\\\": {\\\\\\\\\\\\\\\"selectedColumns\\\\\\\\\\\\\\\": [\\\\\\\\\\\\\\\"Path\\\\\\\\\\\\\\\"]}}}, \\\\\\\\\\\\\\\"localData\\\\\\\\\\\\\\\": {}, \\\\\\\\\\\\\\\"isEnabled\\\\\\\\\\\\\\\": true, \\\\\\\\\\\\\\\"name\\\\\\\\\\\\\\\": null, \\\\\\\\\\\\\\\"annotation\\\\\\\\\\\\\\\": null}, {\\\\\\\\\\\\\\\"id\\\\\\\\\\\\\\\": \\\\\\\\\\\\\\\"70d23203-4896-441a-bd34-f7c27d00ec28\\\\\\\\\\\\\\\", \\\\\\\\\\\\\\\"type\\\\\\\\\\\\\\\": \\\\\\\\\\\\\\\"Microsoft.DPrep.SetColumnTypesBlock\\\\\\\\\\\\\\\", \\\\\\\\\\\\\\\"arguments\\\\\\\\\\\\\\\": {\\\\\\\\\\\\\\\"columnConversion\\\\\\\\\\\\\\\": [{\\\\\\\\\\\\\\\"column\\\\\\\\\\\\\\\": {\\\\\\\\\\\\\\\"type\\\\\\\\\\\\\\\": 2, \\\\\\\\\\\\\\\"details\\\\\\\\\\\\\\\": {\\\\\\\\\\\\\\\"selectedColumn\\\\\\\\\\\\\\\": \\\\\\\\\\\\\\\"Column1\\\\\\\\\\\\\\\"}}, \\\\\\\\\\\\\\\"typeProperty\\\\\\\\\\\\\\\": 2}, {\\\\\\\\\\\\\\\"column\\\\\\\\\\\\\\\": {\\\\\\\\\\\\\\\"type\\\\\\\\\\\\\\\": 2, \\\\\\\\\\\\\\\"details\\\\\\\\\\\\\\\": {\\\\\\\\\\\\\\\"selectedColumn\\\\\\\\\\\\\\\": \\\\\\\\\\\\\\\"MDVP:Fo(Hz)\\\\\\\\\\\\\\\"}}, \\\\\\\\\\\\\\\"typeProperty\\\\\\\\\\\\\\\": 3}, {\\\\\\\\\\\\\\\"column\\\\\\\\\\\\\\\": {\\\\\\\\\\\\\\\"type\\\\\\\\\\\\\\\": 2, \\\\\\\\\\\\\\\"details\\\\\\\\\\\\\\\": {\\\\\\\\\\\\\\\"selectedColumn\\\\\\\\\\\\\\\": \\\\\\\\\\\\\\\"MDVP:Fhi(Hz)\\\\\\\\\\\\\\\"}}, \\\\\\\\\\\\\\\"typeProperty\\\\\\\\\\\\\\\": 3}, {\\\\\\\\\\\\\\\"column\\\\\\\\\\\\\\\": {\\\\\\\\\\\\\\\"type\\\\\\\\\\\\\\\": 2, \\\\\\\\\\\\\\\"details\\\\\\\\\\\\\\\": {\\\\\\\\\\\\\\\"selectedColumn\\\\\\\\\\\\\\\": \\\\\\\\\\\\\\\"MDVP:Flo(Hz)\\\\\\\\\\\\\\\"}}, \\\\\\\\\\\\\\\"typeProperty\\\\\\\\\\\\\\\": 3}, {\\\\\\\\\\\\\\\"column\\\\\\\\\\\\\\\": {\\\\\\\\\\\\\\\"type\\\\\\\\\\\\\\\": 2, \\\\\\\\\\\\\\\"details\\\\\\\\\\\\\\\": {\\\\\\\\\\\\\\\"selectedColumn\\\\\\\\\\\\\\\": \\\\\\\\\\\\\\\"MDVP:Jitter(%)\\\\\\\\\\\\\\\"}}, \\\\\\\\\\\\\\\"typeProperty\\\\\\\\\\\\\\\": 3}, {\\\\\\\\\\\\\\\"column\\\\\\\\\\\\\\\": {\\\\\\\\\\\\\\\"type\\\\\\\\\\\\\\\": 2, \\\\\\\\\\\\\\\"details\\\\\\\\\\\\\\\": {\\\\\\\\\\\\\\\"selectedColumn\\\\\\\\\\\\\\\": \\\\\\\\\\\\\\\"MDVP:Jitter(Abs)\\\\\\\\\\\\\\\"}}, \\\\\\\\\\\\\\\"typeProperty\\\\\\\\\\\\\\\": 3}, {\\\\\\\\\\\\\\\"column\\\\\\\\\\\\\\\": {\\\\\\\\\\\\\\\"type\\\\\\\\\\\\\\\": 2, \\\\\\\\\\\\\\\"details\\\\\\\\\\\\\\\": {\\\\\\\\\\\\\\\"selectedColumn\\\\\\\\\\\\\\\": \\\\\\\\\\\\\\\"MDVP:RAP\\\\\\\\\\\\\\\"}}, \\\\\\\\\\\\\\\"typeProperty\\\\\\\\\\\\\\\": 3}, {\\\\\\\\\\\\\\\"column\\\\\\\\\\\\\\\": {\\\\\\\\\\\\\\\"type\\\\\\\\\\\\\\\": 2, \\\\\\\\\\\\\\\"details\\\\\\\\\\\\\\\": {\\\\\\\\\\\\\\\"selectedColumn\\\\\\\\\\\\\\\": \\\\\\\\\\\\\\\"MDVP:PPQ\\\\\\\\\\\\\\\"}}, \\\\\\\\\\\\\\\"typeProperty\\\\\\\\\\\\\\\": 3}, {\\\\\\\\\\\\\\\"column\\\\\\\\\\\\\\\": {\\\\\\\\\\\\\\\"type\\\\\\\\\\\\\\\": 2, \\\\\\\\\\\\\\\"details\\\\\\\\\\\\\\\": {\\\\\\\\\\\\\\\"selectedColumn\\\\\\\\\\\\\\\": \\\\\\\\\\\\\\\"Jitter:DDP\\\\\\\\\\\\\\\"}}, \\\\\\\\\\\\\\\"typeProperty\\\\\\\\\\\\\\\": 3}, {\\\\\\\\\\\\\\\"column\\\\\\\\\\\\\\\": {\\\\\\\\\\\\\\\"type\\\\\\\\\\\\\\\": 2, \\\\\\\\\\\\\\\"details\\\\\\\\\\\\\\\": {\\\\\\\\\\\\\\\"selectedColumn\\\\\\\\\\\\\\\": \\\\\\\\\\\\\\\"MDVP:Shimmer\\\\\\\\\\\\\\\"}}, \\\\\\\\\\\\\\\"typeProperty\\\\\\\\\\\\\\\": 3}, {\\\\\\\\\\\\\\\"column\\\\\\\\\\\\\\\": {\\\\\\\\\\\\\\\"type\\\\\\\\\\\\\\\": 2, \\\\\\\\\\\\\\\"details\\\\\\\\\\\\\\\": {\\\\\\\\\\\\\\\"selectedColumn\\\\\\\\\\\\\\\": \\\\\\\\\\\\\\\"MDVP:Shimmer(dB)\\\\\\\\\\\\\\\"}}, \\\\\\\\\\\\\\\"typeProperty\\\\\\\\\\\\\\\": 3}, {\\\\\\\\\\\\\\\"column\\\\\\\\\\\\\\\": {\\\\\\\\\\\\\\\"type\\\\\\\\\\\\\\\": 2, \\\\\\\\\\\\\\\"details\\\\\\\\\\\\\\\": {\\\\\\\\\\\\\\\"selectedColumn\\\\\\\\\\\\\\\": \\\\\\\\\\\\\\\"Shimmer:APQ3\\\\\\\\\\\\\\\"}}, \\\\\\\\\\\\\\\"typeProperty\\\\\\\\\\\\\\\": 3}, {\\\\\\\\\\\\\\\"column\\\\\\\\\\\\\\\": {\\\\\\\\\\\\\\\"type\\\\\\\\\\\\\\\": 2, \\\\\\\\\\\\\\\"details\\\\\\\\\\\\\\\": {\\\\\\\\\\\\\\\"selectedColumn\\\\\\\\\\\\\\\": \\\\\\\\\\\\\\\"Shimmer:APQ5\\\\\\\\\\\\\\\"}}, \\\\\\\\\\\\\\\"typeProperty\\\\\\\\\\\\\\\": 3}, {\\\\\\\\\\\\\\\"column\\\\\\\\\\\\\\\": {\\\\\\\\\\\\\\\"type\\\\\\\\\\\\\\\": 2, \\\\\\\\\\\\\\\"details\\\\\\\\\\\\\\\": {\\\\\\\\\\\\\\\"selectedColumn\\\\\\\\\\\\\\\": \\\\\\\\\\\\\\\"MDVP:APQ\\\\\\\\\\\\\\\"}}, \\\\\\\\\\\\\\\"typeProperty\\\\\\\\\\\\\\\": 3}, {\\\\\\\\\\\\\\\"column\\\\\\\\\\\\\\\": {\\\\\\\\\\\\\\\"type\\\\\\\\\\\\\\\": 2, \\\\\\\\\\\\\\\"details\\\\\\\\\\\\\\\": {\\\\\\\\\\\\\\\"selectedColumn\\\\\\\\\\\\\\\": \\\\\\\\\\\\\\\"Shimmer:DDA\\\\\\\\\\\\\\\"}}, \\\\\\\\\\\\\\\"typeProperty\\\\\\\\\\\\\\\": 3}, {\\\\\\\\\\\\\\\"column\\\\\\\\\\\\\\\": {\\\\\\\\\\\\\\\"type\\\\\\\\\\\\\\\": 2, \\\\\\\\\\\\\\\"details\\\\\\\\\\\\\\\": {\\\\\\\\\\\\\\\"selectedColumn\\\\\\\\\\\\\\\": \\\\\\\\\\\\\\\"NHR\\\\\\\\\\\\\\\"}}, \\\\\\\\\\\\\\\"typeProperty\\\\\\\\\\\\\\\": 3}, {\\\\\\\\\\\\\\\"column\\\\\\\\\\\\\\\": {\\\\\\\\\\\\\\\"type\\\\\\\\\\\\\\\": 2, \\\\\\\\\\\\\\\"details\\\\\\\\\\\\\\\": {\\\\\\\\\\\\\\\"selectedColumn\\\\\\\\\\\\\\\": \\\\\\\\\\\\\\\"HNR\\\\\\\\\\\\\\\"}}, \\\\\\\\\\\\\\\"typeProperty\\\\\\\\\\\\\\\": 3}, {\\\\\\\\\\\\\\\"column\\\\\\\\\\\\\\\": {\\\\\\\\\\\\\\\"type\\\\\\\\\\\\\\\": 2, \\\\\\\\\\\\\\\"details\\\\\\\\\\\\\\\": {\\\\\\\\\\\\\\\"selectedColumn\\\\\\\\\\\\\\\": \\\\\\\\\\\\\\\"status\\\\\\\\\\\\\\\"}}, \\\\\\\\\\\\\\\"typeProperty\\\\\\\\\\\\\\\": 2}, {\\\\\\\\\\\\\\\"column\\\\\\\\\\\\\\\": {\\\\\\\\\\\\\\\"type\\\\\\\\\\\\\\\": 2, \\\\\\\\\\\\\\\"details\\\\\\\\\\\\\\\": {\\\\\\\\\\\\\\\"selectedColumn\\\\\\\\\\\\\\\": \\\\\\\\\\\\\\\"RPDE\\\\\\\\\\\\\\\"}}, \\\\\\\\\\\\\\\"typeProperty\\\\\\\\\\\\\\\": 3}, {\\\\\\\\\\\\\\\"column\\\\\\\\\\\\\\\": {\\\\\\\\\\\\\\\"type\\\\\\\\\\\\\\\": 2, \\\\\\\\\\\\\\\"details\\\\\\\\\\\\\\\": {\\\\\\\\\\\\\\\"selectedColumn\\\\\\\\\\\\\\\": \\\\\\\\\\\\\\\"DFA\\\\\\\\\\\\\\\"}}, \\\\\\\\\\\\\\\"typeProperty\\\\\\\\\\\\\\\": 3}, {\\\\\\\\\\\\\\\"column\\\\\\\\\\\\\\\": {\\\\\\\\\\\\\\\"type\\\\\\\\\\\\\\\": 2, \\\\\\\\\\\\\\\"details\\\\\\\\\\\\\\\": {\\\\\\\\\\\\\\\"selectedColumn\\\\\\\\\\\\\\\": \\\\\\\\\\\\\\\"spread1\\\\\\\\\\\\\\\"}}, \\\\\\\\\\\\\\\"typeProperty\\\\\\\\\\\\\\\": 3}, {\\\\\\\\\\\\\\\"column\\\\\\\\\\\\\\\": {\\\\\\\\\\\\\\\"type\\\\\\\\\\\\\\\": 2, \\\\\\\\\\\\\\\"details\\\\\\\\\\\\\\\": {\\\\\\\\\\\\\\\"selectedColumn\\\\\\\\\\\\\\\": \\\\\\\\\\\\\\\"spread2\\\\\\\\\\\\\\\"}}, \\\\\\\\\\\\\\\"typeProperty\\\\\\\\\\\\\\\": 3}, {\\\\\\\\\\\\\\\"column\\\\\\\\\\\\\\\": {\\\\\\\\\\\\\\\"type\\\\\\\\\\\\\\\": 2, \\\\\\\\\\\\\\\"details\\\\\\\\\\\\\\\": {\\\\\\\\\\\\\\\"selectedColumn\\\\\\\\\\\\\\\": \\\\\\\\\\\\\\\"D2\\\\\\\\\\\\\\\"}}, \\\\\\\\\\\\\\\"typeProperty\\\\\\\\\\\\\\\": 3}, {\\\\\\\\\\\\\\\"column\\\\\\\\\\\\\\\": {\\\\\\\\\\\\\\\"type\\\\\\\\\\\\\\\": 2, \\\\\\\\\\\\\\\"details\\\\\\\\\\\\\\\": {\\\\\\\\\\\\\\\"selectedColumn\\\\\\\\\\\\\\\": \\\\\\\\\\\\\\\"PPE\\\\\\\\\\\\\\\"}}, \\\\\\\\\\\\\\\"typeProperty\\\\\\\\\\\\\\\": 3}]}, \\\\\\\\\\\\\\\"localData\\\\\\\\\\\\\\\": {}, \\\\\\\\\\\\\\\"isEnabled\\\\\\\\\\\\\\\": true, \\\\\\\\\\\\\\\"name\\\\\\\\\\\\\\\": null, \\\\\\\\\\\\\\\"annotation\\\\\\\\\\\\\\\": null}], \\\\\\\\\\\\\\\"inspectors\\\\\\\\\\\\\\\": [], \\\\\\\\\\\\\\\"meta\\\\\\\\\\\\\\\": {\\\\\\\\\\\\\\\"savedDatasetId\\\\\\\\\\\\\\\": \\\\\\\\\\\\\\\"dc8c7f14-dc97-44c4-989c-80e686d03132\\\\\\\\\\\\\\\", \\\\\\\\\\\\\\\"datasetType\\\\\\\\\\\\\\\": \\\\\\\\\\\\\\\"tabular\\\\\\\\\\\\\\\", \\\\\\\\\\\\\\\"subscriptionId\\\\\\\\\\\\\\\": \\\\\\\\\\\\\\\"61c5c3f0-6dc7-4ed9-a7f3-c704b20e3b30\\\\\\\\\\\\\\\", \\\\\\\\\\\\\\\"workspaceId\\\\\\\\\\\\\\\": \\\\\\\\\\\\\\\"d6aa7363-0519-487c-8b11-99892a0f200f\\\\\\\\\\\\\\\", \\\\\\\\\\\\\\\"workspaceLocation\\\\\\\\\\\\\\\": \\\\\\\\\\\\\\\"southcentralus\\\\\\\\\\\\\\\"}}\\\\\\\", \\\\\\\"activities\\\\\\\": 0}\", \"EnableSubsampling\": null, \"runTemplate\": \"AutoML\", \"azureml.runsource\": \"automl\", \"display_task_type\": \"classification\", \"dependencies_versions\": \"{\\\"azureml-widgets\\\": \\\"1.20.0\\\", \\\"azureml-train\\\": \\\"1.20.0\\\", \\\"azureml-train-restclients-hyperdrive\\\": \\\"1.20.0\\\", \\\"azureml-train-core\\\": \\\"1.20.0\\\", \\\"azureml-train-automl\\\": \\\"1.20.0\\\", \\\"azureml-train-automl-runtime\\\": \\\"1.20.0\\\", \\\"azureml-train-automl-client\\\": \\\"1.20.0\\\", \\\"azureml-tensorboard\\\": \\\"1.20.0\\\", \\\"azureml-telemetry\\\": \\\"1.20.0\\\", \\\"azureml-sdk\\\": \\\"1.20.0\\\", \\\"azureml-samples\\\": \\\"0+unknown\\\", \\\"azureml-pipeline\\\": \\\"1.20.0\\\", \\\"azureml-pipeline-steps\\\": \\\"1.20.0\\\", \\\"azureml-pipeline-core\\\": \\\"1.20.0\\\", \\\"azureml-opendatasets\\\": \\\"1.20.0\\\", \\\"azureml-model-management-sdk\\\": \\\"1.0.1b6.post1\\\", \\\"azureml-mlflow\\\": \\\"1.20.0.post1\\\", \\\"azureml-interpret\\\": \\\"1.20.0\\\", \\\"azureml-explain-model\\\": \\\"1.20.0\\\", \\\"azureml-defaults\\\": \\\"1.20.0\\\", \\\"azureml-dataset-runtime\\\": \\\"1.20.0\\\", \\\"azureml-dataprep\\\": \\\"2.7.3\\\", \\\"azureml-dataprep-rslex\\\": \\\"1.5.0\\\", \\\"azureml-dataprep-native\\\": \\\"27.0.0\\\", \\\"azureml-datadrift\\\": \\\"1.20.0\\\", \\\"azureml-core\\\": \\\"1.20.0\\\", \\\"azureml-contrib-services\\\": \\\"1.20.0\\\", \\\"azureml-contrib-server\\\": \\\"1.20.0\\\", \\\"azureml-contrib-reinforcementlearning\\\": \\\"1.20.0\\\", \\\"azureml-contrib-pipeline-steps\\\": \\\"1.20.0\\\", \\\"azureml-contrib-notebook\\\": \\\"1.20.0\\\", \\\"azureml-contrib-interpret\\\": \\\"1.20.0\\\", \\\"azureml-contrib-gbdt\\\": \\\"1.20.0\\\", \\\"azureml-contrib-fairness\\\": \\\"1.20.0\\\", \\\"azureml-contrib-dataset\\\": \\\"1.20.0\\\", \\\"azureml-cli-common\\\": \\\"1.20.0\\\", \\\"azureml-automl-runtime\\\": \\\"1.20.0\\\", \\\"azureml-automl-core\\\": \\\"1.20.0\\\", \\\"azureml-accel-models\\\": \\\"1.20.0\\\"}\", \"_aml_system_scenario_identification\": \"Remote.Parent\", \"ClientType\": \"SDK\", \"environment_cpu_name\": \"AzureML-AutoML\", \"environment_cpu_label\": \"prod\", \"environment_gpu_name\": \"AzureML-AutoML-GPU\", \"environment_gpu_label\": \"prod\", \"root_attribution\": \"automl\", \"attribution\": \"AutoML\", \"Orchestrator\": \"AutoML\", \"CancelUri\": \"https://southcentralus.experiments.azureml.net/jasmine/v1.0/subscriptions/61c5c3f0-6dc7-4ed9-a7f3-c704b20e3b30/resourceGroups/aml-quickstarts-137760/providers/Microsoft.MachineLearningServices/workspaces/quick-starts-ws-137760/experimentids/26bc857e-d7d3-45f3-80d2-4979b2118c53/cancel/AutoML_a647e683-2a75-47a6-8915-7892ca77fef2\", \"ClientSdkVersion\": \"1.21.0\", \"snapshotId\": \"00000000-0000-0000-0000-000000000000\", \"SetupRunId\": \"AutoML_a647e683-2a75-47a6-8915-7892ca77fef2_setup\", \"SetupRunContainerId\": \"dcid.AutoML_a647e683-2a75-47a6-8915-7892ca77fef2_setup\", \"FeaturizationRunJsonPath\": \"featurizer_container.json\", \"FeaturizationRunId\": \"AutoML_a647e683-2a75-47a6-8915-7892ca77fef2_featurize\", \"ProblemInfoJsonString\": \"{\\\"dataset_num_categorical\\\": 0, \\\"is_sparse\\\": false, \\\"subsampling\\\": false, \\\"dataset_classes\\\": 2, \\\"dataset_features\\\": 23, \\\"dataset_samples\\\": 195, \\\"single_frequency_class_detected\\\": false}\", \"ModelExplainRunId\": \"AutoML_a647e683-2a75-47a6-8915-7892ca77fef2_ModelExplain\"}, \"tags\": {\"model_explain_run\": \"best_run\", \"_aml_system_azureml.automlComponent\": \"AutoML\", \"pipeline_id\": \"\", \"score\": \"\", \"predicted_cost\": \"\", \"fit_time\": \"\", \"training_percent\": \"\", \"iteration\": \"\", \"run_preprocessor\": \"\", \"run_algorithm\": \"\", \"dynamic_whitelisting_iterations\": \"<25>;<30>;<35>;<40>;<45>;\", \"automl_best_child_run_id\": \"AutoML_a647e683-2a75-47a6-8915-7892ca77fef2_47\", \"model_explain_best_run_child_id\": \"AutoML_a647e683-2a75-47a6-8915-7892ca77fef2_47\"}, \"end_time_utc\": \"2021-02-07T08:04:20.696772Z\", \"status\": \"Completed\", \"log_files\": {}, \"log_groups\": [], \"run_duration\": \"0:24:59\"}, \"child_runs\": [{\"run_id\": \"AutoML_a647e683-2a75-47a6-8915-7892ca77fef2_0\", \"run_number\": 6, \"metric\": null, \"status\": \"Completed\", \"run_type\": \"azureml.scriptrun\", \"training_percent\": \"100\", \"start_time\": \"2021-02-07T07:47:47.277649Z\", \"end_time\": \"2021-02-07T07:49:59.056566Z\", \"created_time\": \"2021-02-07T07:45:42.227829Z\", \"created_time_dt\": \"2021-02-07T07:45:42.227829Z\", \"duration\": \"0:04:16\", \"iteration\": \"0\", \"goal\": \"accuracy_max\", \"run_name\": \"MaxAbsScaler, LightGBM\", \"run_properties\": \"copy=True\", \"primary_metric\": 0.96410256, \"best_metric\": 0.96410256}, {\"run_id\": \"AutoML_a647e683-2a75-47a6-8915-7892ca77fef2_1\", \"run_number\": 7, \"metric\": null, \"status\": \"Completed\", \"run_type\": \"azureml.scriptrun\", \"training_percent\": \"100\", \"start_time\": \"2021-02-07T07:47:47.250816Z\", \"end_time\": \"2021-02-07T07:49:57.566955Z\", \"created_time\": \"2021-02-07T07:45:42.231722Z\", \"created_time_dt\": \"2021-02-07T07:45:42.231722Z\", \"duration\": \"0:04:15\", \"iteration\": \"1\", \"goal\": \"accuracy_max\", \"run_name\": \"MaxAbsScaler, XGBoostClassifier\", \"run_properties\": \"copy=True\", \"primary_metric\": 0.96410256, \"best_metric\": 0.96410256}, {\"run_id\": \"AutoML_a647e683-2a75-47a6-8915-7892ca77fef2_2\", \"run_number\": 8, \"metric\": null, \"status\": \"Completed\", \"run_type\": \"azureml.scriptrun\", \"training_percent\": \"100\", \"start_time\": \"2021-02-07T07:46:55.959116Z\", \"end_time\": \"2021-02-07T07:47:49.904207Z\", \"created_time\": \"2021-02-07T07:45:42.277669Z\", \"created_time_dt\": \"2021-02-07T07:45:42.277669Z\", \"duration\": \"0:02:07\", \"iteration\": \"2\", \"goal\": \"accuracy_max\", \"run_name\": \"MinMaxScaler, RandomForest\", \"run_properties\": \"copy=True, feature_range=(0, 1\", \"primary_metric\": 0.9025641, \"best_metric\": 0.96410256}, {\"run_id\": \"AutoML_a647e683-2a75-47a6-8915-7892ca77fef2_3\", \"run_number\": 9, \"metric\": null, \"status\": \"Completed\", \"run_type\": \"azureml.scriptrun\", \"training_percent\": \"100\", \"start_time\": \"2021-02-07T07:45:53.770131Z\", \"end_time\": \"2021-02-07T07:46:53.348553Z\", \"created_time\": \"2021-02-07T07:45:42.825204Z\", \"created_time_dt\": \"2021-02-07T07:45:42.825204Z\", \"duration\": \"0:01:10\", \"iteration\": \"3\", \"goal\": \"accuracy_max\", \"run_name\": \"MinMaxScaler, RandomForest\", \"run_properties\": \"copy=True, feature_range=(0, 1\", \"primary_metric\": 0.89230769, \"best_metric\": 0.96410256}, {\"run_id\": \"AutoML_a647e683-2a75-47a6-8915-7892ca77fef2_4\", \"run_number\": 10, \"metric\": null, \"status\": \"Completed\", \"run_type\": \"azureml.scriptrun\", \"training_percent\": \"100\", \"start_time\": \"2021-02-07T07:47:46.198815Z\", \"end_time\": \"2021-02-07T07:49:51.173215Z\", \"created_time\": \"2021-02-07T07:46:56.148759Z\", \"created_time_dt\": \"2021-02-07T07:46:56.148759Z\", \"duration\": \"0:02:55\", \"iteration\": \"4\", \"goal\": \"accuracy_max\", \"run_name\": \"MinMaxScaler, RandomForest\", \"run_properties\": \"copy=True, feature_range=(0, 1\", \"primary_metric\": 0.91282051, \"best_metric\": 0.96410256}, {\"run_id\": \"AutoML_a647e683-2a75-47a6-8915-7892ca77fef2_5\", \"run_number\": 11, \"metric\": null, \"status\": \"Completed\", \"run_type\": \"azureml.scriptrun\", \"training_percent\": \"100\", \"start_time\": \"2021-02-07T07:48:06.809388Z\", \"end_time\": \"2021-02-07T07:49:07.900951Z\", \"created_time\": \"2021-02-07T07:47:52.836817Z\", \"created_time_dt\": \"2021-02-07T07:47:52.836817Z\", \"duration\": \"0:01:15\", \"iteration\": \"5\", \"goal\": \"accuracy_max\", \"run_name\": \"MinMaxScaler, SVM\", \"run_properties\": \"copy=True, feature_range=(0, 1\", \"primary_metric\": 0.96923077, \"best_metric\": 0.96923077}, {\"run_id\": \"AutoML_a647e683-2a75-47a6-8915-7892ca77fef2_6\", \"run_number\": 12, \"metric\": null, \"status\": \"Completed\", \"run_type\": \"azureml.scriptrun\", \"training_percent\": \"100\", \"start_time\": \"2021-02-07T07:49:23.509429Z\", \"end_time\": \"2021-02-07T07:50:11.535263Z\", \"created_time\": \"2021-02-07T07:49:11.573034Z\", \"created_time_dt\": \"2021-02-07T07:49:11.573034Z\", \"duration\": \"0:00:59\", \"iteration\": \"6\", \"goal\": \"accuracy_max\", \"run_name\": \"SparseNormalizer, XGBoostClassifier\", \"run_properties\": \"<azureml.automl.runtime.shared.model_wrappers.SparseNormalizer object at 0x7fbe97b76358\", \"primary_metric\": 0.89230769, \"best_metric\": 0.96923077}, {\"run_id\": \"AutoML_a647e683-2a75-47a6-8915-7892ca77fef2_7\", \"run_number\": 13, \"metric\": null, \"status\": \"Completed\", \"run_type\": \"azureml.scriptrun\", \"training_percent\": \"100\", \"start_time\": \"2021-02-07T07:50:03.325873Z\", \"end_time\": \"2021-02-07T07:50:57.153897Z\", \"created_time\": \"2021-02-07T07:49:52.899952Z\", \"created_time_dt\": \"2021-02-07T07:49:52.899952Z\", \"duration\": \"0:01:04\", \"iteration\": \"7\", \"goal\": \"accuracy_max\", \"run_name\": \"SparseNormalizer, XGBoostClassifier\", \"run_properties\": \"<azureml.automl.runtime.shared.model_wrappers.SparseNormalizer object at 0x7fe62dc2f630\", \"primary_metric\": 0.94358974, \"best_metric\": 0.96923077}, {\"run_id\": \"AutoML_a647e683-2a75-47a6-8915-7892ca77fef2_8\", \"run_number\": 14, \"metric\": null, \"status\": \"Completed\", \"run_type\": \"azureml.scriptrun\", \"training_percent\": \"100\", \"start_time\": \"2021-02-07T07:50:12.909244Z\", \"end_time\": \"2021-02-07T07:51:11.522045Z\", \"created_time\": \"2021-02-07T07:49:59.424189Z\", \"created_time_dt\": \"2021-02-07T07:49:59.424189Z\", \"duration\": \"0:01:12\", \"iteration\": \"8\", \"goal\": \"accuracy_max\", \"run_name\": \"MaxAbsScaler, GradientBoosting\", \"run_properties\": \"copy=True\", \"primary_metric\": 0.96923077, \"best_metric\": 0.96923077}, {\"run_id\": \"AutoML_a647e683-2a75-47a6-8915-7892ca77fef2_9\", \"run_number\": 15, \"metric\": null, \"status\": \"Completed\", \"run_type\": \"azureml.scriptrun\", \"training_percent\": \"100\", \"start_time\": \"2021-02-07T07:50:18.56003Z\", \"end_time\": \"2021-02-07T07:51:08.485897Z\", \"created_time\": \"2021-02-07T07:50:03.229Z\", \"created_time_dt\": \"2021-02-07T07:50:03.229Z\", \"duration\": \"0:01:05\", \"iteration\": \"9\", \"goal\": \"accuracy_max\", \"run_name\": \"SparseNormalizer, LightGBM\", \"run_properties\": \"<azureml.automl.runtime.shared.model_wrappers.SparseNormalizer object at 0x7f2e384a7be0\", \"primary_metric\": 0.9025641, \"best_metric\": 0.96923077}, {\"run_id\": \"AutoML_a647e683-2a75-47a6-8915-7892ca77fef2_10\", \"run_number\": 16, \"metric\": null, \"status\": \"Completed\", \"run_type\": \"azureml.scriptrun\", \"training_percent\": \"100\", \"start_time\": \"2021-02-07T07:50:23.998068Z\", \"end_time\": \"2021-02-07T07:51:18.094773Z\", \"created_time\": \"2021-02-07T07:50:13.227003Z\", \"created_time_dt\": \"2021-02-07T07:50:13.227003Z\", \"duration\": \"0:01:04\", \"iteration\": \"10\", \"goal\": \"accuracy_max\", \"run_name\": \"MaxAbsScaler, LightGBM\", \"run_properties\": \"copy=True\", \"primary_metric\": 0.8974359, \"best_metric\": 0.96923077}, {\"run_id\": \"AutoML_a647e683-2a75-47a6-8915-7892ca77fef2_11\", \"run_number\": 17, \"metric\": null, \"status\": \"Completed\", \"run_type\": \"azureml.scriptrun\", \"training_percent\": \"100\", \"start_time\": \"2021-02-07T07:51:11.861206Z\", \"end_time\": \"2021-02-07T07:52:01.487168Z\", \"created_time\": \"2021-02-07T07:51:00.643144Z\", \"created_time_dt\": \"2021-02-07T07:51:00.643144Z\", \"duration\": \"0:01:00\", \"iteration\": \"11\", \"goal\": \"accuracy_max\", \"run_name\": \"StandardScalerWrapper, XGBoostClassifier\", \"run_properties\": \"<azureml.automl.runtime.shared.model_wrappers.StandardScalerWrapper object at 0x7fcd94cf1f98\", \"primary_metric\": 0.8974359, \"best_metric\": 0.96923077}, {\"run_id\": \"AutoML_a647e683-2a75-47a6-8915-7892ca77fef2_12\", \"run_number\": 18, \"metric\": null, \"status\": \"Completed\", \"run_type\": \"azureml.scriptrun\", \"training_percent\": \"100\", \"start_time\": \"2021-02-07T07:51:22.136947Z\", \"end_time\": \"2021-02-07T07:52:09.780535Z\", \"created_time\": \"2021-02-07T07:51:11.679092Z\", \"created_time_dt\": \"2021-02-07T07:51:11.679092Z\", \"duration\": \"0:00:58\", \"iteration\": \"12\", \"goal\": \"accuracy_max\", \"run_name\": \"MinMaxScaler, LightGBM\", \"run_properties\": \"copy=True, feature_range=(0, 1\", \"primary_metric\": 0.93333333, \"best_metric\": 0.96923077}, {\"run_id\": \"AutoML_a647e683-2a75-47a6-8915-7892ca77fef2_13\", \"run_number\": 19, \"metric\": null, \"status\": \"Completed\", \"run_type\": \"azureml.scriptrun\", \"training_percent\": \"100\", \"start_time\": \"2021-02-07T07:51:28.41935Z\", \"end_time\": \"2021-02-07T07:52:16.551145Z\", \"created_time\": \"2021-02-07T07:51:15.592337Z\", \"created_time_dt\": \"2021-02-07T07:51:15.592337Z\", \"duration\": \"0:01:00\", \"iteration\": \"13\", \"goal\": \"accuracy_max\", \"run_name\": \"SparseNormalizer, XGBoostClassifier\", \"run_properties\": \"<azureml.automl.runtime.shared.model_wrappers.SparseNormalizer object at 0x7fec92f13940\", \"primary_metric\": 0.93333333, \"best_metric\": 0.96923077}, {\"run_id\": \"AutoML_a647e683-2a75-47a6-8915-7892ca77fef2_14\", \"run_number\": 20, \"metric\": null, \"status\": \"Completed\", \"run_type\": \"azureml.scriptrun\", \"training_percent\": \"100\", \"start_time\": \"2021-02-07T07:51:32.358468Z\", \"end_time\": \"2021-02-07T07:52:21.456836Z\", \"created_time\": \"2021-02-07T07:51:19.82407Z\", \"created_time_dt\": \"2021-02-07T07:51:19.82407Z\", \"duration\": \"0:01:01\", \"iteration\": \"14\", \"goal\": \"accuracy_max\", \"run_name\": \"RobustScaler, ExtremeRandomTrees\", \"run_properties\": \"copy=True, quantile_range=[25, 75], with_centering=True,\\n             with_scaling=False\", \"primary_metric\": 0.88205128, \"best_metric\": 0.96923077}, {\"run_id\": \"AutoML_a647e683-2a75-47a6-8915-7892ca77fef2_15\", \"run_number\": 21, \"metric\": null, \"status\": \"Completed\", \"run_type\": \"azureml.scriptrun\", \"training_percent\": \"100\", \"start_time\": \"2021-02-07T07:52:14.651544Z\", \"end_time\": \"2021-02-07T07:53:08.885049Z\", \"created_time\": \"2021-02-07T07:52:03.736748Z\", \"created_time_dt\": \"2021-02-07T07:52:03.736748Z\", \"duration\": \"0:01:05\", \"iteration\": \"15\", \"goal\": \"accuracy_max\", \"run_name\": \"SparseNormalizer, XGBoostClassifier\", \"run_properties\": \"<azureml.automl.runtime.shared.model_wrappers.SparseNormalizer object at 0x7f4deffa9780\", \"primary_metric\": 0.92307692, \"best_metric\": 0.96923077}, {\"run_id\": \"AutoML_a647e683-2a75-47a6-8915-7892ca77fef2_16\", \"run_number\": 22, \"metric\": null, \"status\": \"Completed\", \"run_type\": \"azureml.scriptrun\", \"training_percent\": \"100\", \"start_time\": \"2021-02-07T07:52:22.683502Z\", \"end_time\": \"2021-02-07T07:53:11.448487Z\", \"created_time\": \"2021-02-07T07:52:11.408558Z\", \"created_time_dt\": \"2021-02-07T07:52:11.408558Z\", \"duration\": \"0:01:00\", \"iteration\": \"16\", \"goal\": \"accuracy_max\", \"run_name\": \"SparseNormalizer, XGBoostClassifier\", \"run_properties\": \"<azureml.automl.runtime.shared.model_wrappers.SparseNormalizer object at 0x7f0648ee6ef0\", \"primary_metric\": 0.95384615, \"best_metric\": 0.96923077}, {\"run_id\": \"AutoML_a647e683-2a75-47a6-8915-7892ca77fef2_17\", \"run_number\": 23, \"metric\": null, \"status\": \"Completed\", \"run_type\": \"azureml.scriptrun\", \"training_percent\": \"100\", \"start_time\": \"2021-02-07T07:52:33.505016Z\", \"end_time\": \"2021-02-07T07:53:31.776883Z\", \"created_time\": \"2021-02-07T07:52:18.264747Z\", \"created_time_dt\": \"2021-02-07T07:52:18.264747Z\", \"duration\": \"0:01:13\", \"iteration\": \"17\", \"goal\": \"accuracy_max\", \"run_name\": \"StandardScalerWrapper, LightGBM\", \"run_properties\": \"<azureml.automl.runtime.shared.model_wrappers.StandardScalerWrapper object at 0x7fb09db8d5c0\", \"primary_metric\": 0.83076923, \"best_metric\": 0.96923077}, {\"run_id\": \"AutoML_a647e683-2a75-47a6-8915-7892ca77fef2_18\", \"run_number\": 24, \"metric\": null, \"status\": \"Completed\", \"run_type\": \"azureml.scriptrun\", \"training_percent\": \"100\", \"start_time\": \"2021-02-07T07:52:36.830827Z\", \"end_time\": \"2021-02-07T07:53:32.577587Z\", \"created_time\": \"2021-02-07T07:52:24.831352Z\", \"created_time_dt\": \"2021-02-07T07:52:24.831352Z\", \"duration\": \"0:01:07\", \"iteration\": \"18\", \"goal\": \"accuracy_max\", \"run_name\": \"MaxAbsScaler, ExtremeRandomTrees\", \"run_properties\": \"copy=True\", \"primary_metric\": 0.91282051, \"best_metric\": 0.96923077}, {\"run_id\": \"AutoML_a647e683-2a75-47a6-8915-7892ca77fef2_19\", \"run_number\": 25, \"metric\": null, \"status\": \"Completed\", \"run_type\": \"azureml.scriptrun\", \"training_percent\": \"100\", \"start_time\": \"2021-02-07T07:53:24.998917Z\", \"end_time\": \"2021-02-07T07:54:22.250526Z\", \"created_time\": \"2021-02-07T07:53:10.948741Z\", \"created_time_dt\": \"2021-02-07T07:53:10.948741Z\", \"duration\": \"0:01:11\", \"iteration\": \"19\", \"goal\": \"accuracy_max\", \"run_name\": \"StandardScalerWrapper, LightGBM\", \"run_properties\": \"<azureml.automl.runtime.shared.model_wrappers.StandardScalerWrapper object at 0x7fc72a15e6a0\", \"primary_metric\": 0.86666667, \"best_metric\": 0.96923077}, {\"run_id\": \"AutoML_a647e683-2a75-47a6-8915-7892ca77fef2_20\", \"run_number\": 26, \"metric\": null, \"status\": \"Completed\", \"run_type\": \"azureml.scriptrun\", \"training_percent\": \"100\", \"start_time\": \"2021-02-07T07:53:30.688675Z\", \"end_time\": \"2021-02-07T07:54:24.877527Z\", \"created_time\": \"2021-02-07T07:53:17.525998Z\", \"created_time_dt\": \"2021-02-07T07:53:17.525998Z\", \"duration\": \"0:01:07\", \"iteration\": \"20\", \"goal\": \"accuracy_max\", \"run_name\": \"RobustScaler, LightGBM\", \"run_properties\": \"copy=True, quantile_range=[25, 75], with_centering=False,\\n             with_scaling=False\", \"primary_metric\": 0.8974359, \"best_metric\": 0.96923077}, {\"run_id\": \"AutoML_a647e683-2a75-47a6-8915-7892ca77fef2_21\", \"run_number\": 27, \"metric\": null, \"status\": \"Completed\", \"run_type\": \"azureml.scriptrun\", \"training_percent\": \"100\", \"start_time\": \"2021-02-07T07:53:46.939246Z\", \"end_time\": \"2021-02-07T07:54:40.258607Z\", \"created_time\": \"2021-02-07T07:53:33.88822Z\", \"created_time_dt\": \"2021-02-07T07:53:33.88822Z\", \"duration\": \"0:01:06\", \"iteration\": \"21\", \"goal\": \"accuracy_max\", \"run_name\": \"SparseNormalizer, XGBoostClassifier\", \"run_properties\": \"<azureml.automl.runtime.shared.model_wrappers.SparseNormalizer object at 0x7fd6666ffbe0\", \"primary_metric\": 0.91282051, \"best_metric\": 0.96923077}, {\"run_id\": \"AutoML_a647e683-2a75-47a6-8915-7892ca77fef2_22\", \"run_number\": 28, \"metric\": null, \"status\": \"Completed\", \"run_type\": \"azureml.scriptrun\", \"training_percent\": \"100\", \"start_time\": \"2021-02-07T07:53:51.630742Z\", \"end_time\": \"2021-02-07T07:54:41.338491Z\", \"created_time\": \"2021-02-07T07:53:38.223709Z\", \"created_time_dt\": \"2021-02-07T07:53:38.223709Z\", \"duration\": \"0:01:03\", \"iteration\": \"22\", \"goal\": \"accuracy_max\", \"run_name\": \"StandardScalerWrapper, LightGBM\", \"run_properties\": \"<azureml.automl.runtime.shared.model_wrappers.StandardScalerWrapper object at 0x7ff06b0b1c88\", \"primary_metric\": 0.93333333, \"best_metric\": 0.96923077}, {\"run_id\": \"AutoML_a647e683-2a75-47a6-8915-7892ca77fef2_23\", \"run_number\": 29, \"metric\": null, \"status\": \"Completed\", \"run_type\": \"azureml.scriptrun\", \"training_percent\": \"100\", \"start_time\": \"2021-02-07T07:54:38.292108Z\", \"end_time\": \"2021-02-07T07:55:27.263697Z\", \"created_time\": \"2021-02-07T07:54:24.616763Z\", \"created_time_dt\": \"2021-02-07T07:54:24.616763Z\", \"duration\": \"0:01:02\", \"iteration\": \"23\", \"goal\": \"accuracy_max\", \"run_name\": \"SparseNormalizer, KNN\", \"run_properties\": \"<azureml.automl.runtime.shared.model_wrappers.SparseNormalizer object at 0x7fc4f7845ac8\", \"primary_metric\": 0.86666667, \"best_metric\": 0.96923077}, {\"run_id\": \"AutoML_a647e683-2a75-47a6-8915-7892ca77fef2_24\", \"run_number\": 30, \"metric\": null, \"status\": \"Completed\", \"run_type\": \"azureml.scriptrun\", \"training_percent\": \"100\", \"start_time\": \"2021-02-07T07:54:40.225081Z\", \"end_time\": \"2021-02-07T07:55:28.568007Z\", \"created_time\": \"2021-02-07T07:54:29.88687Z\", \"created_time_dt\": \"2021-02-07T07:54:29.88687Z\", \"duration\": \"0:00:58\", \"iteration\": \"24\", \"goal\": \"accuracy_max\", \"run_name\": \"RobustScaler, KNN\", \"run_properties\": \"copy=True, quantile_range=[10, 90], with_centering=True,\\n             with_scaling=False\", \"primary_metric\": 0.93846154, \"best_metric\": 0.96923077}, {\"run_id\": \"AutoML_a647e683-2a75-47a6-8915-7892ca77fef2_25\", \"run_number\": 31, \"metric\": null, \"status\": \"Completed\", \"run_type\": \"azureml.scriptrun\", \"training_percent\": \"100\", \"start_time\": \"2021-02-07T07:54:56.756954Z\", \"end_time\": \"2021-02-07T07:55:52.176393Z\", \"created_time\": \"2021-02-07T07:54:43.021346Z\", \"created_time_dt\": \"2021-02-07T07:54:43.021346Z\", \"duration\": \"0:01:09\", \"iteration\": \"25\", \"goal\": \"accuracy_max\", \"run_name\": \"StandardScalerWrapper, GradientBoosting\", \"run_properties\": \"<azureml.automl.runtime.shared.model_wrappers.StandardScalerWrapper object at 0x7fe5ec3c2c50\", \"primary_metric\": 0.8, \"best_metric\": 0.96923077}, {\"run_id\": \"AutoML_a647e683-2a75-47a6-8915-7892ca77fef2_26\", \"run_number\": 32, \"metric\": null, \"status\": \"Completed\", \"run_type\": \"azureml.scriptrun\", \"training_percent\": \"100\", \"start_time\": \"2021-02-07T07:54:59.916053Z\", \"end_time\": \"2021-02-07T07:55:49.2067Z\", \"created_time\": \"2021-02-07T07:54:47.456546Z\", \"created_time_dt\": \"2021-02-07T07:54:47.456546Z\", \"duration\": \"0:01:01\", \"iteration\": \"26\", \"goal\": \"accuracy_max\", \"run_name\": \"SparseNormalizer, RandomForest\", \"run_properties\": \"<azureml.automl.runtime.shared.model_wrappers.SparseNormalizer object at 0x7f371de4fcc0\", \"primary_metric\": 0.91794872, \"best_metric\": 0.96923077}, {\"run_id\": \"AutoML_a647e683-2a75-47a6-8915-7892ca77fef2_27\", \"run_number\": 33, \"metric\": null, \"status\": \"Completed\", \"run_type\": \"azureml.scriptrun\", \"training_percent\": \"100\", \"start_time\": \"2021-02-07T07:55:41.278925Z\", \"end_time\": \"2021-02-07T07:56:24.907597Z\", \"created_time\": \"2021-02-07T07:55:28.892231Z\", \"created_time_dt\": \"2021-02-07T07:55:28.892231Z\", \"duration\": \"0:00:56\", \"iteration\": \"27\", \"goal\": \"accuracy_max\", \"run_name\": \"MaxAbsScaler, ExtremeRandomTrees\", \"run_properties\": \"copy=True\", \"primary_metric\": 0.83589744, \"best_metric\": 0.96923077}, {\"run_id\": \"AutoML_a647e683-2a75-47a6-8915-7892ca77fef2_28\", \"run_number\": 34, \"metric\": null, \"status\": \"Completed\", \"run_type\": \"azureml.scriptrun\", \"training_percent\": \"100\", \"start_time\": \"2021-02-07T07:55:43.430558Z\", \"end_time\": \"2021-02-07T07:56:29.015261Z\", \"created_time\": \"2021-02-07T07:55:32.439257Z\", \"created_time_dt\": \"2021-02-07T07:55:32.439257Z\", \"duration\": \"0:00:56\", \"iteration\": \"28\", \"goal\": \"accuracy_max\", \"run_name\": \"SparseNormalizer, ExtremeRandomTrees\", \"run_properties\": \"<azureml.automl.runtime.shared.model_wrappers.SparseNormalizer object at 0x7f70bccf7e48\", \"primary_metric\": 0.87179487, \"best_metric\": 0.96923077}, {\"run_id\": \"AutoML_a647e683-2a75-47a6-8915-7892ca77fef2_29\", \"run_number\": 35, \"metric\": null, \"status\": \"Completed\", \"run_type\": \"azureml.scriptrun\", \"training_percent\": \"100\", \"start_time\": \"2021-02-07T07:56:02.239172Z\", \"end_time\": \"2021-02-07T07:56:58.798805Z\", \"created_time\": \"2021-02-07T07:55:51.277929Z\", \"created_time_dt\": \"2021-02-07T07:55:51.277929Z\", \"duration\": \"0:01:07\", \"iteration\": \"29\", \"goal\": \"accuracy_max\", \"run_name\": \"SparseNormalizer, XGBoostClassifier\", \"run_properties\": \"<azureml.automl.runtime.shared.model_wrappers.SparseNormalizer object at 0x7f458ea7a780\", \"primary_metric\": 0.90769231, \"best_metric\": 0.96923077}, {\"run_id\": \"AutoML_a647e683-2a75-47a6-8915-7892ca77fef2_30\", \"run_number\": 36, \"metric\": null, \"status\": \"Completed\", \"run_type\": \"azureml.scriptrun\", \"training_percent\": \"100\", \"start_time\": \"2021-02-07T07:56:05.024499Z\", \"end_time\": \"2021-02-07T07:57:01.43476Z\", \"created_time\": \"2021-02-07T07:55:55.148739Z\", \"created_time_dt\": \"2021-02-07T07:55:55.148739Z\", \"duration\": \"0:01:06\", \"iteration\": \"30\", \"goal\": \"accuracy_max\", \"run_name\": \"MinMaxScaler, GradientBoosting\", \"run_properties\": \"copy=True, feature_range=(0, 1\", \"primary_metric\": 0.75384615, \"best_metric\": 0.96923077}, {\"run_id\": \"AutoML_a647e683-2a75-47a6-8915-7892ca77fef2_31\", \"run_number\": 37, \"metric\": null, \"status\": \"Completed\", \"run_type\": \"azureml.scriptrun\", \"training_percent\": \"100\", \"start_time\": \"2021-02-07T07:56:37.184954Z\", \"end_time\": \"2021-02-07T07:57:27.617875Z\", \"created_time\": \"2021-02-07T07:56:26.632586Z\", \"created_time_dt\": \"2021-02-07T07:56:26.632586Z\", \"duration\": \"0:01:00\", \"iteration\": \"31\", \"goal\": \"accuracy_max\", \"run_name\": \"StandardScalerWrapper, XGBoostClassifier\", \"run_properties\": \"<azureml.automl.runtime.shared.model_wrappers.StandardScalerWrapper object at 0x7f3d9d481b38\", \"primary_metric\": 0.92307692, \"best_metric\": 0.96923077}, {\"run_id\": \"AutoML_a647e683-2a75-47a6-8915-7892ca77fef2_32\", \"run_number\": 38, \"metric\": null, \"status\": \"Completed\", \"run_type\": \"azureml.scriptrun\", \"training_percent\": \"100\", \"start_time\": \"2021-02-07T07:56:43.323959Z\", \"end_time\": \"2021-02-07T07:57:38.911129Z\", \"created_time\": \"2021-02-07T07:56:30.78253Z\", \"created_time_dt\": \"2021-02-07T07:56:30.78253Z\", \"duration\": \"0:01:08\", \"iteration\": \"32\", \"goal\": \"accuracy_max\", \"run_name\": \"StandardScalerWrapper, XGBoostClassifier\", \"run_properties\": \"<azureml.automl.runtime.shared.model_wrappers.StandardScalerWrapper object at 0x7f170b9793c8\", \"primary_metric\": 0.91794872, \"best_metric\": 0.96923077}, {\"run_id\": \"AutoML_a647e683-2a75-47a6-8915-7892ca77fef2_33\", \"run_number\": 39, \"metric\": null, \"status\": \"Completed\", \"run_type\": \"azureml.scriptrun\", \"training_percent\": \"100\", \"start_time\": \"2021-02-07T07:57:13.279367Z\", \"end_time\": \"2021-02-07T07:58:08.516773Z\", \"created_time\": \"2021-02-07T07:57:01.059167Z\", \"created_time_dt\": \"2021-02-07T07:57:01.059167Z\", \"duration\": \"0:01:07\", \"iteration\": \"33\", \"goal\": \"accuracy_max\", \"run_name\": \"SparseNormalizer, XGBoostClassifier\", \"run_properties\": \"<azureml.automl.runtime.shared.model_wrappers.SparseNormalizer object at 0x7f5632352940\", \"primary_metric\": 0.94358974, \"best_metric\": 0.96923077}, {\"run_id\": \"AutoML_a647e683-2a75-47a6-8915-7892ca77fef2_34\", \"run_number\": 40, \"metric\": null, \"status\": \"Completed\", \"run_type\": \"azureml.scriptrun\", \"training_percent\": \"100\", \"start_time\": \"2021-02-07T07:57:20.296571Z\", \"end_time\": \"2021-02-07T07:58:15.513297Z\", \"created_time\": \"2021-02-07T07:57:06.053345Z\", \"created_time_dt\": \"2021-02-07T07:57:06.053345Z\", \"duration\": \"0:01:09\", \"iteration\": \"34\", \"goal\": \"accuracy_max\", \"run_name\": \"MinMaxScaler, LogisticRegression\", \"run_properties\": \"copy=True, feature_range=(0, 1\", \"primary_metric\": 0.83076923, \"best_metric\": 0.96923077}, {\"run_id\": \"AutoML_a647e683-2a75-47a6-8915-7892ca77fef2_35\", \"run_number\": 41, \"metric\": null, \"status\": \"Completed\", \"run_type\": \"azureml.scriptrun\", \"training_percent\": \"100\", \"start_time\": \"2021-02-07T07:57:45.810614Z\", \"end_time\": \"2021-02-07T07:58:38.594734Z\", \"created_time\": \"2021-02-07T07:57:31.74135Z\", \"created_time_dt\": \"2021-02-07T07:57:31.74135Z\", \"duration\": \"0:01:06\", \"iteration\": \"35\", \"goal\": \"accuracy_max\", \"run_name\": \"StandardScalerWrapper, GradientBoosting\", \"run_properties\": \"<azureml.automl.runtime.shared.model_wrappers.StandardScalerWrapper object at 0x7f4d1d41ca20\", \"primary_metric\": 0.95384615, \"best_metric\": 0.96923077}, {\"run_id\": \"AutoML_a647e683-2a75-47a6-8915-7892ca77fef2_36\", \"run_number\": 42, \"metric\": null, \"status\": \"Completed\", \"run_type\": \"azureml.scriptrun\", \"training_percent\": \"100\", \"start_time\": \"2021-02-07T07:57:53.117414Z\", \"end_time\": \"2021-02-07T07:58:44.789793Z\", \"created_time\": \"2021-02-07T07:57:40.918632Z\", \"created_time_dt\": \"2021-02-07T07:57:40.918632Z\", \"duration\": \"0:01:03\", \"iteration\": \"36\", \"goal\": \"accuracy_max\", \"run_name\": \"StandardScalerWrapper, LogisticRegression\", \"run_properties\": \"<azureml.automl.runtime.shared.model_wrappers.StandardScalerWrapper object at 0x7f86fac15278\", \"primary_metric\": 0.84102564, \"best_metric\": 0.96923077}, {\"run_id\": \"AutoML_a647e683-2a75-47a6-8915-7892ca77fef2_37\", \"run_number\": 43, \"metric\": null, \"status\": \"Completed\", \"run_type\": \"azureml.scriptrun\", \"training_percent\": \"100\", \"start_time\": \"2021-02-07T07:58:20.408793Z\", \"end_time\": \"2021-02-07T07:59:08.940952Z\", \"created_time\": \"2021-02-07T07:58:10.362056Z\", \"created_time_dt\": \"2021-02-07T07:58:10.362056Z\", \"duration\": \"0:00:58\", \"iteration\": \"37\", \"goal\": \"accuracy_max\", \"run_name\": \"SparseNormalizer, XGBoostClassifier\", \"run_properties\": \"<azureml.automl.runtime.shared.model_wrappers.SparseNormalizer object at 0x7f8f0280ae48\", \"primary_metric\": 0.86153846, \"best_metric\": 0.96923077}, {\"run_id\": \"AutoML_a647e683-2a75-47a6-8915-7892ca77fef2_38\", \"run_number\": 44, \"metric\": null, \"status\": \"Completed\", \"run_type\": \"azureml.scriptrun\", \"training_percent\": \"100\", \"start_time\": \"2021-02-07T07:58:30.501086Z\", \"end_time\": \"2021-02-07T07:59:22.471321Z\", \"created_time\": \"2021-02-07T07:58:17.51833Z\", \"created_time_dt\": \"2021-02-07T07:58:17.51833Z\", \"duration\": \"0:01:04\", \"iteration\": \"38\", \"goal\": \"accuracy_max\", \"run_name\": \"SparseNormalizer, LightGBM\", \"run_properties\": \"<azureml.automl.runtime.shared.model_wrappers.SparseNormalizer object at 0x7fad9aba11d0\", \"primary_metric\": 0.88717949, \"best_metric\": 0.96923077}, {\"run_id\": \"AutoML_a647e683-2a75-47a6-8915-7892ca77fef2_39\", \"run_number\": 45, \"metric\": null, \"status\": \"Completed\", \"run_type\": \"azureml.scriptrun\", \"training_percent\": \"100\", \"start_time\": \"2021-02-07T07:58:56.981275Z\", \"end_time\": \"2021-02-07T07:59:49.01745Z\", \"created_time\": \"2021-02-07T07:58:42.518606Z\", \"created_time_dt\": \"2021-02-07T07:58:42.518606Z\", \"duration\": \"0:01:06\", \"iteration\": \"39\", \"goal\": \"accuracy_max\", \"run_name\": \"SparseNormalizer, XGBoostClassifier\", \"run_properties\": \"<azureml.automl.runtime.shared.model_wrappers.SparseNormalizer object at 0x7f4900588a90\", \"primary_metric\": 0.91794872, \"best_metric\": 0.96923077}, {\"run_id\": \"AutoML_a647e683-2a75-47a6-8915-7892ca77fef2_40\", \"run_number\": 46, \"metric\": null, \"status\": \"Completed\", \"run_type\": \"azureml.scriptrun\", \"training_percent\": \"100\", \"start_time\": \"2021-02-07T07:59:03.171024Z\", \"end_time\": \"2021-02-07T07:59:55.037984Z\", \"created_time\": \"2021-02-07T07:58:49.230802Z\", \"created_time_dt\": \"2021-02-07T07:58:49.230802Z\", \"duration\": \"0:01:05\", \"iteration\": \"40\", \"goal\": \"accuracy_max\", \"run_name\": \"MaxAbsScaler, GradientBoosting\", \"run_properties\": \"copy=True\", \"primary_metric\": 0.88717949, \"best_metric\": 0.96923077}, {\"run_id\": \"AutoML_a647e683-2a75-47a6-8915-7892ca77fef2_41\", \"run_number\": 47, \"metric\": null, \"status\": \"Completed\", \"run_type\": \"azureml.scriptrun\", \"training_percent\": \"100\", \"start_time\": \"2021-02-07T07:59:20.673431Z\", \"end_time\": \"2021-02-07T08:00:11.177253Z\", \"created_time\": \"2021-02-07T07:59:10.737592Z\", \"created_time_dt\": \"2021-02-07T07:59:10.737592Z\", \"duration\": \"0:01:00\", \"iteration\": \"41\", \"goal\": \"accuracy_max\", \"run_name\": \"StandardScalerWrapper, ExtremeRandomTrees\", \"run_properties\": \"<azureml.automl.runtime.shared.model_wrappers.StandardScalerWrapper object at 0x7fef0ef6b208\", \"primary_metric\": 0.92307692, \"best_metric\": 0.96923077}, {\"run_id\": \"AutoML_a647e683-2a75-47a6-8915-7892ca77fef2_42\", \"run_number\": 48, \"metric\": null, \"status\": \"Completed\", \"run_type\": \"azureml.scriptrun\", \"training_percent\": \"100\", \"start_time\": \"2021-02-07T07:59:36.467902Z\", \"end_time\": \"2021-02-07T08:00:25.173147Z\", \"created_time\": \"2021-02-07T07:59:24.226685Z\", \"created_time_dt\": \"2021-02-07T07:59:24.226685Z\", \"duration\": \"0:01:00\", \"iteration\": \"42\", \"goal\": \"accuracy_max\", \"run_name\": \"SparseNormalizer, LightGBM\", \"run_properties\": \"<azureml.automl.runtime.shared.model_wrappers.SparseNormalizer object at 0x7fc1dda54780\", \"primary_metric\": 0.93846154, \"best_metric\": 0.96923077}, {\"run_id\": \"AutoML_a647e683-2a75-47a6-8915-7892ca77fef2_43\", \"run_number\": 49, \"metric\": null, \"status\": \"Completed\", \"run_type\": \"azureml.scriptrun\", \"training_percent\": \"100\", \"start_time\": \"2021-02-07T08:00:05.335183Z\", \"end_time\": \"2021-02-07T08:00:59.53282Z\", \"created_time\": \"2021-02-07T07:59:52.309195Z\", \"created_time_dt\": \"2021-02-07T07:59:52.309195Z\", \"duration\": \"0:01:07\", \"iteration\": \"43\", \"goal\": \"accuracy_max\", \"run_name\": \"StandardScalerWrapper, ExtremeRandomTrees\", \"run_properties\": \"<azureml.automl.runtime.shared.model_wrappers.StandardScalerWrapper object at 0x7ff8bfc664a8\", \"primary_metric\": 0.87692308, \"best_metric\": 0.96923077}, {\"run_id\": \"AutoML_a647e683-2a75-47a6-8915-7892ca77fef2_44\", \"run_number\": 50, \"metric\": null, \"status\": \"Completed\", \"run_type\": \"azureml.scriptrun\", \"training_percent\": \"100\", \"start_time\": \"2021-02-07T08:00:09.3187Z\", \"end_time\": \"2021-02-07T08:01:00.652718Z\", \"created_time\": \"2021-02-07T07:59:57.910206Z\", \"created_time_dt\": \"2021-02-07T07:59:57.910206Z\", \"duration\": \"0:01:02\", \"iteration\": \"44\", \"goal\": \"accuracy_max\", \"run_name\": \"MaxAbsScaler, RandomForest\", \"run_properties\": \"copy=True\", \"primary_metric\": 0.91794872, \"best_metric\": 0.96923077}, {\"run_id\": \"AutoML_a647e683-2a75-47a6-8915-7892ca77fef2_45\", \"run_number\": 51, \"metric\": null, \"status\": \"Canceled\", \"run_type\": \"azureml.scriptrun\", \"training_percent\": \"100\", \"start_time\": \"2021-02-07T08:00:27.647612Z\", \"end_time\": \"2021-02-07T08:01:06.716964Z\", \"created_time\": \"2021-02-07T08:00:14.916508Z\", \"created_time_dt\": \"2021-02-07T08:00:14.916508Z\", \"duration\": \"0:00:51\", \"iteration\": \"45\", \"goal\": \"accuracy_max\", \"run_name\": \"MinMaxScaler, GradientBoosting\", \"run_properties\": \"copy=True, feature_range=(0, 1\", \"primary_metric\": 0.95897436, \"best_metric\": 0.96923077}, {\"run_id\": \"AutoML_a647e683-2a75-47a6-8915-7892ca77fef2_46\", \"run_number\": 52, \"metric\": null, \"status\": \"Canceled\", \"run_type\": \"azureml.scriptrun\", \"training_percent\": \"100\", \"start_time\": \"2021-02-07T08:00:39.89949Z\", \"end_time\": \"2021-02-07T08:01:07.08574Z\", \"created_time\": \"2021-02-07T08:00:27.920293Z\", \"created_time_dt\": \"2021-02-07T08:00:27.920293Z\", \"duration\": \"0:00:39\", \"iteration\": \"46\", \"goal\": null, \"run_name\": \"SparseNormalizer, XGBoostClassifier\", \"run_properties\": null}, {\"run_id\": \"AutoML_a647e683-2a75-47a6-8915-7892ca77fef2_47\", \"run_number\": 53, \"metric\": null, \"status\": \"Completed\", \"run_type\": \"azureml.scriptrun\", \"training_percent\": \"100\", \"start_time\": \"2021-02-07T08:01:20.037197Z\", \"end_time\": \"2021-02-07T08:03:19.839544Z\", \"created_time\": \"2021-02-07T08:01:07.7057Z\", \"created_time_dt\": \"2021-02-07T08:01:07.7057Z\", \"duration\": \"0:02:12\", \"iteration\": \"47\", \"goal\": \"accuracy_max\", \"run_name\": \"VotingEnsemble\", \"run_properties\": \"classification_labels=None,\\n                              estimators=[('8',\\n                                           Pipeline(memory=None,\\n                                                    steps=[('maxabsscaler',\\n                                                            MaxAbsScaler(copy=True\", \"primary_metric\": 0.97435897, \"best_metric\": 0.97435897}, {\"run_id\": \"AutoML_a647e683-2a75-47a6-8915-7892ca77fef2_48\", \"run_number\": 54, \"metric\": null, \"status\": \"Completed\", \"run_type\": \"azureml.scriptrun\", \"training_percent\": \"100\", \"start_time\": \"2021-02-07T08:01:19.479758Z\", \"end_time\": \"2021-02-07T08:04:10.667522Z\", \"created_time\": \"2021-02-07T08:01:07.716444Z\", \"created_time_dt\": \"2021-02-07T08:01:07.716444Z\", \"duration\": \"0:03:02\", \"iteration\": \"48\", \"goal\": \"accuracy_max\", \"run_name\": \"StackEnsemble\", \"run_properties\": \"base_learners=[('8',\\n                                        Pipeline(memory=None,\\n                                                 steps=[('maxabsscaler',\\n                                                         MaxAbsScaler(copy=True\", \"primary_metric\": 0.95384615, \"best_metric\": 0.97435897}], \"children_metrics\": {\"categories\": [0], \"series\": {\"AUC_weighted\": [{\"categories\": [\"0\", \"1\", \"2\", \"3\", \"4\", \"5\", \"6\", \"7\", \"8\", \"9\", \"10\", \"11\", \"12\", \"13\", \"14\", \"15\", \"16\", \"17\", \"18\", \"19\", \"20\", \"21\", \"22\", \"23\", \"24\", \"25\", \"26\", \"27\", \"28\", \"29\", \"30\", \"31\", \"32\", \"33\", \"34\", \"35\", \"36\", \"37\", \"38\", \"39\", \"40\", \"41\", \"42\", \"43\", \"44\", \"45\", \"47\", \"48\"], \"mode\": \"markers\", \"name\": \"AUC_weighted\", \"stepped\": false, \"type\": \"scatter\", \"data\": [0.9929244427965228, 0.9948905956647891, 0.9722468454073014, 0.9504299942322746, 0.9700626636886369, 0.9843714650611203, 0.9212324363931705, 0.9796200143016052, 0.9992592592592592, 0.9473825149637163, 0.9642316698153739, 0.9285730080748156, 0.976475619589079, 0.9600337706210897, 0.9361539364726239, 0.9546557433009045, 0.977298827032976, 0.9236192447810913, 0.9631509849274031, 0.9309451300975216, 0.9610788986587095, 0.9654088817086592, 0.9753934398008368, 0.9410927338430118, 0.9910344827586208, 0.8806395259871345, 0.9339565198839391, 0.9376182221869096, 0.9512432641206278, 0.9456983273596176, 0.5, 0.9721053375002207, 0.9708694051591717, 0.9751130650752453, 0.912544209909894, 0.9945884315906562, 0.9158613538852693, 0.8912259094467103, 0.9242078853046596, 0.9586055935166058, 0.9478804918457311, 0.9703797988358611, 0.9426827206596394, 0.9466550767754883, 0.9708383727363149, 0.9991935483870968, 0.9985185185185184, 0.9985185185185184]}, {\"categories\": [\"0\", \"1\", \"2\", \"3\", \"4\", \"5\", \"6\", \"7\", \"8\", \"9\", \"10\", \"11\", \"12\", \"13\", \"14\", \"15\", \"16\", \"17\", \"18\", \"19\", \"20\", \"21\", \"22\", \"23\", \"24\", \"25\", \"26\", \"27\", \"28\", \"29\", \"30\", \"31\", \"32\", \"33\", \"34\", \"35\", \"36\", \"37\", \"38\", \"39\", \"40\", \"41\", \"42\", \"43\", \"44\", \"45\", \"47\", \"48\"], \"mode\": \"lines\", \"name\": \"AUC_weighted_max\", \"stepped\": true, \"type\": \"scatter\", \"data\": [0.9929244427965228, 0.9948905956647891, 0.9948905956647891, 0.9948905956647891, 0.9948905956647891, 0.9948905956647891, 0.9948905956647891, 0.9948905956647891, 0.9992592592592592, 0.9992592592592592, 0.9992592592592592, 0.9992592592592592, 0.9992592592592592, 0.9992592592592592, 0.9992592592592592, 0.9992592592592592, 0.9992592592592592, 0.9992592592592592, 0.9992592592592592, 0.9992592592592592, 0.9992592592592592, 0.9992592592592592, 0.9992592592592592, 0.9992592592592592, 0.9992592592592592, 0.9992592592592592, 0.9992592592592592, 0.9992592592592592, 0.9992592592592592, 0.9992592592592592, 0.9992592592592592, 0.9992592592592592, 0.9992592592592592, 0.9992592592592592, 0.9992592592592592, 0.9992592592592592, 0.9992592592592592, 0.9992592592592592, 0.9992592592592592, 0.9992592592592592, 0.9992592592592592, 0.9992592592592592, 0.9992592592592592, 0.9992592592592592, 0.9992592592592592, 0.9992592592592592, 0.9992592592592592, 0.9992592592592592]}], \"average_precision_score_micro\": [{\"categories\": [\"0\", \"1\", \"2\", \"3\", \"4\", \"5\", \"6\", \"7\", \"8\", \"9\", \"10\", \"11\", \"12\", \"13\", \"14\", \"15\", \"16\", \"17\", \"18\", \"19\", \"20\", \"21\", \"22\", \"23\", \"24\", \"25\", \"26\", \"27\", \"28\", \"29\", \"30\", \"31\", \"32\", \"33\", \"34\", \"35\", \"36\", \"37\", \"38\", \"39\", \"40\", \"41\", \"42\", \"43\", \"44\", \"45\", \"47\", \"48\"], \"mode\": \"markers\", \"name\": \"average_precision_score_micro\", \"stepped\": false, \"type\": \"scatter\", \"data\": [0.993843075058092, 0.9918968830352352, 0.9780994420579574, 0.962222990926055, 0.9765856685026018, 0.9880999653182219, 0.9538647747815207, 0.985549419743079, 0.9945476620045405, 0.969768219914464, 0.9688631036079464, 0.9493238304661988, 0.9790584590284087, 0.9735600987201141, 0.9573788955027738, 0.9709644645005934, 0.9822066335950039, 0.9251105744738239, 0.972237220667432, 0.9468824915225145, 0.9690888969560394, 0.9736032253720621, 0.9791323748756904, 0.9477599019688213, 0.9844118876809814, 0.9219105943992076, 0.9582388623545356, 0.9408575992269881, 0.9579256813184989, 0.9665279101878875, 0.6952005259697568, 0.9758407308585768, 0.9748384003715413, 0.9822594259925612, 0.9402395655998379, 0.9916551384700538, 0.9409445166668696, 0.9277433029023692, 0.9555858318220422, 0.9714262421852012, 0.9567637243528857, 0.9788325188291347, 0.9682888467039922, 0.9604961097824022, 0.9762637937402964, 0.9964703133098581, 0.9963642228952025, 0.9887399669545079]}, {\"categories\": [\"0\", \"1\", \"2\", \"3\", \"4\", \"5\", \"6\", \"7\", \"8\", \"9\", \"10\", \"11\", \"12\", \"13\", \"14\", \"15\", \"16\", \"17\", \"18\", \"19\", \"20\", \"21\", \"22\", \"23\", \"24\", \"25\", \"26\", \"27\", \"28\", \"29\", \"30\", \"31\", \"32\", \"33\", \"34\", \"35\", \"36\", \"37\", \"38\", \"39\", \"40\", \"41\", \"42\", \"43\", \"44\", \"45\", \"47\", \"48\"], \"mode\": \"lines\", \"name\": \"average_precision_score_micro_max\", \"stepped\": true, \"type\": \"scatter\", \"data\": [0.993843075058092, 0.993843075058092, 0.993843075058092, 0.993843075058092, 0.993843075058092, 0.993843075058092, 0.993843075058092, 0.993843075058092, 0.9945476620045405, 0.9945476620045405, 0.9945476620045405, 0.9945476620045405, 0.9945476620045405, 0.9945476620045405, 0.9945476620045405, 0.9945476620045405, 0.9945476620045405, 0.9945476620045405, 0.9945476620045405, 0.9945476620045405, 0.9945476620045405, 0.9945476620045405, 0.9945476620045405, 0.9945476620045405, 0.9945476620045405, 0.9945476620045405, 0.9945476620045405, 0.9945476620045405, 0.9945476620045405, 0.9945476620045405, 0.9945476620045405, 0.9945476620045405, 0.9945476620045405, 0.9945476620045405, 0.9945476620045405, 0.9945476620045405, 0.9945476620045405, 0.9945476620045405, 0.9945476620045405, 0.9945476620045405, 0.9945476620045405, 0.9945476620045405, 0.9945476620045405, 0.9945476620045405, 0.9945476620045405, 0.9964703133098581, 0.9964703133098581, 0.9964703133098581]}], \"precision_score_macro\": [{\"categories\": [\"0\", \"1\", \"2\", \"3\", \"4\", \"5\", \"6\", \"7\", \"8\", \"9\", \"10\", \"11\", \"12\", \"13\", \"14\", \"15\", \"16\", \"17\", \"18\", \"19\", \"20\", \"21\", \"22\", \"23\", \"24\", \"25\", \"26\", \"27\", \"28\", \"29\", \"30\", \"31\", \"32\", \"33\", \"34\", \"35\", \"36\", \"37\", \"38\", \"39\", \"40\", \"41\", \"42\", \"43\", \"44\", \"45\", \"47\", \"48\"], \"mode\": \"markers\", \"name\": \"precision_score_macro\", \"stepped\": false, \"type\": \"scatter\", \"data\": [0.9647653116257121, 0.9719507575757576, 0.8987599206349207, 0.8905573593073595, 0.9024856174527226, 0.9727696078431372, 0.8733225108225108, 0.9486816610808546, 0.9732620320855615, 0.8817565536315538, 0.927667996491526, 0.8775251134936732, 0.9546122994652407, 0.9338636363636365, 0.907706835648012, 0.9491552075375604, 0.9689015151515152, 0.879941304941305, 0.9340272472625415, 0.861290937323546, 0.8889995421245421, 0.9177509867583398, 0.9406775210084033, 0.8537145650048876, 0.9623694932518461, 0.7312156929092414, 0.8937447283898898, 0.7871730121730123, 0.8251026269745434, 0.8965127344192808, 0.3769230769230769, 0.9247317098882564, 0.932285141329259, 0.9635335497835499, 0.7859479803965098, 0.9493358150470218, 0.817625466853408, 0.8507936507936508, 0.8848243207941483, 0.941587684480907, 0.8644029581529582, 0.9377512071262071, 0.9408003108003108, 0.8925823739059033, 0.9400109694227341, 0.9591733870967742, 0.9806250000000001, 0.9660037878787879]}, {\"categories\": [\"0\", \"1\", \"2\", \"3\", \"4\", \"5\", \"6\", \"7\", \"8\", \"9\", \"10\", \"11\", \"12\", \"13\", \"14\", \"15\", \"16\", \"17\", \"18\", \"19\", \"20\", \"21\", \"22\", \"23\", \"24\", \"25\", \"26\", \"27\", \"28\", \"29\", \"30\", \"31\", \"32\", \"33\", \"34\", \"35\", \"36\", \"37\", \"38\", \"39\", \"40\", \"41\", \"42\", \"43\", \"44\", \"45\", \"47\", \"48\"], \"mode\": \"lines\", \"name\": \"precision_score_macro_max\", \"stepped\": true, \"type\": \"scatter\", \"data\": [0.9647653116257121, 0.9719507575757576, 0.9719507575757576, 0.9719507575757576, 0.9719507575757576, 0.9727696078431372, 0.9727696078431372, 0.9727696078431372, 0.9732620320855615, 0.9732620320855615, 0.9732620320855615, 0.9732620320855615, 0.9732620320855615, 0.9732620320855615, 0.9732620320855615, 0.9732620320855615, 0.9732620320855615, 0.9732620320855615, 0.9732620320855615, 0.9732620320855615, 0.9732620320855615, 0.9732620320855615, 0.9732620320855615, 0.9732620320855615, 0.9732620320855615, 0.9732620320855615, 0.9732620320855615, 0.9732620320855615, 0.9732620320855615, 0.9732620320855615, 0.9732620320855615, 0.9732620320855615, 0.9732620320855615, 0.9732620320855615, 0.9732620320855615, 0.9732620320855615, 0.9732620320855615, 0.9732620320855615, 0.9732620320855615, 0.9732620320855615, 0.9732620320855615, 0.9732620320855615, 0.9732620320855615, 0.9732620320855615, 0.9732620320855615, 0.9732620320855615, 0.9806250000000001, 0.9806250000000001]}], \"f1_score_micro\": [{\"categories\": [\"0\", \"1\", \"2\", \"3\", \"4\", \"5\", \"6\", \"7\", \"8\", \"9\", \"10\", \"11\", \"12\", \"13\", \"14\", \"15\", \"16\", \"17\", \"18\", \"19\", \"20\", \"21\", \"22\", \"23\", \"24\", \"25\", \"26\", \"27\", \"28\", \"29\", \"30\", \"31\", \"32\", \"33\", \"34\", \"35\", \"36\", \"37\", \"38\", \"39\", \"40\", \"41\", \"42\", \"43\", \"44\", \"45\", \"47\", \"48\"], \"mode\": \"markers\", \"name\": \"f1_score_micro\", \"stepped\": false, \"type\": \"scatter\", \"data\": [0.964102564102564, 0.964102564102564, 0.9025641025641026, 0.8923076923076924, 0.9128205128205128, 0.9692307692307691, 0.8923076923076924, 0.9435897435897436, 0.9692307692307693, 0.9025641025641026, 0.8974358974358975, 0.8974358974358975, 0.9333333333333333, 0.9333333333333333, 0.8820512820512819, 0.923076923076923, 0.9538461538461538, 0.8307692307692307, 0.9128205128205128, 0.8666666666666666, 0.8974358974358975, 0.9128205128205128, 0.9333333333333332, 0.8666666666666668, 0.9384615384615385, 0.8, 0.917948717948718, 0.8358974358974359, 0.8717948717948719, 0.9076923076923077, 0.7538461538461538, 0.923076923076923, 0.917948717948718, 0.9435897435897436, 0.8307692307692307, 0.9538461538461538, 0.841025641025641, 0.8615384615384615, 0.8871794871794872, 0.9179487179487179, 0.8871794871794872, 0.923076923076923, 0.9384615384615385, 0.8769230769230768, 0.917948717948718, 0.9589743589743589, 0.9743589743589742, 0.9538461538461538]}, {\"categories\": [\"0\", \"1\", \"2\", \"3\", \"4\", \"5\", \"6\", \"7\", \"8\", \"9\", \"10\", \"11\", \"12\", \"13\", \"14\", \"15\", \"16\", \"17\", \"18\", \"19\", \"20\", \"21\", \"22\", \"23\", \"24\", \"25\", \"26\", \"27\", \"28\", \"29\", \"30\", \"31\", \"32\", \"33\", \"34\", \"35\", \"36\", \"37\", \"38\", \"39\", \"40\", \"41\", \"42\", \"43\", \"44\", \"45\", \"47\", \"48\"], \"mode\": \"lines\", \"name\": \"f1_score_micro_max\", \"stepped\": true, \"type\": \"scatter\", \"data\": [0.964102564102564, 0.964102564102564, 0.964102564102564, 0.964102564102564, 0.964102564102564, 0.9692307692307691, 0.9692307692307691, 0.9692307692307691, 0.9692307692307693, 0.9692307692307693, 0.9692307692307693, 0.9692307692307693, 0.9692307692307693, 0.9692307692307693, 0.9692307692307693, 0.9692307692307693, 0.9692307692307693, 0.9692307692307693, 0.9692307692307693, 0.9692307692307693, 0.9692307692307693, 0.9692307692307693, 0.9692307692307693, 0.9692307692307693, 0.9692307692307693, 0.9692307692307693, 0.9692307692307693, 0.9692307692307693, 0.9692307692307693, 0.9692307692307693, 0.9692307692307693, 0.9692307692307693, 0.9692307692307693, 0.9692307692307693, 0.9692307692307693, 0.9692307692307693, 0.9692307692307693, 0.9692307692307693, 0.9692307692307693, 0.9692307692307693, 0.9692307692307693, 0.9692307692307693, 0.9692307692307693, 0.9692307692307693, 0.9692307692307693, 0.9692307692307693, 0.9743589743589742, 0.9743589743589742]}], \"AUC_macro\": [{\"categories\": [\"0\", \"1\", \"2\", \"3\", \"4\", \"5\", \"6\", \"7\", \"8\", \"9\", \"10\", \"11\", \"12\", \"13\", \"14\", \"15\", \"16\", \"17\", \"18\", \"19\", \"20\", \"21\", \"22\", \"23\", \"24\", \"25\", \"26\", \"27\", \"28\", \"29\", \"30\", \"31\", \"32\", \"33\", \"34\", \"35\", \"36\", \"37\", \"38\", \"39\", \"40\", \"41\", \"42\", \"43\", \"44\", \"45\", \"47\", \"48\"], \"mode\": \"markers\", \"name\": \"AUC_macro\", \"stepped\": false, \"type\": \"scatter\", \"data\": [0.9929244427965228, 0.9948905956647891, 0.9722468454073014, 0.9504299942322746, 0.9700626636886369, 0.9843714650611203, 0.9212324363931705, 0.9796200143016052, 0.9992592592592592, 0.9473825149637163, 0.9642316698153739, 0.9285730080748156, 0.976475619589079, 0.96003377062109, 0.9361539364726239, 0.9546557433009045, 0.977298827032976, 0.9236192447810913, 0.9631509849274031, 0.9309451300975216, 0.9610788986587095, 0.9654088817086592, 0.975393439800837, 0.9410927338430121, 0.9910344827586208, 0.8806395259871345, 0.9339565198839391, 0.9376182221869096, 0.9512432641206278, 0.9456983273596176, 0.5, 0.9721053375002207, 0.9708694051591715, 0.9751130650752453, 0.912544209909894, 0.9945884315906562, 0.9158613538852693, 0.8912259094467103, 0.9242078853046596, 0.9586055935166058, 0.9478804918457311, 0.9703797988358611, 0.9426827206596394, 0.9466550767754883, 0.9708383727363149, 0.9991935483870968, 0.9985185185185184, 0.9985185185185184]}, {\"categories\": [\"0\", \"1\", \"2\", \"3\", \"4\", \"5\", \"6\", \"7\", \"8\", \"9\", \"10\", \"11\", \"12\", \"13\", \"14\", \"15\", \"16\", \"17\", \"18\", \"19\", \"20\", \"21\", \"22\", \"23\", \"24\", \"25\", \"26\", \"27\", \"28\", \"29\", \"30\", \"31\", \"32\", \"33\", \"34\", \"35\", \"36\", \"37\", \"38\", \"39\", \"40\", \"41\", \"42\", \"43\", \"44\", \"45\", \"47\", \"48\"], \"mode\": \"lines\", \"name\": \"AUC_macro_max\", \"stepped\": true, \"type\": \"scatter\", \"data\": [0.9929244427965228, 0.9948905956647891, 0.9948905956647891, 0.9948905956647891, 0.9948905956647891, 0.9948905956647891, 0.9948905956647891, 0.9948905956647891, 0.9992592592592592, 0.9992592592592592, 0.9992592592592592, 0.9992592592592592, 0.9992592592592592, 0.9992592592592592, 0.9992592592592592, 0.9992592592592592, 0.9992592592592592, 0.9992592592592592, 0.9992592592592592, 0.9992592592592592, 0.9992592592592592, 0.9992592592592592, 0.9992592592592592, 0.9992592592592592, 0.9992592592592592, 0.9992592592592592, 0.9992592592592592, 0.9992592592592592, 0.9992592592592592, 0.9992592592592592, 0.9992592592592592, 0.9992592592592592, 0.9992592592592592, 0.9992592592592592, 0.9992592592592592, 0.9992592592592592, 0.9992592592592592, 0.9992592592592592, 0.9992592592592592, 0.9992592592592592, 0.9992592592592592, 0.9992592592592592, 0.9992592592592592, 0.9992592592592592, 0.9992592592592592, 0.9992592592592592, 0.9992592592592592, 0.9992592592592592]}], \"precision_score_micro\": [{\"categories\": [\"0\", \"1\", \"2\", \"3\", \"4\", \"5\", \"6\", \"7\", \"8\", \"9\", \"10\", \"11\", \"12\", \"13\", \"14\", \"15\", \"16\", \"17\", \"18\", \"19\", \"20\", \"21\", \"22\", \"23\", \"24\", \"25\", \"26\", \"27\", \"28\", \"29\", \"30\", \"31\", \"32\", \"33\", \"34\", \"35\", \"36\", \"37\", \"38\", \"39\", \"40\", \"41\", \"42\", \"43\", \"44\", \"45\", \"47\", \"48\"], \"mode\": \"markers\", \"name\": \"precision_score_micro\", \"stepped\": false, \"type\": \"scatter\", \"data\": [0.964102564102564, 0.964102564102564, 0.9025641025641026, 0.8923076923076924, 0.9128205128205128, 0.9692307692307691, 0.8923076923076924, 0.9435897435897436, 0.9692307692307693, 0.9025641025641026, 0.8974358974358975, 0.8974358974358975, 0.9333333333333333, 0.9333333333333333, 0.8820512820512819, 0.923076923076923, 0.9538461538461538, 0.8307692307692307, 0.9128205128205128, 0.8666666666666666, 0.8974358974358975, 0.9128205128205128, 0.9333333333333332, 0.8666666666666668, 0.9384615384615385, 0.8, 0.917948717948718, 0.8358974358974359, 0.8717948717948719, 0.9076923076923077, 0.7538461538461538, 0.923076923076923, 0.917948717948718, 0.9435897435897436, 0.8307692307692307, 0.9538461538461538, 0.841025641025641, 0.8615384615384615, 0.8871794871794872, 0.9179487179487179, 0.8871794871794872, 0.923076923076923, 0.9384615384615385, 0.8769230769230768, 0.917948717948718, 0.9589743589743589, 0.9743589743589742, 0.9538461538461538]}, {\"categories\": [\"0\", \"1\", \"2\", \"3\", \"4\", \"5\", \"6\", \"7\", \"8\", \"9\", \"10\", \"11\", \"12\", \"13\", \"14\", \"15\", \"16\", \"17\", \"18\", \"19\", \"20\", \"21\", \"22\", \"23\", \"24\", \"25\", \"26\", \"27\", \"28\", \"29\", \"30\", \"31\", \"32\", \"33\", \"34\", \"35\", \"36\", \"37\", \"38\", \"39\", \"40\", \"41\", \"42\", \"43\", \"44\", \"45\", \"47\", \"48\"], \"mode\": \"lines\", \"name\": \"precision_score_micro_max\", \"stepped\": true, \"type\": \"scatter\", \"data\": [0.964102564102564, 0.964102564102564, 0.964102564102564, 0.964102564102564, 0.964102564102564, 0.9692307692307691, 0.9692307692307691, 0.9692307692307691, 0.9692307692307693, 0.9692307692307693, 0.9692307692307693, 0.9692307692307693, 0.9692307692307693, 0.9692307692307693, 0.9692307692307693, 0.9692307692307693, 0.9692307692307693, 0.9692307692307693, 0.9692307692307693, 0.9692307692307693, 0.9692307692307693, 0.9692307692307693, 0.9692307692307693, 0.9692307692307693, 0.9692307692307693, 0.9692307692307693, 0.9692307692307693, 0.9692307692307693, 0.9692307692307693, 0.9692307692307693, 0.9692307692307693, 0.9692307692307693, 0.9692307692307693, 0.9692307692307693, 0.9692307692307693, 0.9692307692307693, 0.9692307692307693, 0.9692307692307693, 0.9692307692307693, 0.9692307692307693, 0.9692307692307693, 0.9692307692307693, 0.9692307692307693, 0.9692307692307693, 0.9692307692307693, 0.9692307692307693, 0.9743589743589742, 0.9743589743589742]}], \"log_loss\": [{\"categories\": [\"0\", \"1\", \"2\", \"3\", \"4\", \"5\", \"6\", \"7\", \"8\", \"9\", \"10\", \"11\", \"12\", \"13\", \"14\", \"15\", \"16\", \"17\", \"18\", \"19\", \"20\", \"21\", \"22\", \"23\", \"24\", \"25\", \"26\", \"27\", \"28\", \"29\", \"30\", \"31\", \"32\", \"33\", \"34\", \"35\", \"36\", \"37\", \"38\", \"39\", \"40\", \"41\", \"42\", \"43\", \"44\", \"45\", \"47\", \"48\"], \"mode\": \"markers\", \"name\": \"log_loss\", \"stepped\": false, \"type\": \"scatter\", \"data\": [0.09697701271279814, 0.1254761327246973, 0.23478637678067166, 0.26704503135153707, 0.2296064196119775, 0.13129529504666804, 0.4089979873158792, 0.3202055996853156, 0.12209811554146426, 0.24551761768669236, 0.2900093626109266, 0.3712864068790528, 0.23665734921247045, 0.21497969789440124, 0.29815195445227466, 0.23807714780496902, 0.1635776035655999, 0.3884174254689991, 0.2589867280125482, 0.29654044805585195, 0.2384563560556902, 0.257171754771636, 0.2118539563323484, 0.31807502083341904, 0.20430639894279143, 0.38179355534185233, 0.2954784864857626, 0.34779314082566726, 0.3079194098933398, 0.2417137072326095, 0.5640331960326102, 0.24137130395738823, 0.2819490725613595, 0.17069630858165902, 0.3297011502919912, 0.1253138513678389, 0.31774487266225354, 0.407662728191286, 0.27261847894980795, 0.2523378091107331, 0.3068961190983258, 0.21868913565928186, 0.23361667646217618, 0.29648403964371933, 0.24268219345114592, 0.08709580912857426, 0.11014503986684092, 0.15674385553836603]}, {\"categories\": [\"0\", \"1\", \"2\", \"3\", \"4\", \"5\", \"6\", \"7\", \"8\", \"9\", \"10\", \"11\", \"12\", \"13\", \"14\", \"15\", \"16\", \"17\", \"18\", \"19\", \"20\", \"21\", \"22\", \"23\", \"24\", \"25\", \"26\", \"27\", \"28\", \"29\", \"30\", \"31\", \"32\", \"33\", \"34\", \"35\", \"36\", \"37\", \"38\", \"39\", \"40\", \"41\", \"42\", \"43\", \"44\", \"45\", \"47\", \"48\"], \"mode\": \"lines\", \"name\": \"log_loss_min\", \"stepped\": true, \"type\": \"scatter\", \"data\": [0.09697701271279814, 0.09697701271279814, 0.09697701271279814, 0.09697701271279814, 0.09697701271279814, 0.09697701271279814, 0.09697701271279814, 0.09697701271279814, 0.09697701271279814, 0.09697701271279814, 0.09697701271279814, 0.09697701271279814, 0.09697701271279814, 0.09697701271279814, 0.09697701271279814, 0.09697701271279814, 0.09697701271279814, 0.09697701271279814, 0.09697701271279814, 0.09697701271279814, 0.09697701271279814, 0.09697701271279814, 0.09697701271279814, 0.09697701271279814, 0.09697701271279814, 0.09697701271279814, 0.09697701271279814, 0.09697701271279814, 0.09697701271279814, 0.09697701271279814, 0.09697701271279814, 0.09697701271279814, 0.09697701271279814, 0.09697701271279814, 0.09697701271279814, 0.09697701271279814, 0.09697701271279814, 0.09697701271279814, 0.09697701271279814, 0.09697701271279814, 0.09697701271279814, 0.09697701271279814, 0.09697701271279814, 0.09697701271279814, 0.09697701271279814, 0.08709580912857426, 0.08709580912857426, 0.08709580912857426]}], \"weighted_accuracy\": [{\"categories\": [\"0\", \"1\", \"2\", \"3\", \"4\", \"5\", \"6\", \"7\", \"8\", \"9\", \"10\", \"11\", \"12\", \"13\", \"14\", \"15\", \"16\", \"17\", \"18\", \"19\", \"20\", \"21\", \"22\", \"23\", \"24\", \"25\", \"26\", \"27\", \"28\", \"29\", \"30\", \"31\", \"32\", \"33\", \"34\", \"35\", \"36\", \"37\", \"38\", \"39\", \"40\", \"41\", \"42\", \"43\", \"44\", \"45\", \"47\", \"48\"], \"mode\": \"markers\", \"name\": \"weighted_accuracy\", \"stepped\": false, \"type\": \"scatter\", \"data\": [0.9745738642316095, 0.9786287707561643, 0.9353598323961407, 0.9252621083369628, 0.9345821600739969, 0.9759344747682939, 0.9354724430610479, 0.9670919860765663, 0.9762250108951939, 0.9410581982705597, 0.9483545340203973, 0.9144239962578808, 0.9672614480686331, 0.9632073922202016, 0.9401949920557449, 0.9644300329760209, 0.9786165959780139, 0.904798643741046, 0.9597656724602943, 0.9138040577784438, 0.9369507116805187, 0.9566719388109124, 0.9591836390596326, 0.9169793324027173, 0.9726227782895884, 0.8510866987226844, 0.9431882602531199, 0.8259578851490064, 0.8728074413339983, 0.943964637912703, 0.892864526903305, 0.9380955377535859, 0.9564974395214867, 0.9754946447585017, 0.873824743395226, 0.9665005297957933, 0.8919913945512541, 0.9114234777489922, 0.9367145297731222, 0.9562341769915136, 0.9299124184345307, 0.9595937785562789, 0.9674211021382085, 0.9336197357727833, 0.9575944458797461, 0.9723736493543343, 0.9865537671244331, 0.9740874376048222]}, {\"categories\": [\"0\", \"1\", \"2\", \"3\", \"4\", \"5\", \"6\", \"7\", \"8\", \"9\", \"10\", \"11\", \"12\", \"13\", \"14\", \"15\", \"16\", \"17\", \"18\", \"19\", \"20\", \"21\", \"22\", \"23\", \"24\", \"25\", \"26\", \"27\", \"28\", \"29\", \"30\", \"31\", \"32\", \"33\", \"34\", \"35\", \"36\", \"37\", \"38\", \"39\", \"40\", \"41\", \"42\", \"43\", \"44\", \"45\", \"47\", \"48\"], \"mode\": \"lines\", \"name\": \"weighted_accuracy_max\", \"stepped\": true, \"type\": \"scatter\", \"data\": [0.9745738642316095, 0.9786287707561643, 0.9786287707561643, 0.9786287707561643, 0.9786287707561643, 0.9786287707561643, 0.9786287707561643, 0.9786287707561643, 0.9786287707561643, 0.9786287707561643, 0.9786287707561643, 0.9786287707561643, 0.9786287707561643, 0.9786287707561643, 0.9786287707561643, 0.9786287707561643, 0.9786287707561643, 0.9786287707561643, 0.9786287707561643, 0.9786287707561643, 0.9786287707561643, 0.9786287707561643, 0.9786287707561643, 0.9786287707561643, 0.9786287707561643, 0.9786287707561643, 0.9786287707561643, 0.9786287707561643, 0.9786287707561643, 0.9786287707561643, 0.9786287707561643, 0.9786287707561643, 0.9786287707561643, 0.9786287707561643, 0.9786287707561643, 0.9786287707561643, 0.9786287707561643, 0.9786287707561643, 0.9786287707561643, 0.9786287707561643, 0.9786287707561643, 0.9786287707561643, 0.9786287707561643, 0.9786287707561643, 0.9786287707561643, 0.9786287707561643, 0.9865537671244331, 0.9865537671244331]}], \"f1_score_weighted\": [{\"categories\": [\"0\", \"1\", \"2\", \"3\", \"4\", \"5\", \"6\", \"7\", \"8\", \"9\", \"10\", \"11\", \"12\", \"13\", \"14\", \"15\", \"16\", \"17\", \"18\", \"19\", \"20\", \"21\", \"22\", \"23\", \"24\", \"25\", \"26\", \"27\", \"28\", \"29\", \"30\", \"31\", \"32\", \"33\", \"34\", \"35\", \"36\", \"37\", \"38\", \"39\", \"40\", \"41\", \"42\", \"43\", \"44\", \"45\", \"47\", \"48\"], \"mode\": \"markers\", \"name\": \"f1_score_weighted\", \"stepped\": false, \"type\": \"scatter\", \"data\": [0.9635496298140946, 0.9628368745273296, 0.8969868721035097, 0.8892798917571897, 0.9101452752754586, 0.9689170946706931, 0.8863616284078853, 0.941134410624682, 0.9683120265687185, 0.8981713461614207, 0.8881320602474447, 0.8962022983502254, 0.928303238784008, 0.929280413676171, 0.8683073129038437, 0.9160583585149341, 0.9509318998841086, 0.8068064015181168, 0.9054849894233058, 0.8584567248990327, 0.8918329019412194, 0.9046425657690922, 0.9301879785748536, 0.8590779270586962, 0.9336243082884312, 0.7935041338472711, 0.9154113029546973, 0.8430680234483596, 0.8770639166738453, 0.902549332388042, 0.6495164816362269, 0.9211300956132252, 0.9125387985486508, 0.93845063115284, 0.8260531762405104, 0.9528021978021979, 0.8308880389660317, 0.8507860357627053, 0.8789828326790692, 0.9112161494419558, 0.8818556390764828, 0.9162682097928776, 0.9348331149565153, 0.8599275862606269, 0.9130727976259042, 0.9582281040345558, 0.9736977298645872, 0.9514661204983785]}, {\"categories\": [\"0\", \"1\", \"2\", \"3\", \"4\", \"5\", \"6\", \"7\", \"8\", \"9\", \"10\", \"11\", \"12\", \"13\", \"14\", \"15\", \"16\", \"17\", \"18\", \"19\", \"20\", \"21\", \"22\", \"23\", \"24\", \"25\", \"26\", \"27\", \"28\", \"29\", \"30\", \"31\", \"32\", \"33\", \"34\", \"35\", \"36\", \"37\", \"38\", \"39\", \"40\", \"41\", \"42\", \"43\", \"44\", \"45\", \"47\", \"48\"], \"mode\": \"lines\", \"name\": \"f1_score_weighted_max\", \"stepped\": true, \"type\": \"scatter\", \"data\": [0.9635496298140946, 0.9635496298140946, 0.9635496298140946, 0.9635496298140946, 0.9635496298140946, 0.9689170946706931, 0.9689170946706931, 0.9689170946706931, 0.9689170946706931, 0.9689170946706931, 0.9689170946706931, 0.9689170946706931, 0.9689170946706931, 0.9689170946706931, 0.9689170946706931, 0.9689170946706931, 0.9689170946706931, 0.9689170946706931, 0.9689170946706931, 0.9689170946706931, 0.9689170946706931, 0.9689170946706931, 0.9689170946706931, 0.9689170946706931, 0.9689170946706931, 0.9689170946706931, 0.9689170946706931, 0.9689170946706931, 0.9689170946706931, 0.9689170946706931, 0.9689170946706931, 0.9689170946706931, 0.9689170946706931, 0.9689170946706931, 0.9689170946706931, 0.9689170946706931, 0.9689170946706931, 0.9689170946706931, 0.9689170946706931, 0.9689170946706931, 0.9689170946706931, 0.9689170946706931, 0.9689170946706931, 0.9689170946706931, 0.9689170946706931, 0.9689170946706931, 0.9736977298645872, 0.9736977298645872]}], \"precision_score_weighted\": [{\"categories\": [\"0\", \"1\", \"2\", \"3\", \"4\", \"5\", \"6\", \"7\", \"8\", \"9\", \"10\", \"11\", \"12\", \"13\", \"14\", \"15\", \"16\", \"17\", \"18\", \"19\", \"20\", \"21\", \"22\", \"23\", \"24\", \"25\", \"26\", \"27\", \"28\", \"29\", \"30\", \"31\", \"32\", \"33\", \"34\", \"35\", \"36\", \"37\", \"38\", \"39\", \"40\", \"41\", \"42\", \"43\", \"44\", \"45\", \"47\", \"48\"], \"mode\": \"markers\", \"name\": \"precision_score_weighted\", \"stepped\": false, \"type\": \"scatter\", \"data\": [0.9661716419780937, 0.9671144133644134, 0.9100986975986975, 0.8940295815295816, 0.9205400958690431, 0.9727576671694319, 0.8919615107115106, 0.9481452239516756, 0.9733443027560675, 0.9020972854306188, 0.9061588810608419, 0.907307873930592, 0.9405617258558434, 0.9374242424242423, 0.892323421508942, 0.9317583723466075, 0.9579370629370629, 0.852900802900803, 0.9200312759136289, 0.8717885254841775, 0.8968501583886199, 0.9180448309860074, 0.9400641025641026, 0.8688573075669851, 0.9451649657532009, 0.7919880712064336, 0.9162618743263904, 0.8759461810743862, 0.8944986645233325, 0.9104993177811014, 0.5721236028928336, 0.9344930450812804, 0.9237793742205506, 0.9494033744033743, 0.838072239335437, 0.9573280885780886, 0.8505364325217266, 0.8683575683575684, 0.8940029032270411, 0.9266698618233147, 0.8851215913715915, 0.9284695859695861, 0.939124977586516, 0.8858992747906775, 0.9231493493936933, 0.9623604218362282, 0.9756730769230769, 0.9584158896658896]}, {\"categories\": [\"0\", \"1\", \"2\", \"3\", \"4\", \"5\", \"6\", \"7\", \"8\", \"9\", \"10\", \"11\", \"12\", \"13\", \"14\", \"15\", \"16\", \"17\", \"18\", \"19\", \"20\", \"21\", \"22\", \"23\", \"24\", \"25\", \"26\", \"27\", \"28\", \"29\", \"30\", \"31\", \"32\", \"33\", \"34\", \"35\", \"36\", \"37\", \"38\", \"39\", \"40\", \"41\", \"42\", \"43\", \"44\", \"45\", \"47\", \"48\"], \"mode\": \"lines\", \"name\": \"precision_score_weighted_max\", \"stepped\": true, \"type\": \"scatter\", \"data\": [0.9661716419780937, 0.9671144133644134, 0.9671144133644134, 0.9671144133644134, 0.9671144133644134, 0.9727576671694319, 0.9727576671694319, 0.9727576671694319, 0.9733443027560675, 0.9733443027560675, 0.9733443027560675, 0.9733443027560675, 0.9733443027560675, 0.9733443027560675, 0.9733443027560675, 0.9733443027560675, 0.9733443027560675, 0.9733443027560675, 0.9733443027560675, 0.9733443027560675, 0.9733443027560675, 0.9733443027560675, 0.9733443027560675, 0.9733443027560675, 0.9733443027560675, 0.9733443027560675, 0.9733443027560675, 0.9733443027560675, 0.9733443027560675, 0.9733443027560675, 0.9733443027560675, 0.9733443027560675, 0.9733443027560675, 0.9733443027560675, 0.9733443027560675, 0.9733443027560675, 0.9733443027560675, 0.9733443027560675, 0.9733443027560675, 0.9733443027560675, 0.9733443027560675, 0.9733443027560675, 0.9733443027560675, 0.9733443027560675, 0.9733443027560675, 0.9733443027560675, 0.9756730769230769, 0.9756730769230769]}], \"accuracy\": [{\"categories\": [\"0\", \"1\", \"2\", \"3\", \"4\", \"5\", \"6\", \"7\", \"8\", \"9\", \"10\", \"11\", \"12\", \"13\", \"14\", \"15\", \"16\", \"17\", \"18\", \"19\", \"20\", \"21\", \"22\", \"23\", \"24\", \"25\", \"26\", \"27\", \"28\", \"29\", \"30\", \"31\", \"32\", \"33\", \"34\", \"35\", \"36\", \"37\", \"38\", \"39\", \"40\", \"41\", \"42\", \"43\", \"44\", \"45\", \"47\", \"48\"], \"mode\": \"markers\", \"name\": \"accuracy\", \"stepped\": false, \"type\": \"scatter\", \"data\": [0.964102564102564, 0.964102564102564, 0.9025641025641026, 0.8923076923076924, 0.9128205128205128, 0.9692307692307691, 0.8923076923076924, 0.9435897435897436, 0.9692307692307693, 0.9025641025641026, 0.8974358974358975, 0.8974358974358975, 0.9333333333333333, 0.9333333333333333, 0.8820512820512819, 0.923076923076923, 0.9538461538461538, 0.8307692307692307, 0.9128205128205128, 0.8666666666666666, 0.8974358974358975, 0.9128205128205128, 0.9333333333333332, 0.8666666666666668, 0.9384615384615385, 0.8, 0.917948717948718, 0.8358974358974359, 0.8717948717948719, 0.9076923076923077, 0.7538461538461538, 0.923076923076923, 0.917948717948718, 0.9435897435897436, 0.8307692307692307, 0.9538461538461538, 0.841025641025641, 0.8615384615384615, 0.8871794871794872, 0.9179487179487179, 0.8871794871794872, 0.923076923076923, 0.9384615384615385, 0.8769230769230768, 0.917948717948718, 0.9589743589743589, 0.9743589743589742, 0.9538461538461538]}, {\"categories\": [\"0\", \"1\", \"2\", \"3\", \"4\", \"5\", \"6\", \"7\", \"8\", \"9\", \"10\", \"11\", \"12\", \"13\", \"14\", \"15\", \"16\", \"17\", \"18\", \"19\", \"20\", \"21\", \"22\", \"23\", \"24\", \"25\", \"26\", \"27\", \"28\", \"29\", \"30\", \"31\", \"32\", \"33\", \"34\", \"35\", \"36\", \"37\", \"38\", \"39\", \"40\", \"41\", \"42\", \"43\", \"44\", \"45\", \"47\", \"48\"], \"mode\": \"lines\", \"name\": \"accuracy_max\", \"stepped\": true, \"type\": \"scatter\", \"data\": [0.964102564102564, 0.964102564102564, 0.964102564102564, 0.964102564102564, 0.964102564102564, 0.9692307692307691, 0.9692307692307691, 0.9692307692307691, 0.9692307692307693, 0.9692307692307693, 0.9692307692307693, 0.9692307692307693, 0.9692307692307693, 0.9692307692307693, 0.9692307692307693, 0.9692307692307693, 0.9692307692307693, 0.9692307692307693, 0.9692307692307693, 0.9692307692307693, 0.9692307692307693, 0.9692307692307693, 0.9692307692307693, 0.9692307692307693, 0.9692307692307693, 0.9692307692307693, 0.9692307692307693, 0.9692307692307693, 0.9692307692307693, 0.9692307692307693, 0.9692307692307693, 0.9692307692307693, 0.9692307692307693, 0.9692307692307693, 0.9692307692307693, 0.9692307692307693, 0.9692307692307693, 0.9692307692307693, 0.9692307692307693, 0.9692307692307693, 0.9692307692307693, 0.9692307692307693, 0.9692307692307693, 0.9692307692307693, 0.9692307692307693, 0.9692307692307693, 0.9743589743589742, 0.9743589743589742]}], \"AUC_micro\": [{\"categories\": [\"0\", \"1\", \"2\", \"3\", \"4\", \"5\", \"6\", \"7\", \"8\", \"9\", \"10\", \"11\", \"12\", \"13\", \"14\", \"15\", \"16\", \"17\", \"18\", \"19\", \"20\", \"21\", \"22\", \"23\", \"24\", \"25\", \"26\", \"27\", \"28\", \"29\", \"30\", \"31\", \"32\", \"33\", \"34\", \"35\", \"36\", \"37\", \"38\", \"39\", \"40\", \"41\", \"42\", \"43\", \"44\", \"45\", \"47\", \"48\"], \"mode\": \"markers\", \"name\": \"AUC_micro\", \"stepped\": false, \"type\": \"scatter\", \"data\": [0.9935568704799473, 0.9914529914529915, 0.9767915844838923, 0.9587113740959895, 0.9748849441157134, 0.9876397107166337, 0.9531886916502301, 0.9846153846153847, 0.994214332675871, 0.9675213675213674, 0.9663379355687048, 0.9533201840894149, 0.9777777777777779, 0.9730440499671269, 0.9538461538461538, 0.969888231426693, 0.9819855358316897, 0.9197896120973045, 0.9704142011834319, 0.9431952662721894, 0.9668639053254438, 0.9727810650887573, 0.9779092702169626, 0.9426692965154503, 0.9831689677843525, 0.913872452333991, 0.9555555555555555, 0.9353057199211043, 0.9538461538461538, 0.9652859960552268, 0.7538461538461538, 0.9742274819197896, 0.972912557527942, 0.9817225509533202, 0.9351742274819198, 0.9911900065746219, 0.9359631821170282, 0.9333333333333333, 0.9529257067718605, 0.9705456936226167, 0.9534516765285996, 0.977251808021039, 0.9658119658119657, 0.9571334648257726, 0.9744904667981592, 0.9963182117028271, 0.9961867192636422, 0.9880341880341881]}, {\"categories\": [\"0\", \"1\", \"2\", \"3\", \"4\", \"5\", \"6\", \"7\", \"8\", \"9\", \"10\", \"11\", \"12\", \"13\", \"14\", \"15\", \"16\", \"17\", \"18\", \"19\", \"20\", \"21\", \"22\", \"23\", \"24\", \"25\", \"26\", \"27\", \"28\", \"29\", \"30\", \"31\", \"32\", \"33\", \"34\", \"35\", \"36\", \"37\", \"38\", \"39\", \"40\", \"41\", \"42\", \"43\", \"44\", \"45\", \"47\", \"48\"], \"mode\": \"lines\", \"name\": \"AUC_micro_max\", \"stepped\": true, \"type\": \"scatter\", \"data\": [0.9935568704799473, 0.9935568704799473, 0.9935568704799473, 0.9935568704799473, 0.9935568704799473, 0.9935568704799473, 0.9935568704799473, 0.9935568704799473, 0.994214332675871, 0.994214332675871, 0.994214332675871, 0.994214332675871, 0.994214332675871, 0.994214332675871, 0.994214332675871, 0.994214332675871, 0.994214332675871, 0.994214332675871, 0.994214332675871, 0.994214332675871, 0.994214332675871, 0.994214332675871, 0.994214332675871, 0.994214332675871, 0.994214332675871, 0.994214332675871, 0.994214332675871, 0.994214332675871, 0.994214332675871, 0.994214332675871, 0.994214332675871, 0.994214332675871, 0.994214332675871, 0.994214332675871, 0.994214332675871, 0.994214332675871, 0.994214332675871, 0.994214332675871, 0.994214332675871, 0.994214332675871, 0.994214332675871, 0.994214332675871, 0.994214332675871, 0.994214332675871, 0.994214332675871, 0.9963182117028271, 0.9963182117028271, 0.9963182117028271]}], \"average_precision_score_weighted\": [{\"categories\": [\"0\", \"1\", \"2\", \"3\", \"4\", \"5\", \"6\", \"7\", \"8\", \"9\", \"10\", \"11\", \"12\", \"13\", \"14\", \"15\", \"16\", \"17\", \"18\", \"19\", \"20\", \"21\", \"22\", \"23\", \"24\", \"25\", \"26\", \"27\", \"28\", \"29\", \"30\", \"31\", \"32\", \"33\", \"34\", \"35\", \"36\", \"37\", \"38\", \"39\", \"40\", \"41\", \"42\", \"43\", \"44\", \"45\", \"47\", \"48\"], \"mode\": \"markers\", \"name\": \"average_precision_score_weighted\", \"stepped\": false, \"type\": \"scatter\", \"data\": [0.9950476709071372, 0.9958508468385183, 0.9786009110071069, 0.9594384080492728, 0.9754962058448575, 0.9889112217717863, 0.9460164533639194, 0.983950288852823, 0.9993217535153018, 0.9616617539016111, 0.9696363180721723, 0.9393449269750775, 0.9804991226172894, 0.9718043309754538, 0.9499739714316894, 0.96786914292069, 0.9839889150287942, 0.937805070419828, 0.9713445273069354, 0.944310755012126, 0.9675212720319413, 0.973783732995989, 0.9795675593327401, 0.9530735018824202, 0.9922014206422809, 0.9017221625129063, 0.954323936781573, 0.951202023063078, 0.9659849281219749, 0.9617894743001567, 0.6365548980933596, 0.9745397182634633, 0.9751568778704385, 0.9815555433300706, 0.9311693360780119, 0.995861133093635, 0.9338196924827784, 0.9214261282926841, 0.9457698083318284, 0.9706935478130301, 0.9583062206495455, 0.9751964860657252, 0.9600354110746322, 0.9567895496531713, 0.9756671582149921, 0.999269943019943, 0.9987312329247813, 0.9987312329247813]}, {\"categories\": [\"0\", \"1\", \"2\", \"3\", \"4\", \"5\", \"6\", \"7\", \"8\", \"9\", \"10\", \"11\", \"12\", \"13\", \"14\", \"15\", \"16\", \"17\", \"18\", \"19\", \"20\", \"21\", \"22\", \"23\", \"24\", \"25\", \"26\", \"27\", \"28\", \"29\", \"30\", \"31\", \"32\", \"33\", \"34\", \"35\", \"36\", \"37\", \"38\", \"39\", \"40\", \"41\", \"42\", \"43\", \"44\", \"45\", \"47\", \"48\"], \"mode\": \"lines\", \"name\": \"average_precision_score_weighted_max\", \"stepped\": true, \"type\": \"scatter\", \"data\": [0.9950476709071372, 0.9958508468385183, 0.9958508468385183, 0.9958508468385183, 0.9958508468385183, 0.9958508468385183, 0.9958508468385183, 0.9958508468385183, 0.9993217535153018, 0.9993217535153018, 0.9993217535153018, 0.9993217535153018, 0.9993217535153018, 0.9993217535153018, 0.9993217535153018, 0.9993217535153018, 0.9993217535153018, 0.9993217535153018, 0.9993217535153018, 0.9993217535153018, 0.9993217535153018, 0.9993217535153018, 0.9993217535153018, 0.9993217535153018, 0.9993217535153018, 0.9993217535153018, 0.9993217535153018, 0.9993217535153018, 0.9993217535153018, 0.9993217535153018, 0.9993217535153018, 0.9993217535153018, 0.9993217535153018, 0.9993217535153018, 0.9993217535153018, 0.9993217535153018, 0.9993217535153018, 0.9993217535153018, 0.9993217535153018, 0.9993217535153018, 0.9993217535153018, 0.9993217535153018, 0.9993217535153018, 0.9993217535153018, 0.9993217535153018, 0.9993217535153018, 0.9993217535153018, 0.9993217535153018]}], \"norm_macro_recall\": [{\"categories\": [\"0\", \"1\", \"2\", \"3\", \"4\", \"5\", \"6\", \"7\", \"8\", \"9\", \"10\", \"11\", \"12\", \"13\", \"14\", \"15\", \"16\", \"17\", \"18\", \"19\", \"20\", \"21\", \"22\", \"23\", \"24\", \"25\", \"26\", \"27\", \"28\", \"29\", \"30\", \"31\", \"32\", \"33\", \"34\", \"35\", \"36\", \"37\", \"38\", \"39\", \"40\", \"41\", \"42\", \"43\", \"44\", \"45\", \"47\", \"48\"], \"mode\": \"markers\", \"name\": \"norm_macro_recall\", \"stepped\": false, \"type\": \"scatter\", \"data\": [0.8848812260536398, 0.8723333333333333, 0.6787192956900966, 0.6642708829916839, 0.7417428315412187, 0.9115555555555556, 0.6319660954852835, 0.7969563492063492, 0.9093333333333333, 0.6651042163250173, 0.6108253968253969, 0.7324274546674436, 0.7387619047619047, 0.7576317204301075, 0.5514372759856631, 0.6865396825396826, 0.8175555555555555, 0.3734444444444444, 0.6582309267793138, 0.5567428315412186, 0.653869321291735, 0.6596158474142345, 0.7672896825396825, 0.5585581863446156, 0.7596825396825397, 0.41602170400974636, 0.7451084582516729, 0.7034737362501545, 0.7408065752070201, 0.6844058036266045, 0.0, 0.7847629464837473, 0.6894531490015361, 0.7675555555555555, 0.5133264385472395, 0.8591867816091954, 0.4973189964157706, 0.5291883177075057, 0.5984293394777266, 0.6928253968253969, 0.6176168891360772, 0.7200952380952381, 0.7713574165298305, 0.5524407498631637, 0.6909047619047619, 0.8683055555555554, 0.9025555555555556, 0.8345555555555556]}, {\"categories\": [\"0\", \"1\", \"2\", \"3\", \"4\", \"5\", \"6\", \"7\", \"8\", \"9\", \"10\", \"11\", \"12\", \"13\", \"14\", \"15\", \"16\", \"17\", \"18\", \"19\", \"20\", \"21\", \"22\", \"23\", \"24\", \"25\", \"26\", \"27\", \"28\", \"29\", \"30\", \"31\", \"32\", \"33\", \"34\", \"35\", \"36\", \"37\", \"38\", \"39\", \"40\", \"41\", \"42\", \"43\", \"44\", \"45\", \"47\", \"48\"], \"mode\": \"lines\", \"name\": \"norm_macro_recall_max\", \"stepped\": true, \"type\": \"scatter\", \"data\": [0.8848812260536398, 0.8848812260536398, 0.8848812260536398, 0.8848812260536398, 0.8848812260536398, 0.9115555555555556, 0.9115555555555556, 0.9115555555555556, 0.9115555555555556, 0.9115555555555556, 0.9115555555555556, 0.9115555555555556, 0.9115555555555556, 0.9115555555555556, 0.9115555555555556, 0.9115555555555556, 0.9115555555555556, 0.9115555555555556, 0.9115555555555556, 0.9115555555555556, 0.9115555555555556, 0.9115555555555556, 0.9115555555555556, 0.9115555555555556, 0.9115555555555556, 0.9115555555555556, 0.9115555555555556, 0.9115555555555556, 0.9115555555555556, 0.9115555555555556, 0.9115555555555556, 0.9115555555555556, 0.9115555555555556, 0.9115555555555556, 0.9115555555555556, 0.9115555555555556, 0.9115555555555556, 0.9115555555555556, 0.9115555555555556, 0.9115555555555556, 0.9115555555555556, 0.9115555555555556, 0.9115555555555556, 0.9115555555555556, 0.9115555555555556, 0.9115555555555556, 0.9115555555555556, 0.9115555555555556]}], \"average_precision_score_macro\": [{\"categories\": [\"0\", \"1\", \"2\", \"3\", \"4\", \"5\", \"6\", \"7\", \"8\", \"9\", \"10\", \"11\", \"12\", \"13\", \"14\", \"15\", \"16\", \"17\", \"18\", \"19\", \"20\", \"21\", \"22\", \"23\", \"24\", \"25\", \"26\", \"27\", \"28\", \"29\", \"30\", \"31\", \"32\", \"33\", \"34\", \"35\", \"36\", \"37\", \"38\", \"39\", \"40\", \"41\", \"42\", \"43\", \"44\", \"45\", \"47\", \"48\"], \"mode\": \"markers\", \"name\": \"average_precision_score_macro\", \"stepped\": false, \"type\": \"scatter\", \"data\": [0.9911416177596116, 0.9929083781751883, 0.964039166259177, 0.9407540140907515, 0.9584451761529748, 0.9845373971656045, 0.9157301448913664, 0.9730556705527814, 0.9987813620071684, 0.9356562984613236, 0.9541697288220095, 0.9165888631830612, 0.9696406878359178, 0.9559650718264766, 0.9201444066580244, 0.9489951006067832, 0.9762935013924132, 0.9065849425385556, 0.9538419192781422, 0.9149993512244301, 0.9492333971871197, 0.9561537795049612, 0.9677273898320484, 0.921693795817423, 0.9874939243593304, 0.8439102932672722, 0.9287745478358339, 0.9226151133510486, 0.94511138436729, 0.9396364170857765, 0.5, 0.9632156723443088, 0.9580581197768296, 0.9714146798905586, 0.8904279614054275, 0.9925219136882946, 0.8940978594787217, 0.8884679997032838, 0.9131512864788129, 0.9551550997265889, 0.9326419145939798, 0.9608521456611084, 0.9373075463420013, 0.9310271409942459, 0.9607201922538959, 0.9985103046594981, 0.9977611599869662, 0.9977611599869662]}, {\"categories\": [\"0\", \"1\", \"2\", \"3\", \"4\", \"5\", \"6\", \"7\", \"8\", \"9\", \"10\", \"11\", \"12\", \"13\", \"14\", \"15\", \"16\", \"17\", \"18\", \"19\", \"20\", \"21\", \"22\", \"23\", \"24\", \"25\", \"26\", \"27\", \"28\", \"29\", \"30\", \"31\", \"32\", \"33\", \"34\", \"35\", \"36\", \"37\", \"38\", \"39\", \"40\", \"41\", \"42\", \"43\", \"44\", \"45\", \"47\", \"48\"], \"mode\": \"lines\", \"name\": \"average_precision_score_macro_max\", \"stepped\": true, \"type\": \"scatter\", \"data\": [0.9911416177596116, 0.9929083781751883, 0.9929083781751883, 0.9929083781751883, 0.9929083781751883, 0.9929083781751883, 0.9929083781751883, 0.9929083781751883, 0.9987813620071684, 0.9987813620071684, 0.9987813620071684, 0.9987813620071684, 0.9987813620071684, 0.9987813620071684, 0.9987813620071684, 0.9987813620071684, 0.9987813620071684, 0.9987813620071684, 0.9987813620071684, 0.9987813620071684, 0.9987813620071684, 0.9987813620071684, 0.9987813620071684, 0.9987813620071684, 0.9987813620071684, 0.9987813620071684, 0.9987813620071684, 0.9987813620071684, 0.9987813620071684, 0.9987813620071684, 0.9987813620071684, 0.9987813620071684, 0.9987813620071684, 0.9987813620071684, 0.9987813620071684, 0.9987813620071684, 0.9987813620071684, 0.9987813620071684, 0.9987813620071684, 0.9987813620071684, 0.9987813620071684, 0.9987813620071684, 0.9987813620071684, 0.9987813620071684, 0.9987813620071684, 0.9987813620071684, 0.9987813620071684, 0.9987813620071684]}], \"recall_score_weighted\": [{\"categories\": [\"0\", \"1\", \"2\", \"3\", \"4\", \"5\", \"6\", \"7\", \"8\", \"9\", \"10\", \"11\", \"12\", \"13\", \"14\", \"15\", \"16\", \"17\", \"18\", \"19\", \"20\", \"21\", \"22\", \"23\", \"24\", \"25\", \"26\", \"27\", \"28\", \"29\", \"30\", \"31\", \"32\", \"33\", \"34\", \"35\", \"36\", \"37\", \"38\", \"39\", \"40\", \"41\", \"42\", \"43\", \"44\", \"45\", \"47\", \"48\"], \"mode\": \"markers\", \"name\": \"recall_score_weighted\", \"stepped\": false, \"type\": \"scatter\", \"data\": [0.964102564102564, 0.964102564102564, 0.9025641025641026, 0.8923076923076924, 0.9128205128205128, 0.9692307692307691, 0.8923076923076924, 0.9435897435897436, 0.9692307692307693, 0.9025641025641026, 0.8974358974358975, 0.8974358974358975, 0.9333333333333333, 0.9333333333333333, 0.8820512820512819, 0.923076923076923, 0.9538461538461538, 0.8307692307692307, 0.9128205128205128, 0.8666666666666666, 0.8974358974358975, 0.9128205128205128, 0.9333333333333332, 0.8666666666666668, 0.9384615384615385, 0.8, 0.917948717948718, 0.8358974358974359, 0.8717948717948719, 0.9076923076923077, 0.7538461538461538, 0.923076923076923, 0.917948717948718, 0.9435897435897436, 0.8307692307692307, 0.9538461538461538, 0.841025641025641, 0.8615384615384615, 0.8871794871794872, 0.9179487179487179, 0.8871794871794872, 0.923076923076923, 0.9384615384615385, 0.8769230769230768, 0.917948717948718, 0.9589743589743589, 0.9743589743589742, 0.9538461538461538]}, {\"categories\": [\"0\", \"1\", \"2\", \"3\", \"4\", \"5\", \"6\", \"7\", \"8\", \"9\", \"10\", \"11\", \"12\", \"13\", \"14\", \"15\", \"16\", \"17\", \"18\", \"19\", \"20\", \"21\", \"22\", \"23\", \"24\", \"25\", \"26\", \"27\", \"28\", \"29\", \"30\", \"31\", \"32\", \"33\", \"34\", \"35\", \"36\", \"37\", \"38\", \"39\", \"40\", \"41\", \"42\", \"43\", \"44\", \"45\", \"47\", \"48\"], \"mode\": \"lines\", \"name\": \"recall_score_weighted_max\", \"stepped\": true, \"type\": \"scatter\", \"data\": [0.964102564102564, 0.964102564102564, 0.964102564102564, 0.964102564102564, 0.964102564102564, 0.9692307692307691, 0.9692307692307691, 0.9692307692307691, 0.9692307692307693, 0.9692307692307693, 0.9692307692307693, 0.9692307692307693, 0.9692307692307693, 0.9692307692307693, 0.9692307692307693, 0.9692307692307693, 0.9692307692307693, 0.9692307692307693, 0.9692307692307693, 0.9692307692307693, 0.9692307692307693, 0.9692307692307693, 0.9692307692307693, 0.9692307692307693, 0.9692307692307693, 0.9692307692307693, 0.9692307692307693, 0.9692307692307693, 0.9692307692307693, 0.9692307692307693, 0.9692307692307693, 0.9692307692307693, 0.9692307692307693, 0.9692307692307693, 0.9692307692307693, 0.9692307692307693, 0.9692307692307693, 0.9692307692307693, 0.9692307692307693, 0.9692307692307693, 0.9692307692307693, 0.9692307692307693, 0.9692307692307693, 0.9692307692307693, 0.9692307692307693, 0.9692307692307693, 0.9743589743589742, 0.9743589743589742]}], \"balanced_accuracy\": [{\"categories\": [\"0\", \"1\", \"2\", \"3\", \"4\", \"5\", \"6\", \"7\", \"8\", \"9\", \"10\", \"11\", \"12\", \"13\", \"14\", \"15\", \"16\", \"17\", \"18\", \"19\", \"20\", \"21\", \"22\", \"23\", \"24\", \"25\", \"26\", \"27\", \"28\", \"29\", \"30\", \"31\", \"32\", \"33\", \"34\", \"35\", \"36\", \"37\", \"38\", \"39\", \"40\", \"41\", \"42\", \"43\", \"44\", \"45\", \"47\", \"48\"], \"mode\": \"markers\", \"name\": \"balanced_accuracy\", \"stepped\": false, \"type\": \"scatter\", \"data\": [0.9424406130268199, 0.9361666666666666, 0.8393596478450484, 0.832135441495842, 0.8708714157706094, 0.9557777777777776, 0.8159830477426417, 0.8984781746031747, 0.9546666666666667, 0.8325521081625087, 0.8054126984126985, 0.8662137273337217, 0.8693809523809524, 0.8788158602150536, 0.7757186379928316, 0.8432698412698413, 0.9087777777777777, 0.6867222222222222, 0.8291154633896569, 0.7783714157706093, 0.8269346606458676, 0.8298079237071173, 0.8836448412698413, 0.7792790931723079, 0.8798412698412699, 0.7080108520048732, 0.8725542291258364, 0.8517368681250772, 0.87040328760351, 0.8422029018133023, 0.5, 0.8923814732418738, 0.844726574500768, 0.8837777777777778, 0.7566632192736199, 0.9295933908045976, 0.7486594982078854, 0.7645941588537528, 0.7992146697388633, 0.8464126984126985, 0.8088084445680387, 0.860047619047619, 0.8856787082649152, 0.7762203749315819, 0.845452380952381, 0.9341527777777777, 0.9512777777777778, 0.9172777777777779]}, {\"categories\": [\"0\", \"1\", \"2\", \"3\", \"4\", \"5\", \"6\", \"7\", \"8\", \"9\", \"10\", \"11\", \"12\", \"13\", \"14\", \"15\", \"16\", \"17\", \"18\", \"19\", \"20\", \"21\", \"22\", \"23\", \"24\", \"25\", \"26\", \"27\", \"28\", \"29\", \"30\", \"31\", \"32\", \"33\", \"34\", \"35\", \"36\", \"37\", \"38\", \"39\", \"40\", \"41\", \"42\", \"43\", \"44\", \"45\", \"47\", \"48\"], \"mode\": \"lines\", \"name\": \"balanced_accuracy_max\", \"stepped\": true, \"type\": \"scatter\", \"data\": [0.9424406130268199, 0.9424406130268199, 0.9424406130268199, 0.9424406130268199, 0.9424406130268199, 0.9557777777777776, 0.9557777777777776, 0.9557777777777776, 0.9557777777777776, 0.9557777777777776, 0.9557777777777776, 0.9557777777777776, 0.9557777777777776, 0.9557777777777776, 0.9557777777777776, 0.9557777777777776, 0.9557777777777776, 0.9557777777777776, 0.9557777777777776, 0.9557777777777776, 0.9557777777777776, 0.9557777777777776, 0.9557777777777776, 0.9557777777777776, 0.9557777777777776, 0.9557777777777776, 0.9557777777777776, 0.9557777777777776, 0.9557777777777776, 0.9557777777777776, 0.9557777777777776, 0.9557777777777776, 0.9557777777777776, 0.9557777777777776, 0.9557777777777776, 0.9557777777777776, 0.9557777777777776, 0.9557777777777776, 0.9557777777777776, 0.9557777777777776, 0.9557777777777776, 0.9557777777777776, 0.9557777777777776, 0.9557777777777776, 0.9557777777777776, 0.9557777777777776, 0.9557777777777776, 0.9557777777777776]}], \"matthews_correlation\": [{\"categories\": [\"0\", \"1\", \"2\", \"3\", \"4\", \"5\", \"6\", \"7\", \"8\", \"9\", \"10\", \"11\", \"12\", \"13\", \"14\", \"15\", \"16\", \"17\", \"18\", \"19\", \"20\", \"21\", \"22\", \"23\", \"24\", \"25\", \"26\", \"27\", \"28\", \"29\", \"30\", \"31\", \"32\", \"33\", \"34\", \"35\", \"36\", \"37\", \"38\", \"39\", \"40\", \"41\", \"42\", \"43\", \"44\", \"45\", \"47\", \"48\"], \"mode\": \"markers\", \"name\": \"matthews_correlation\", \"stepped\": false, \"type\": \"scatter\", \"data\": [0.9059170029620965, 0.9058274526265475, 0.7300139568988049, 0.719189851862612, 0.7699938771889551, 0.9275894116171866, 0.6852836344283746, 0.8432192210072849, 0.9259591066217215, 0.7113161007501129, 0.7188749787579527, 0.7391095646784226, 0.8159641387920955, 0.8070528735302753, 0.6620473385394561, 0.7801306352097027, 0.8731985726505634, 0.5176349305217636, 0.7531641490086484, 0.62932120835302, 0.7113205120034168, 0.7361522944963579, 0.8188977191247322, 0.62795957508759, 0.8351068741958232, 0.43739049695863824, 0.7647268979216347, 0.634982946205426, 0.6922203915257361, 0.732504172249665, 0.0, 0.8131257108860526, 0.7686766167586355, 0.8384191858473985, 0.5360946742879502, 0.8765198181238361, 0.5506306489940375, 0.6010742864346083, 0.674178713599624, 0.7760598625838433, 0.670002395539786, 0.7883842071927575, 0.8229808761971793, 0.6412332931635911, 0.7778675148356001, 0.8915178322783, 0.9307811451701603, 0.8795896903909387]}, {\"categories\": [\"0\", \"1\", \"2\", \"3\", \"4\", \"5\", \"6\", \"7\", \"8\", \"9\", \"10\", \"11\", \"12\", \"13\", \"14\", \"15\", \"16\", \"17\", \"18\", \"19\", \"20\", \"21\", \"22\", \"23\", \"24\", \"25\", \"26\", \"27\", \"28\", \"29\", \"30\", \"31\", \"32\", \"33\", \"34\", \"35\", \"36\", \"37\", \"38\", \"39\", \"40\", \"41\", \"42\", \"43\", \"44\", \"45\", \"47\", \"48\"], \"mode\": \"lines\", \"name\": \"matthews_correlation_max\", \"stepped\": true, \"type\": \"scatter\", \"data\": [0.9059170029620965, 0.9059170029620965, 0.9059170029620965, 0.9059170029620965, 0.9059170029620965, 0.9275894116171866, 0.9275894116171866, 0.9275894116171866, 0.9275894116171866, 0.9275894116171866, 0.9275894116171866, 0.9275894116171866, 0.9275894116171866, 0.9275894116171866, 0.9275894116171866, 0.9275894116171866, 0.9275894116171866, 0.9275894116171866, 0.9275894116171866, 0.9275894116171866, 0.9275894116171866, 0.9275894116171866, 0.9275894116171866, 0.9275894116171866, 0.9275894116171866, 0.9275894116171866, 0.9275894116171866, 0.9275894116171866, 0.9275894116171866, 0.9275894116171866, 0.9275894116171866, 0.9275894116171866, 0.9275894116171866, 0.9275894116171866, 0.9275894116171866, 0.9275894116171866, 0.9275894116171866, 0.9275894116171866, 0.9275894116171866, 0.9275894116171866, 0.9275894116171866, 0.9275894116171866, 0.9275894116171866, 0.9275894116171866, 0.9275894116171866, 0.9275894116171866, 0.9307811451701603, 0.9307811451701603]}], \"recall_score_macro\": [{\"categories\": [\"0\", \"1\", \"2\", \"3\", \"4\", \"5\", \"6\", \"7\", \"8\", \"9\", \"10\", \"11\", \"12\", \"13\", \"14\", \"15\", \"16\", \"17\", \"18\", \"19\", \"20\", \"21\", \"22\", \"23\", \"24\", \"25\", \"26\", \"27\", \"28\", \"29\", \"30\", \"31\", \"32\", \"33\", \"34\", \"35\", \"36\", \"37\", \"38\", \"39\", \"40\", \"41\", \"42\", \"43\", \"44\", \"45\", \"47\", \"48\"], \"mode\": \"markers\", \"name\": \"recall_score_macro\", \"stepped\": false, \"type\": \"scatter\", \"data\": [0.9424406130268199, 0.9361666666666666, 0.8393596478450484, 0.832135441495842, 0.8708714157706094, 0.9557777777777776, 0.8159830477426417, 0.8984781746031747, 0.9546666666666667, 0.8325521081625087, 0.8054126984126985, 0.8662137273337217, 0.8693809523809524, 0.8788158602150536, 0.7757186379928316, 0.8432698412698413, 0.9087777777777777, 0.6867222222222222, 0.8291154633896569, 0.7783714157706093, 0.8269346606458676, 0.8298079237071173, 0.8836448412698413, 0.7792790931723079, 0.8798412698412699, 0.7080108520048732, 0.8725542291258364, 0.8517368681250772, 0.87040328760351, 0.8422029018133023, 0.5, 0.8923814732418738, 0.844726574500768, 0.8837777777777778, 0.7566632192736199, 0.9295933908045976, 0.7486594982078854, 0.7645941588537528, 0.7992146697388633, 0.8464126984126985, 0.8088084445680387, 0.860047619047619, 0.8856787082649152, 0.7762203749315819, 0.845452380952381, 0.9341527777777777, 0.9512777777777778, 0.9172777777777779]}, {\"categories\": [\"0\", \"1\", \"2\", \"3\", \"4\", \"5\", \"6\", \"7\", \"8\", \"9\", \"10\", \"11\", \"12\", \"13\", \"14\", \"15\", \"16\", \"17\", \"18\", \"19\", \"20\", \"21\", \"22\", \"23\", \"24\", \"25\", \"26\", \"27\", \"28\", \"29\", \"30\", \"31\", \"32\", \"33\", \"34\", \"35\", \"36\", \"37\", \"38\", \"39\", \"40\", \"41\", \"42\", \"43\", \"44\", \"45\", \"47\", \"48\"], \"mode\": \"lines\", \"name\": \"recall_score_macro_max\", \"stepped\": true, \"type\": \"scatter\", \"data\": [0.9424406130268199, 0.9424406130268199, 0.9424406130268199, 0.9424406130268199, 0.9424406130268199, 0.9557777777777776, 0.9557777777777776, 0.9557777777777776, 0.9557777777777776, 0.9557777777777776, 0.9557777777777776, 0.9557777777777776, 0.9557777777777776, 0.9557777777777776, 0.9557777777777776, 0.9557777777777776, 0.9557777777777776, 0.9557777777777776, 0.9557777777777776, 0.9557777777777776, 0.9557777777777776, 0.9557777777777776, 0.9557777777777776, 0.9557777777777776, 0.9557777777777776, 0.9557777777777776, 0.9557777777777776, 0.9557777777777776, 0.9557777777777776, 0.9557777777777776, 0.9557777777777776, 0.9557777777777776, 0.9557777777777776, 0.9557777777777776, 0.9557777777777776, 0.9557777777777776, 0.9557777777777776, 0.9557777777777776, 0.9557777777777776, 0.9557777777777776, 0.9557777777777776, 0.9557777777777776, 0.9557777777777776, 0.9557777777777776, 0.9557777777777776, 0.9557777777777776, 0.9557777777777776, 0.9557777777777776]}], \"recall_score_micro\": [{\"categories\": [\"0\", \"1\", \"2\", \"3\", \"4\", \"5\", \"6\", \"7\", \"8\", \"9\", \"10\", \"11\", \"12\", \"13\", \"14\", \"15\", \"16\", \"17\", \"18\", \"19\", \"20\", \"21\", \"22\", \"23\", \"24\", \"25\", \"26\", \"27\", \"28\", \"29\", \"30\", \"31\", \"32\", \"33\", \"34\", \"35\", \"36\", \"37\", \"38\", \"39\", \"40\", \"41\", \"42\", \"43\", \"44\", \"45\", \"47\", \"48\"], \"mode\": \"markers\", \"name\": \"recall_score_micro\", \"stepped\": false, \"type\": \"scatter\", \"data\": [0.964102564102564, 0.964102564102564, 0.9025641025641026, 0.8923076923076924, 0.9128205128205128, 0.9692307692307691, 0.8923076923076924, 0.9435897435897436, 0.9692307692307693, 0.9025641025641026, 0.8974358974358975, 0.8974358974358975, 0.9333333333333333, 0.9333333333333333, 0.8820512820512819, 0.923076923076923, 0.9538461538461538, 0.8307692307692307, 0.9128205128205128, 0.8666666666666666, 0.8974358974358975, 0.9128205128205128, 0.9333333333333332, 0.8666666666666668, 0.9384615384615385, 0.8, 0.917948717948718, 0.8358974358974359, 0.8717948717948719, 0.9076923076923077, 0.7538461538461538, 0.923076923076923, 0.917948717948718, 0.9435897435897436, 0.8307692307692307, 0.9538461538461538, 0.841025641025641, 0.8615384615384615, 0.8871794871794872, 0.9179487179487179, 0.8871794871794872, 0.923076923076923, 0.9384615384615385, 0.8769230769230768, 0.917948717948718, 0.9589743589743589, 0.9743589743589742, 0.9538461538461538]}, {\"categories\": [\"0\", \"1\", \"2\", \"3\", \"4\", \"5\", \"6\", \"7\", \"8\", \"9\", \"10\", \"11\", \"12\", \"13\", \"14\", \"15\", \"16\", \"17\", \"18\", \"19\", \"20\", \"21\", \"22\", \"23\", \"24\", \"25\", \"26\", \"27\", \"28\", \"29\", \"30\", \"31\", \"32\", \"33\", \"34\", \"35\", \"36\", \"37\", \"38\", \"39\", \"40\", \"41\", \"42\", \"43\", \"44\", \"45\", \"47\", \"48\"], \"mode\": \"lines\", \"name\": \"recall_score_micro_max\", \"stepped\": true, \"type\": \"scatter\", \"data\": [0.964102564102564, 0.964102564102564, 0.964102564102564, 0.964102564102564, 0.964102564102564, 0.9692307692307691, 0.9692307692307691, 0.9692307692307691, 0.9692307692307693, 0.9692307692307693, 0.9692307692307693, 0.9692307692307693, 0.9692307692307693, 0.9692307692307693, 0.9692307692307693, 0.9692307692307693, 0.9692307692307693, 0.9692307692307693, 0.9692307692307693, 0.9692307692307693, 0.9692307692307693, 0.9692307692307693, 0.9692307692307693, 0.9692307692307693, 0.9692307692307693, 0.9692307692307693, 0.9692307692307693, 0.9692307692307693, 0.9692307692307693, 0.9692307692307693, 0.9692307692307693, 0.9692307692307693, 0.9692307692307693, 0.9692307692307693, 0.9692307692307693, 0.9692307692307693, 0.9692307692307693, 0.9692307692307693, 0.9692307692307693, 0.9692307692307693, 0.9692307692307693, 0.9692307692307693, 0.9692307692307693, 0.9692307692307693, 0.9692307692307693, 0.9692307692307693, 0.9743589743589742, 0.9743589743589742]}], \"f1_score_macro\": [{\"categories\": [\"0\", \"1\", \"2\", \"3\", \"4\", \"5\", \"6\", \"7\", \"8\", \"9\", \"10\", \"11\", \"12\", \"13\", \"14\", \"15\", \"16\", \"17\", \"18\", \"19\", \"20\", \"21\", \"22\", \"23\", \"24\", \"25\", \"26\", \"27\", \"28\", \"29\", \"30\", \"31\", \"32\", \"33\", \"34\", \"35\", \"36\", \"37\", \"38\", \"39\", \"40\", \"41\", \"42\", \"43\", \"44\", \"45\", \"47\", \"48\"], \"mode\": \"markers\", \"name\": \"f1_score_macro\", \"stepped\": false, \"type\": \"scatter\", \"data\": [0.9507859793154119, 0.9491927205018195, 0.8528693966072639, 0.8542351055306673, 0.8768865678412447, 0.9612557223211698, 0.8352118064612739, 0.9153719279885408, 0.9591776971598523, 0.8502491728701408, 0.8412233599733601, 0.861451870279974, 0.8964934371184372, 0.8952219933208729, 0.8063899308752249, 0.8742689165673037, 0.9299227741708475, 0.7119181242078736, 0.8621961549980417, 0.8006509462759464, 0.8484088707167455, 0.853340888314768, 0.9008883992002312, 0.803565947940948, 0.9068358119360859, 0.7150914254590724, 0.879883321087998, 0.8014209174747327, 0.8375100704923977, 0.8573344854070661, 0.4290879130280404, 0.8972951230701429, 0.8730421029435809, 0.9079395490626222, 0.7561396396795187, 0.9344485495347564, 0.7562815665825955, 0.7820137427439321, 0.8225993130227, 0.8726663524647396, 0.8293318957028635, 0.8819120659016295, 0.9060721646668043, 0.7921677496567752, 0.8785409653246464, 0.9424884792626728, 0.9635730599568451, 0.9337352790578596]}, {\"categories\": [\"0\", \"1\", \"2\", \"3\", \"4\", \"5\", \"6\", \"7\", \"8\", \"9\", \"10\", \"11\", \"12\", \"13\", \"14\", \"15\", \"16\", \"17\", \"18\", \"19\", \"20\", \"21\", \"22\", \"23\", \"24\", \"25\", \"26\", \"27\", \"28\", \"29\", \"30\", \"31\", \"32\", \"33\", \"34\", \"35\", \"36\", \"37\", \"38\", \"39\", \"40\", \"41\", \"42\", \"43\", \"44\", \"45\", \"47\", \"48\"], \"mode\": \"lines\", \"name\": \"f1_score_macro_max\", \"stepped\": true, \"type\": \"scatter\", \"data\": [0.9507859793154119, 0.9507859793154119, 0.9507859793154119, 0.9507859793154119, 0.9507859793154119, 0.9612557223211698, 0.9612557223211698, 0.9612557223211698, 0.9612557223211698, 0.9612557223211698, 0.9612557223211698, 0.9612557223211698, 0.9612557223211698, 0.9612557223211698, 0.9612557223211698, 0.9612557223211698, 0.9612557223211698, 0.9612557223211698, 0.9612557223211698, 0.9612557223211698, 0.9612557223211698, 0.9612557223211698, 0.9612557223211698, 0.9612557223211698, 0.9612557223211698, 0.9612557223211698, 0.9612557223211698, 0.9612557223211698, 0.9612557223211698, 0.9612557223211698, 0.9612557223211698, 0.9612557223211698, 0.9612557223211698, 0.9612557223211698, 0.9612557223211698, 0.9612557223211698, 0.9612557223211698, 0.9612557223211698, 0.9612557223211698, 0.9612557223211698, 0.9612557223211698, 0.9612557223211698, 0.9612557223211698, 0.9612557223211698, 0.9612557223211698, 0.9612557223211698, 0.9635730599568451, 0.9635730599568451]}]}, \"metricName\": null, \"primaryMetricName\": \"accuracy\", \"showLegend\": false}, \"run_metrics\": [{\"name\": \"experiment_status\", \"run_id\": \"AutoML_a647e683-2a75-47a6-8915-7892ca77fef2\", \"categories\": [0, 1, 2, 3, 4, 5, 6, 7, 8, 9, 10, 11, 12, 13], \"series\": [{\"data\": [\"DatasetEvaluation\", \"FeaturesGeneration\", \"DatasetFeaturization\", \"DatasetFeaturizationCompleted\", \"DatasetCrossValidationSplit\", \"ModelSelection\", \"BestRunExplainModel\", \"ModelExplanationDataSetSetup\", \"PickSurrogateModel\", \"EngineeredFeatureExplanations\", \"EngineeredFeatureExplanations\", \"RawFeaturesExplanations\", \"RawFeaturesExplanations\", \"BestRunExplainModel\"]}]}, {\"name\": \"experiment_status_description\", \"run_id\": \"AutoML_a647e683-2a75-47a6-8915-7892ca77fef2\", \"categories\": [0, 1, 2, 3, 4, 5, 6, 7, 8, 9, 10, 11, 12, 13], \"series\": [{\"data\": [\"Gathering dataset statistics.\", \"Generating features for the dataset.\", \"Beginning to fit featurizers and featurize the dataset.\", \"Completed fit featurizers and featurizing the dataset.\", \"Generating individually featurized CV splits.\", \"Beginning model selection.\", \"Best run model explanations started\", \"Model explanations data setup completed\", \"Choosing LightGBM as the surrogate model for explanations\", \"Computation of engineered features started\", \"Computation of engineered features completed\", \"Computation of raw features started\", \"Computation of raw features completed\", \"Best run model explanations completed\"]}]}, {\"name\": \"average_precision_score_weighted\", \"run_id\": \"AutoML_a647e683-2a75-47a6-8915-7892ca77fef2\", \"categories\": [0], \"series\": [{\"data\": [0.9987312329247813]}]}, {\"name\": \"recall_score_weighted\", \"run_id\": \"AutoML_a647e683-2a75-47a6-8915-7892ca77fef2\", \"categories\": [0], \"series\": [{\"data\": [0.9743589743589742]}]}, {\"name\": \"norm_macro_recall\", \"run_id\": \"AutoML_a647e683-2a75-47a6-8915-7892ca77fef2\", \"categories\": [0], \"series\": [{\"data\": [0.9025555555555556]}]}, {\"name\": \"matthews_correlation\", \"run_id\": \"AutoML_a647e683-2a75-47a6-8915-7892ca77fef2\", \"categories\": [0], \"series\": [{\"data\": [0.9307811451701603]}]}, {\"name\": \"recall_score_macro\", \"run_id\": \"AutoML_a647e683-2a75-47a6-8915-7892ca77fef2\", \"categories\": [0], \"series\": [{\"data\": [0.9512777777777778]}]}, {\"name\": \"weighted_accuracy\", \"run_id\": \"AutoML_a647e683-2a75-47a6-8915-7892ca77fef2\", \"categories\": [0], \"series\": [{\"data\": [0.9865537671244331]}]}, {\"name\": \"f1_score_weighted\", \"run_id\": \"AutoML_a647e683-2a75-47a6-8915-7892ca77fef2\", \"categories\": [0], \"series\": [{\"data\": [0.9736977298645872]}]}, {\"name\": \"AUC_micro\", \"run_id\": \"AutoML_a647e683-2a75-47a6-8915-7892ca77fef2\", \"categories\": [0], \"series\": [{\"data\": [0.9961867192636422]}]}, {\"name\": \"AUC_weighted\", \"run_id\": \"AutoML_a647e683-2a75-47a6-8915-7892ca77fef2\", \"categories\": [0], \"series\": [{\"data\": [0.9985185185185184]}]}, {\"name\": \"f1_score_micro\", \"run_id\": \"AutoML_a647e683-2a75-47a6-8915-7892ca77fef2\", \"categories\": [0], \"series\": [{\"data\": [0.9743589743589742]}]}, {\"name\": \"average_precision_score_macro\", \"run_id\": \"AutoML_a647e683-2a75-47a6-8915-7892ca77fef2\", \"categories\": [0], \"series\": [{\"data\": [0.9977611599869662]}]}, {\"name\": \"AUC_macro\", \"run_id\": \"AutoML_a647e683-2a75-47a6-8915-7892ca77fef2\", \"categories\": [0], \"series\": [{\"data\": [0.9985185185185184]}]}, {\"name\": \"log_loss\", \"run_id\": \"AutoML_a647e683-2a75-47a6-8915-7892ca77fef2\", \"categories\": [0], \"series\": [{\"data\": [0.11014503986684092]}]}, {\"name\": \"recall_score_micro\", \"run_id\": \"AutoML_a647e683-2a75-47a6-8915-7892ca77fef2\", \"categories\": [0], \"series\": [{\"data\": [0.9743589743589742]}]}, {\"name\": \"average_precision_score_micro\", \"run_id\": \"AutoML_a647e683-2a75-47a6-8915-7892ca77fef2\", \"categories\": [0], \"series\": [{\"data\": [0.9963642228952025]}]}, {\"name\": \"precision_score_weighted\", \"run_id\": \"AutoML_a647e683-2a75-47a6-8915-7892ca77fef2\", \"categories\": [0], \"series\": [{\"data\": [0.9756730769230769]}]}, {\"name\": \"balanced_accuracy\", \"run_id\": \"AutoML_a647e683-2a75-47a6-8915-7892ca77fef2\", \"categories\": [0], \"series\": [{\"data\": [0.9512777777777778]}]}, {\"name\": \"precision_score_micro\", \"run_id\": \"AutoML_a647e683-2a75-47a6-8915-7892ca77fef2\", \"categories\": [0], \"series\": [{\"data\": [0.9743589743589742]}]}, {\"name\": \"accuracy\", \"run_id\": \"AutoML_a647e683-2a75-47a6-8915-7892ca77fef2\", \"categories\": [0], \"series\": [{\"data\": [0.9743589743589742]}]}, {\"name\": \"precision_score_macro\", \"run_id\": \"AutoML_a647e683-2a75-47a6-8915-7892ca77fef2\", \"categories\": [0], \"series\": [{\"data\": [0.9806250000000001]}]}, {\"name\": \"f1_score_macro\", \"run_id\": \"AutoML_a647e683-2a75-47a6-8915-7892ca77fef2\", \"categories\": [0], \"series\": [{\"data\": [0.9635730599568451]}]}], \"run_logs\": \"\\nRun is completed.\", \"graph\": {}, \"widget_settings\": {\"childWidgetDisplay\": \"popup\", \"send_telemetry\": false, \"log_level\": \"INFO\", \"sdk_version\": \"1.20.0\"}, \"loading\": false}"
     },
     "metadata": {},
     "output_type": "display_data"
    },
    {
     "name": "stdout",
     "output_type": "stream",
     "text": [
      "\n",
      "\n",
      "****************************************************************************************************\n",
      "DATA GUARDRAILS: \n",
      "\n",
      "TYPE:         Class balancing detection\n",
      "STATUS:       PASSED\n",
      "DESCRIPTION:  Your inputs were analyzed, and all classes are balanced in your training data.\n",
      "              Learn more about imbalanced data: https://aka.ms/AutomatedMLImbalancedData\n",
      "\n",
      "****************************************************************************************************\n",
      "\n",
      "TYPE:         Missing feature values imputation\n",
      "STATUS:       PASSED\n",
      "DESCRIPTION:  No feature missing values were detected in the training data.\n",
      "              Learn more about missing value imputation: https://aka.ms/AutomatedMLFeaturization\n",
      "\n",
      "****************************************************************************************************\n",
      "\n",
      "TYPE:         High cardinality feature detection\n",
      "STATUS:       PASSED\n",
      "DESCRIPTION:  Your inputs were analyzed, and no high cardinality features were detected.\n",
      "              Learn more about high cardinality feature handling: https://aka.ms/AutomatedMLFeaturization\n",
      "\n",
      "****************************************************************************************************\n",
      "\n",
      "****************************************************************************************************\n",
      "ITERATION: The iteration being evaluated.\n",
      "PIPELINE: A summary description of the pipeline being evaluated.\n",
      "DURATION: Time taken for the current iteration.\n",
      "METRIC: The result of computing score on the fitted pipeline.\n",
      "BEST: The best observed score thus far.\n",
      "****************************************************************************************************\n",
      "\n",
      " ITERATION   PIPELINE                                       DURATION      METRIC      BEST\n",
      "         0   MaxAbsScaler LightGBM                          0:02:12       0.9641    0.9641\n",
      "         1   MaxAbsScaler XGBoostClassifier                 0:02:10       0.9641    0.9641\n",
      "         2   MinMaxScaler RandomForest                      0:00:54       0.9026    0.9641\n",
      "         3   MinMaxScaler RandomForest                      0:01:00       0.8923    0.9641\n",
      "         4   MinMaxScaler RandomForest                      0:02:05       0.9128    0.9641\n",
      "         5   MinMaxScaler SVM                               0:01:01       0.9692    0.9692\n",
      "         6   SparseNormalizer XGBoostClassifier             0:00:48       0.8923    0.9692\n",
      "         7   SparseNormalizer XGBoostClassifier             0:00:54       0.9436    0.9692\n",
      "        10   MaxAbsScaler LightGBM                          0:00:54       0.8974    0.9692\n",
      "        11   StandardScalerWrapper XGBoostClassifier        0:00:50       0.8974    0.9692\n",
      "         8   MaxAbsScaler GradientBoosting                  0:00:59       0.9692    0.9692\n",
      "         9   SparseNormalizer LightGBM                      0:00:50       0.9026    0.9692\n",
      "        12   MinMaxScaler LightGBM                          0:00:48       0.9333    0.9692\n",
      "        13   SparseNormalizer XGBoostClassifier             0:00:48       0.9333    0.9692\n",
      "        14   RobustScaler ExtremeRandomTrees                0:00:49       0.8821    0.9692\n",
      "        15   SparseNormalizer XGBoostClassifier             0:00:54       0.9231    0.9692\n",
      "        16   SparseNormalizer XGBoostClassifier             0:00:49       0.9538    0.9692\n",
      "        17   StandardScalerWrapper LightGBM                 0:00:58       0.8308    0.9692\n",
      "        18   MaxAbsScaler ExtremeRandomTrees                0:00:56       0.9128    0.9692\n",
      "        19   StandardScalerWrapper LightGBM                 0:00:57       0.8667    0.9692\n",
      "        20   RobustScaler LightGBM                          0:00:54       0.8974    0.9692\n",
      "        21   SparseNormalizer XGBoostClassifier             0:00:53       0.9128    0.9692\n",
      "        22   StandardScalerWrapper LightGBM                 0:00:50       0.9333    0.9692\n",
      "        23   SparseNormalizer KNN                           0:00:49       0.8667    0.9692\n",
      "        24   RobustScaler KNN                               0:00:48       0.9385    0.9692\n",
      "        25   StandardScalerWrapper GradientBoosting         0:00:55       0.8000    0.9692\n",
      "        26   SparseNormalizer RandomForest                  0:00:49       0.9179    0.9692\n",
      "        27   MaxAbsScaler ExtremeRandomTrees                0:00:44       0.8359    0.9692\n",
      "        28   SparseNormalizer ExtremeRandomTrees            0:00:46       0.8718    0.9692\n",
      "        29   SparseNormalizer XGBoostClassifier             0:00:57       0.9077    0.9692\n",
      "        30   MinMaxScaler GradientBoosting                  0:00:56       0.7538    0.9692\n",
      "        31   StandardScalerWrapper XGBoostClassifier        0:00:50       0.9231    0.9692\n",
      "        32   StandardScalerWrapper XGBoostClassifier        0:00:56       0.9179    0.9692\n",
      "        33   SparseNormalizer XGBoostClassifier             0:00:55       0.9436    0.9692\n",
      "        34   MinMaxScaler LogisticRegression                0:00:55       0.8308    0.9692\n",
      "        35   StandardScalerWrapper GradientBoosting         0:00:53       0.9538    0.9692\n",
      "        36   StandardScalerWrapper LogisticRegression       0:00:52       0.8410    0.9692\n",
      "        37   SparseNormalizer XGBoostClassifier             0:00:49       0.8615    0.9692\n",
      "        38   SparseNormalizer LightGBM                      0:00:52       0.8872    0.9692\n",
      "        39   SparseNormalizer XGBoostClassifier             0:00:52       0.9179    0.9692\n",
      "        40   MaxAbsScaler GradientBoosting                  0:00:52       0.8872    0.9692\n",
      "        41   StandardScalerWrapper ExtremeRandomTrees       0:00:51       0.9231    0.9692\n",
      "        42   SparseNormalizer LightGBM                      0:00:49       0.9385    0.9692\n",
      "        43   StandardScalerWrapper ExtremeRandomTrees       0:00:54       0.8769    0.9692\n",
      "        44   MaxAbsScaler RandomForest                      0:00:51       0.9179    0.9692\n",
      "ERROR: {\n",
      "    \"additional_properties\": {},\n",
      "    \"error\": {\n",
      "        \"additional_properties\": {\n",
      "            \"debugInfo\": null\n",
      "        },\n",
      "        \"code\": \"UserError\",\n",
      "        \"severity\": null,\n",
      "        \"message\": \"Experiment timeout reached, please consider increasing your experiment timeout.\",\n",
      "        \"message_format\": \"Experiment timeout reached, please consider increasing your experiment timeout.\",\n",
      "        \"message_parameters\": {},\n",
      "        \"reference_code\": null,\n",
      "        \"details_uri\": null,\n",
      "        \"target\": null,\n",
      "        \"details\": [],\n",
      "        \"inner_error\": {\n",
      "            \"additional_properties\": {},\n",
      "            \"code\": \"ResourceExhausted\",\n",
      "            \"inner_error\": {\n",
      "                \"additional_properties\": {},\n",
      "                \"code\": \"Timeout\",\n",
      "                \"inner_error\": {\n",
      "                    \"additional_properties\": {},\n",
      "                    \"code\": \"ExperimentTimeoutForIterations\",\n",
      "                    \"inner_error\": null\n",
      "                }\n",
      "            }\n",
      "        }\n",
      "    },\n",
      "    \"correlation\": null,\n",
      "    \"environment\": null,\n",
      "    \"location\": null,\n",
      "    \"time\": {},\n",
      "    \"component_name\": null\n",
      "}\n",
      "        45   MinMaxScaler GradientBoosting                  0:00:39       0.9590    0.9692\n",
      "ERROR: {\n",
      "    \"additional_properties\": {},\n",
      "    \"error\": {\n",
      "        \"additional_properties\": {\n",
      "            \"debugInfo\": null\n",
      "        },\n",
      "        \"code\": \"UserError\",\n",
      "        \"severity\": null,\n",
      "        \"message\": \"Experiment timeout reached, please consider increasing your experiment timeout.\",\n",
      "        \"message_format\": \"Experiment timeout reached, please consider increasing your experiment timeout.\",\n",
      "        \"message_parameters\": {},\n",
      "        \"reference_code\": null,\n",
      "        \"details_uri\": null,\n",
      "        \"target\": null,\n",
      "        \"details\": [],\n",
      "        \"inner_error\": {\n",
      "            \"additional_properties\": {},\n",
      "            \"code\": \"ResourceExhausted\",\n",
      "            \"inner_error\": {\n",
      "                \"additional_properties\": {},\n",
      "                \"code\": \"Timeout\",\n",
      "                \"inner_error\": {\n",
      "                    \"additional_properties\": {},\n",
      "                    \"code\": \"ExperimentTimeoutForIterations\",\n",
      "                    \"inner_error\": null\n",
      "                }\n",
      "            }\n",
      "        }\n",
      "    },\n",
      "    \"correlation\": null,\n",
      "    \"environment\": null,\n",
      "    \"location\": null,\n",
      "    \"time\": {},\n",
      "    \"component_name\": null\n",
      "}\n",
      "        46   SparseNormalizer XGBoostClassifier             0:00:27          nan    0.9692\n"
     ]
    },
    {
     "name": "stdout",
     "output_type": "stream",
     "text": [
      "ERROR: {\n",
      "    \"additional_properties\": {},\n",
      "    \"error\": {\n",
      "        \"additional_properties\": {\n",
      "            \"debugInfo\": null\n",
      "        },\n",
      "        \"code\": \"UserError\",\n",
      "        \"severity\": null,\n",
      "        \"message\": \"Experiment timeout reached, please consider increasing your experiment timeout.\",\n",
      "        \"message_format\": \"Experiment timeout reached, please consider increasing your experiment timeout.\",\n",
      "        \"message_parameters\": {},\n",
      "        \"reference_code\": null,\n",
      "        \"details_uri\": null,\n",
      "        \"target\": null,\n",
      "        \"details\": [],\n",
      "        \"inner_error\": {\n",
      "            \"additional_properties\": {},\n",
      "            \"code\": \"ResourceExhausted\",\n",
      "            \"inner_error\": {\n",
      "                \"additional_properties\": {},\n",
      "                \"code\": \"Timeout\",\n",
      "                \"inner_error\": {\n",
      "                    \"additional_properties\": {},\n",
      "                    \"code\": \"ExperimentTimeoutForIterations\",\n",
      "                    \"inner_error\": null\n",
      "                }\n",
      "            }\n",
      "        }\n",
      "    },\n",
      "    \"correlation\": null,\n",
      "    \"environment\": null,\n",
      "    \"location\": null,\n",
      "    \"time\": {},\n",
      "    \"component_name\": null\n",
      "}\n",
      "        47    VotingEnsemble                                0:02:00       0.9744    0.9744\n",
      "        48    StackEnsemble                                 0:02:51       0.9538    0.9744\n"
     ]
    },
    {
     "data": {
      "text/plain": [
       "{'runId': 'AutoML_a647e683-2a75-47a6-8915-7892ca77fef2',\n",
       " 'target': 'cpu-cluster',\n",
       " 'status': 'Completed',\n",
       " 'startTimeUtc': '2021-02-07T07:39:40.13579Z',\n",
       " 'endTimeUtc': '2021-02-07T08:04:20.696772Z',\n",
       " 'properties': {'num_iterations': '1000',\n",
       "  'training_type': 'TrainFull',\n",
       "  'acquisition_function': 'EI',\n",
       "  'primary_metric': 'accuracy',\n",
       "  'train_split': '0',\n",
       "  'acquisition_parameter': '0',\n",
       "  'num_cross_validation': '5',\n",
       "  'target': 'cpu-cluster',\n",
       "  'AMLSettingsJsonString': '{\"path\":null,\"name\":\"Parkinson-classification\",\"subscription_id\":\"61c5c3f0-6dc7-4ed9-a7f3-c704b20e3b30\",\"resource_group\":\"aml-quickstarts-137760\",\"workspace_name\":\"quick-starts-ws-137760\",\"region\":\"southcentralus\",\"compute_target\":\"cpu-cluster\",\"spark_service\":null,\"azure_service\":\"remote\",\"many_models\":false,\"pipeline_fetch_max_batch_size\":1,\"iterations\":1000,\"primary_metric\":\"accuracy\",\"task_type\":\"classification\",\"data_script\":null,\"validation_size\":0.0,\"n_cross_validations\":5,\"y_min\":null,\"y_max\":null,\"num_classes\":null,\"featurization\":\"auto\",\"_ignore_package_version_incompatibilities\":false,\"is_timeseries\":false,\"max_cores_per_iteration\":1,\"max_concurrent_iterations\":4,\"iteration_timeout_minutes\":null,\"mem_in_mb\":null,\"enforce_time_on_windows\":false,\"experiment_timeout_minutes\":15,\"experiment_exit_score\":null,\"whitelist_models\":null,\"blacklist_algos\":[\"TensorFlowLinearClassifier\",\"TensorFlowDNN\"],\"supported_models\":[\"TensorFlowLinearClassifier\",\"SGD\",\"RandomForest\",\"KNN\",\"BernoulliNaiveBayes\",\"SVM\",\"LightGBM\",\"AveragedPerceptronClassifier\",\"TensorFlowDNN\",\"LogisticRegression\",\"GradientBoosting\",\"XGBoostClassifier\",\"DecisionTree\",\"LinearSVM\",\"MultinomialNaiveBayes\",\"ExtremeRandomTrees\"],\"auto_blacklist\":true,\"blacklist_samples_reached\":false,\"exclude_nan_labels\":true,\"verbosity\":20,\"_debug_log\":\"azureml_automl.log\",\"show_warnings\":false,\"model_explainability\":true,\"service_url\":null,\"sdk_url\":null,\"sdk_packages\":null,\"enable_onnx_compatible_models\":false,\"enable_split_onnx_featurizer_estimator_models\":false,\"vm_type\":\"STANDARD_DS3_V2\",\"telemetry_verbosity\":20,\"send_telemetry\":true,\"enable_dnn\":false,\"scenario\":\"SDK-1.13.0\",\"environment_label\":null,\"force_text_dnn\":false,\"enable_feature_sweeping\":true,\"enable_early_stopping\":false,\"early_stopping_n_iters\":10,\"metrics\":null,\"enable_ensembling\":true,\"enable_stack_ensembling\":true,\"ensemble_iterations\":15,\"enable_tf\":false,\"enable_subsampling\":null,\"subsample_seed\":null,\"enable_nimbusml\":false,\"enable_streaming\":false,\"force_streaming\":false,\"track_child_runs\":true,\"allowed_private_models\":[],\"label_column_name\":\"status\",\"weight_column_name\":null,\"cv_split_column_names\":null,\"enable_local_managed\":false,\"_local_managed_run_id\":null,\"cost_mode\":1,\"lag_length\":0,\"metric_operation\":\"maximize\",\"preprocess\":true}',\n",
       "  'DataPrepJsonString': '{\\\\\"training_data\\\\\": \\\\\"{\\\\\\\\\\\\\"blocks\\\\\\\\\\\\\": [{\\\\\\\\\\\\\"id\\\\\\\\\\\\\": \\\\\\\\\\\\\"f3bc6c32-effb-4a9d-b9d0-21f89f8da048\\\\\\\\\\\\\", \\\\\\\\\\\\\"type\\\\\\\\\\\\\": \\\\\\\\\\\\\"Microsoft.DPrep.GetDatastoreFilesBlock\\\\\\\\\\\\\", \\\\\\\\\\\\\"arguments\\\\\\\\\\\\\": {\\\\\\\\\\\\\"datastores\\\\\\\\\\\\\": [{\\\\\\\\\\\\\"datastoreName\\\\\\\\\\\\\": \\\\\\\\\\\\\"workspaceblobstore\\\\\\\\\\\\\", \\\\\\\\\\\\\"path\\\\\\\\\\\\\": \\\\\\\\\\\\\"data/training_data.csv\\\\\\\\\\\\\", \\\\\\\\\\\\\"resourceGroup\\\\\\\\\\\\\": \\\\\\\\\\\\\"aml-quickstarts-137760\\\\\\\\\\\\\", \\\\\\\\\\\\\"subscription\\\\\\\\\\\\\": \\\\\\\\\\\\\"61c5c3f0-6dc7-4ed9-a7f3-c704b20e3b30\\\\\\\\\\\\\", \\\\\\\\\\\\\"workspaceName\\\\\\\\\\\\\": \\\\\\\\\\\\\"quick-starts-ws-137760\\\\\\\\\\\\\"}]}, \\\\\\\\\\\\\"localData\\\\\\\\\\\\\": {}, \\\\\\\\\\\\\"isEnabled\\\\\\\\\\\\\": true, \\\\\\\\\\\\\"name\\\\\\\\\\\\\": null, \\\\\\\\\\\\\"annotation\\\\\\\\\\\\\": null}, {\\\\\\\\\\\\\"id\\\\\\\\\\\\\": \\\\\\\\\\\\\"d9556b4a-198e-4882-bc33-63d9f09d1ff2\\\\\\\\\\\\\", \\\\\\\\\\\\\"type\\\\\\\\\\\\\": \\\\\\\\\\\\\"Microsoft.DPrep.ParseDelimitedBlock\\\\\\\\\\\\\", \\\\\\\\\\\\\"arguments\\\\\\\\\\\\\": {\\\\\\\\\\\\\"columnHeadersMode\\\\\\\\\\\\\": 3, \\\\\\\\\\\\\"fileEncoding\\\\\\\\\\\\\": 0, \\\\\\\\\\\\\"handleQuotedLineBreaks\\\\\\\\\\\\\": false, \\\\\\\\\\\\\"preview\\\\\\\\\\\\\": false, \\\\\\\\\\\\\"separator\\\\\\\\\\\\\": \\\\\\\\\\\\\",\\\\\\\\\\\\\", \\\\\\\\\\\\\"skipRows\\\\\\\\\\\\\": 0, \\\\\\\\\\\\\"skipRowsMode\\\\\\\\\\\\\": 0}, \\\\\\\\\\\\\"localData\\\\\\\\\\\\\": {}, \\\\\\\\\\\\\"isEnabled\\\\\\\\\\\\\": true, \\\\\\\\\\\\\"name\\\\\\\\\\\\\": null, \\\\\\\\\\\\\"annotation\\\\\\\\\\\\\": null}, {\\\\\\\\\\\\\"id\\\\\\\\\\\\\": \\\\\\\\\\\\\"7cd78adb-7bb4-4c0b-909b-0538f996ad99\\\\\\\\\\\\\", \\\\\\\\\\\\\"type\\\\\\\\\\\\\": \\\\\\\\\\\\\"Microsoft.DPrep.DropColumnsBlock\\\\\\\\\\\\\", \\\\\\\\\\\\\"arguments\\\\\\\\\\\\\": {\\\\\\\\\\\\\"columns\\\\\\\\\\\\\": {\\\\\\\\\\\\\"type\\\\\\\\\\\\\": 0, \\\\\\\\\\\\\"details\\\\\\\\\\\\\": {\\\\\\\\\\\\\"selectedColumns\\\\\\\\\\\\\": [\\\\\\\\\\\\\"Path\\\\\\\\\\\\\"]}}}, \\\\\\\\\\\\\"localData\\\\\\\\\\\\\": {}, \\\\\\\\\\\\\"isEnabled\\\\\\\\\\\\\": true, \\\\\\\\\\\\\"name\\\\\\\\\\\\\": null, \\\\\\\\\\\\\"annotation\\\\\\\\\\\\\": null}, {\\\\\\\\\\\\\"id\\\\\\\\\\\\\": \\\\\\\\\\\\\"70d23203-4896-441a-bd34-f7c27d00ec28\\\\\\\\\\\\\", \\\\\\\\\\\\\"type\\\\\\\\\\\\\": \\\\\\\\\\\\\"Microsoft.DPrep.SetColumnTypesBlock\\\\\\\\\\\\\", \\\\\\\\\\\\\"arguments\\\\\\\\\\\\\": {\\\\\\\\\\\\\"columnConversion\\\\\\\\\\\\\": [{\\\\\\\\\\\\\"column\\\\\\\\\\\\\": {\\\\\\\\\\\\\"type\\\\\\\\\\\\\": 2, \\\\\\\\\\\\\"details\\\\\\\\\\\\\": {\\\\\\\\\\\\\"selectedColumn\\\\\\\\\\\\\": \\\\\\\\\\\\\"Column1\\\\\\\\\\\\\"}}, \\\\\\\\\\\\\"typeProperty\\\\\\\\\\\\\": 2}, {\\\\\\\\\\\\\"column\\\\\\\\\\\\\": {\\\\\\\\\\\\\"type\\\\\\\\\\\\\": 2, \\\\\\\\\\\\\"details\\\\\\\\\\\\\": {\\\\\\\\\\\\\"selectedColumn\\\\\\\\\\\\\": \\\\\\\\\\\\\"MDVP:Fo(Hz)\\\\\\\\\\\\\"}}, \\\\\\\\\\\\\"typeProperty\\\\\\\\\\\\\": 3}, {\\\\\\\\\\\\\"column\\\\\\\\\\\\\": {\\\\\\\\\\\\\"type\\\\\\\\\\\\\": 2, \\\\\\\\\\\\\"details\\\\\\\\\\\\\": {\\\\\\\\\\\\\"selectedColumn\\\\\\\\\\\\\": \\\\\\\\\\\\\"MDVP:Fhi(Hz)\\\\\\\\\\\\\"}}, \\\\\\\\\\\\\"typeProperty\\\\\\\\\\\\\": 3}, {\\\\\\\\\\\\\"column\\\\\\\\\\\\\": {\\\\\\\\\\\\\"type\\\\\\\\\\\\\": 2, \\\\\\\\\\\\\"details\\\\\\\\\\\\\": {\\\\\\\\\\\\\"selectedColumn\\\\\\\\\\\\\": \\\\\\\\\\\\\"MDVP:Flo(Hz)\\\\\\\\\\\\\"}}, \\\\\\\\\\\\\"typeProperty\\\\\\\\\\\\\": 3}, {\\\\\\\\\\\\\"column\\\\\\\\\\\\\": {\\\\\\\\\\\\\"type\\\\\\\\\\\\\": 2, \\\\\\\\\\\\\"details\\\\\\\\\\\\\": {\\\\\\\\\\\\\"selectedColumn\\\\\\\\\\\\\": \\\\\\\\\\\\\"MDVP:Jitter(%)\\\\\\\\\\\\\"}}, \\\\\\\\\\\\\"typeProperty\\\\\\\\\\\\\": 3}, {\\\\\\\\\\\\\"column\\\\\\\\\\\\\": {\\\\\\\\\\\\\"type\\\\\\\\\\\\\": 2, \\\\\\\\\\\\\"details\\\\\\\\\\\\\": {\\\\\\\\\\\\\"selectedColumn\\\\\\\\\\\\\": \\\\\\\\\\\\\"MDVP:Jitter(Abs)\\\\\\\\\\\\\"}}, \\\\\\\\\\\\\"typeProperty\\\\\\\\\\\\\": 3}, {\\\\\\\\\\\\\"column\\\\\\\\\\\\\": {\\\\\\\\\\\\\"type\\\\\\\\\\\\\": 2, \\\\\\\\\\\\\"details\\\\\\\\\\\\\": {\\\\\\\\\\\\\"selectedColumn\\\\\\\\\\\\\": \\\\\\\\\\\\\"MDVP:RAP\\\\\\\\\\\\\"}}, \\\\\\\\\\\\\"typeProperty\\\\\\\\\\\\\": 3}, {\\\\\\\\\\\\\"column\\\\\\\\\\\\\": {\\\\\\\\\\\\\"type\\\\\\\\\\\\\": 2, \\\\\\\\\\\\\"details\\\\\\\\\\\\\": {\\\\\\\\\\\\\"selectedColumn\\\\\\\\\\\\\": \\\\\\\\\\\\\"MDVP:PPQ\\\\\\\\\\\\\"}}, \\\\\\\\\\\\\"typeProperty\\\\\\\\\\\\\": 3}, {\\\\\\\\\\\\\"column\\\\\\\\\\\\\": {\\\\\\\\\\\\\"type\\\\\\\\\\\\\": 2, \\\\\\\\\\\\\"details\\\\\\\\\\\\\": {\\\\\\\\\\\\\"selectedColumn\\\\\\\\\\\\\": \\\\\\\\\\\\\"Jitter:DDP\\\\\\\\\\\\\"}}, \\\\\\\\\\\\\"typeProperty\\\\\\\\\\\\\": 3}, {\\\\\\\\\\\\\"column\\\\\\\\\\\\\": {\\\\\\\\\\\\\"type\\\\\\\\\\\\\": 2, \\\\\\\\\\\\\"details\\\\\\\\\\\\\": {\\\\\\\\\\\\\"selectedColumn\\\\\\\\\\\\\": \\\\\\\\\\\\\"MDVP:Shimmer\\\\\\\\\\\\\"}}, \\\\\\\\\\\\\"typeProperty\\\\\\\\\\\\\": 3}, {\\\\\\\\\\\\\"column\\\\\\\\\\\\\": {\\\\\\\\\\\\\"type\\\\\\\\\\\\\": 2, \\\\\\\\\\\\\"details\\\\\\\\\\\\\": {\\\\\\\\\\\\\"selectedColumn\\\\\\\\\\\\\": \\\\\\\\\\\\\"MDVP:Shimmer(dB)\\\\\\\\\\\\\"}}, \\\\\\\\\\\\\"typeProperty\\\\\\\\\\\\\": 3}, {\\\\\\\\\\\\\"column\\\\\\\\\\\\\": {\\\\\\\\\\\\\"type\\\\\\\\\\\\\": 2, \\\\\\\\\\\\\"details\\\\\\\\\\\\\": {\\\\\\\\\\\\\"selectedColumn\\\\\\\\\\\\\": \\\\\\\\\\\\\"Shimmer:APQ3\\\\\\\\\\\\\"}}, \\\\\\\\\\\\\"typeProperty\\\\\\\\\\\\\": 3}, {\\\\\\\\\\\\\"column\\\\\\\\\\\\\": {\\\\\\\\\\\\\"type\\\\\\\\\\\\\": 2, \\\\\\\\\\\\\"details\\\\\\\\\\\\\": {\\\\\\\\\\\\\"selectedColumn\\\\\\\\\\\\\": \\\\\\\\\\\\\"Shimmer:APQ5\\\\\\\\\\\\\"}}, \\\\\\\\\\\\\"typeProperty\\\\\\\\\\\\\": 3}, {\\\\\\\\\\\\\"column\\\\\\\\\\\\\": {\\\\\\\\\\\\\"type\\\\\\\\\\\\\": 2, \\\\\\\\\\\\\"details\\\\\\\\\\\\\": {\\\\\\\\\\\\\"selectedColumn\\\\\\\\\\\\\": \\\\\\\\\\\\\"MDVP:APQ\\\\\\\\\\\\\"}}, \\\\\\\\\\\\\"typeProperty\\\\\\\\\\\\\": 3}, {\\\\\\\\\\\\\"column\\\\\\\\\\\\\": {\\\\\\\\\\\\\"type\\\\\\\\\\\\\": 2, \\\\\\\\\\\\\"details\\\\\\\\\\\\\": {\\\\\\\\\\\\\"selectedColumn\\\\\\\\\\\\\": \\\\\\\\\\\\\"Shimmer:DDA\\\\\\\\\\\\\"}}, \\\\\\\\\\\\\"typeProperty\\\\\\\\\\\\\": 3}, {\\\\\\\\\\\\\"column\\\\\\\\\\\\\": {\\\\\\\\\\\\\"type\\\\\\\\\\\\\": 2, \\\\\\\\\\\\\"details\\\\\\\\\\\\\": {\\\\\\\\\\\\\"selectedColumn\\\\\\\\\\\\\": \\\\\\\\\\\\\"NHR\\\\\\\\\\\\\"}}, \\\\\\\\\\\\\"typeProperty\\\\\\\\\\\\\": 3}, {\\\\\\\\\\\\\"column\\\\\\\\\\\\\": {\\\\\\\\\\\\\"type\\\\\\\\\\\\\": 2, \\\\\\\\\\\\\"details\\\\\\\\\\\\\": {\\\\\\\\\\\\\"selectedColumn\\\\\\\\\\\\\": \\\\\\\\\\\\\"HNR\\\\\\\\\\\\\"}}, \\\\\\\\\\\\\"typeProperty\\\\\\\\\\\\\": 3}, {\\\\\\\\\\\\\"column\\\\\\\\\\\\\": {\\\\\\\\\\\\\"type\\\\\\\\\\\\\": 2, \\\\\\\\\\\\\"details\\\\\\\\\\\\\": {\\\\\\\\\\\\\"selectedColumn\\\\\\\\\\\\\": \\\\\\\\\\\\\"status\\\\\\\\\\\\\"}}, \\\\\\\\\\\\\"typeProperty\\\\\\\\\\\\\": 2}, {\\\\\\\\\\\\\"column\\\\\\\\\\\\\": {\\\\\\\\\\\\\"type\\\\\\\\\\\\\": 2, \\\\\\\\\\\\\"details\\\\\\\\\\\\\": {\\\\\\\\\\\\\"selectedColumn\\\\\\\\\\\\\": \\\\\\\\\\\\\"RPDE\\\\\\\\\\\\\"}}, \\\\\\\\\\\\\"typeProperty\\\\\\\\\\\\\": 3}, {\\\\\\\\\\\\\"column\\\\\\\\\\\\\": {\\\\\\\\\\\\\"type\\\\\\\\\\\\\": 2, \\\\\\\\\\\\\"details\\\\\\\\\\\\\": {\\\\\\\\\\\\\"selectedColumn\\\\\\\\\\\\\": \\\\\\\\\\\\\"DFA\\\\\\\\\\\\\"}}, \\\\\\\\\\\\\"typeProperty\\\\\\\\\\\\\": 3}, {\\\\\\\\\\\\\"column\\\\\\\\\\\\\": {\\\\\\\\\\\\\"type\\\\\\\\\\\\\": 2, \\\\\\\\\\\\\"details\\\\\\\\\\\\\": {\\\\\\\\\\\\\"selectedColumn\\\\\\\\\\\\\": \\\\\\\\\\\\\"spread1\\\\\\\\\\\\\"}}, \\\\\\\\\\\\\"typeProperty\\\\\\\\\\\\\": 3}, {\\\\\\\\\\\\\"column\\\\\\\\\\\\\": {\\\\\\\\\\\\\"type\\\\\\\\\\\\\": 2, \\\\\\\\\\\\\"details\\\\\\\\\\\\\": {\\\\\\\\\\\\\"selectedColumn\\\\\\\\\\\\\": \\\\\\\\\\\\\"spread2\\\\\\\\\\\\\"}}, \\\\\\\\\\\\\"typeProperty\\\\\\\\\\\\\": 3}, {\\\\\\\\\\\\\"column\\\\\\\\\\\\\": {\\\\\\\\\\\\\"type\\\\\\\\\\\\\": 2, \\\\\\\\\\\\\"details\\\\\\\\\\\\\": {\\\\\\\\\\\\\"selectedColumn\\\\\\\\\\\\\": \\\\\\\\\\\\\"D2\\\\\\\\\\\\\"}}, \\\\\\\\\\\\\"typeProperty\\\\\\\\\\\\\": 3}, {\\\\\\\\\\\\\"column\\\\\\\\\\\\\": {\\\\\\\\\\\\\"type\\\\\\\\\\\\\": 2, \\\\\\\\\\\\\"details\\\\\\\\\\\\\": {\\\\\\\\\\\\\"selectedColumn\\\\\\\\\\\\\": \\\\\\\\\\\\\"PPE\\\\\\\\\\\\\"}}, \\\\\\\\\\\\\"typeProperty\\\\\\\\\\\\\": 3}]}, \\\\\\\\\\\\\"localData\\\\\\\\\\\\\": {}, \\\\\\\\\\\\\"isEnabled\\\\\\\\\\\\\": true, \\\\\\\\\\\\\"name\\\\\\\\\\\\\": null, \\\\\\\\\\\\\"annotation\\\\\\\\\\\\\": null}], \\\\\\\\\\\\\"inspectors\\\\\\\\\\\\\": [], \\\\\\\\\\\\\"meta\\\\\\\\\\\\\": {\\\\\\\\\\\\\"savedDatasetId\\\\\\\\\\\\\": \\\\\\\\\\\\\"dc8c7f14-dc97-44c4-989c-80e686d03132\\\\\\\\\\\\\", \\\\\\\\\\\\\"datasetType\\\\\\\\\\\\\": \\\\\\\\\\\\\"tabular\\\\\\\\\\\\\", \\\\\\\\\\\\\"subscriptionId\\\\\\\\\\\\\": \\\\\\\\\\\\\"61c5c3f0-6dc7-4ed9-a7f3-c704b20e3b30\\\\\\\\\\\\\", \\\\\\\\\\\\\"workspaceId\\\\\\\\\\\\\": \\\\\\\\\\\\\"d6aa7363-0519-487c-8b11-99892a0f200f\\\\\\\\\\\\\", \\\\\\\\\\\\\"workspaceLocation\\\\\\\\\\\\\": \\\\\\\\\\\\\"southcentralus\\\\\\\\\\\\\"}}\\\\\", \\\\\"activities\\\\\": 0}',\n",
       "  'EnableSubsampling': None,\n",
       "  'runTemplate': 'AutoML',\n",
       "  'azureml.runsource': 'automl',\n",
       "  'display_task_type': 'classification',\n",
       "  'dependencies_versions': '{\"azureml-widgets\": \"1.20.0\", \"azureml-train\": \"1.20.0\", \"azureml-train-restclients-hyperdrive\": \"1.20.0\", \"azureml-train-core\": \"1.20.0\", \"azureml-train-automl\": \"1.20.0\", \"azureml-train-automl-runtime\": \"1.20.0\", \"azureml-train-automl-client\": \"1.20.0\", \"azureml-tensorboard\": \"1.20.0\", \"azureml-telemetry\": \"1.20.0\", \"azureml-sdk\": \"1.20.0\", \"azureml-samples\": \"0+unknown\", \"azureml-pipeline\": \"1.20.0\", \"azureml-pipeline-steps\": \"1.20.0\", \"azureml-pipeline-core\": \"1.20.0\", \"azureml-opendatasets\": \"1.20.0\", \"azureml-model-management-sdk\": \"1.0.1b6.post1\", \"azureml-mlflow\": \"1.20.0.post1\", \"azureml-interpret\": \"1.20.0\", \"azureml-explain-model\": \"1.20.0\", \"azureml-defaults\": \"1.20.0\", \"azureml-dataset-runtime\": \"1.20.0\", \"azureml-dataprep\": \"2.7.3\", \"azureml-dataprep-rslex\": \"1.5.0\", \"azureml-dataprep-native\": \"27.0.0\", \"azureml-datadrift\": \"1.20.0\", \"azureml-core\": \"1.20.0\", \"azureml-contrib-services\": \"1.20.0\", \"azureml-contrib-server\": \"1.20.0\", \"azureml-contrib-reinforcementlearning\": \"1.20.0\", \"azureml-contrib-pipeline-steps\": \"1.20.0\", \"azureml-contrib-notebook\": \"1.20.0\", \"azureml-contrib-interpret\": \"1.20.0\", \"azureml-contrib-gbdt\": \"1.20.0\", \"azureml-contrib-fairness\": \"1.20.0\", \"azureml-contrib-dataset\": \"1.20.0\", \"azureml-cli-common\": \"1.20.0\", \"azureml-automl-runtime\": \"1.20.0\", \"azureml-automl-core\": \"1.20.0\", \"azureml-accel-models\": \"1.20.0\"}',\n",
       "  '_aml_system_scenario_identification': 'Remote.Parent',\n",
       "  'ClientType': 'SDK',\n",
       "  'environment_cpu_name': 'AzureML-AutoML',\n",
       "  'environment_cpu_label': 'prod',\n",
       "  'environment_gpu_name': 'AzureML-AutoML-GPU',\n",
       "  'environment_gpu_label': 'prod',\n",
       "  'root_attribution': 'automl',\n",
       "  'attribution': 'AutoML',\n",
       "  'Orchestrator': 'AutoML',\n",
       "  'CancelUri': 'https://southcentralus.experiments.azureml.net/jasmine/v1.0/subscriptions/61c5c3f0-6dc7-4ed9-a7f3-c704b20e3b30/resourceGroups/aml-quickstarts-137760/providers/Microsoft.MachineLearningServices/workspaces/quick-starts-ws-137760/experimentids/26bc857e-d7d3-45f3-80d2-4979b2118c53/cancel/AutoML_a647e683-2a75-47a6-8915-7892ca77fef2',\n",
       "  'ClientSdkVersion': '1.21.0',\n",
       "  'snapshotId': '00000000-0000-0000-0000-000000000000',\n",
       "  'SetupRunId': 'AutoML_a647e683-2a75-47a6-8915-7892ca77fef2_setup',\n",
       "  'SetupRunContainerId': 'dcid.AutoML_a647e683-2a75-47a6-8915-7892ca77fef2_setup',\n",
       "  'FeaturizationRunJsonPath': 'featurizer_container.json',\n",
       "  'FeaturizationRunId': 'AutoML_a647e683-2a75-47a6-8915-7892ca77fef2_featurize',\n",
       "  'ProblemInfoJsonString': '{\"dataset_num_categorical\": 0, \"is_sparse\": false, \"subsampling\": false, \"dataset_classes\": 2, \"dataset_features\": 23, \"dataset_samples\": 195, \"single_frequency_class_detected\": false}',\n",
       "  'ModelExplainRunId': 'AutoML_a647e683-2a75-47a6-8915-7892ca77fef2_ModelExplain'},\n",
       " 'inputDatasets': [{'dataset': {'id': 'dc8c7f14-dc97-44c4-989c-80e686d03132'}, 'consumptionDetails': {'type': 'RunInput', 'inputName': 'training_data', 'mechanism': 'Direct'}}],\n",
       " 'outputDatasets': [],\n",
       " 'logFiles': {},\n",
       " 'submittedBy': 'ODL_User 137760'}"
      ]
     },
     "execution_count": 9,
     "metadata": {},
     "output_type": "execute_result"
    }
   ],
   "source": [
    "RunDetails(auto_ml_run).show()\n",
    "auto_ml_run.wait_for_completion(show_output=True)"
   ]
  },
  {
   "cell_type": "markdown",
   "metadata": {},
   "source": [
    "## Best Model\n",
    "\n",
    "TODO: In the cell below, get the best model from the automl experiments and display all the properties of the model.\n",
    "\n"
   ]
  },
  {
   "cell_type": "code",
   "execution_count": 10,
   "metadata": {
    "gather": {
     "logged": 1598431425670
    },
    "jupyter": {
     "outputs_hidden": false,
     "source_hidden": false
    },
    "nteract": {
     "transient": {
      "deleting": false
     }
    }
   },
   "outputs": [
    {
     "name": "stderr",
     "output_type": "stream",
     "text": [
      "WARNING:root:The version of the SDK does not match the version the model was trained on.\n",
      "WARNING:root:The consistency in the result may not be guaranteed.\n",
      "WARNING:root:Package:azureml-automl-core, training version:1.21.0, current version:1.20.0\n",
      "Package:azureml-automl-runtime, training version:1.21.0, current version:1.20.0\n",
      "Package:azureml-core, training version:1.21.0.post1, current version:1.20.0\n",
      "Package:azureml-dataprep, training version:2.8.2, current version:2.7.3\n",
      "Package:azureml-dataprep-native, training version:28.0.0, current version:27.0.0\n",
      "Package:azureml-dataprep-rslex, training version:1.6.0, current version:1.5.0\n",
      "Package:azureml-dataset-runtime, training version:1.21.0, current version:1.20.0\n",
      "Package:azureml-defaults, training version:1.21.0, current version:1.20.0\n",
      "Package:azureml-interpret, training version:1.21.0, current version:1.20.0\n",
      "Package:azureml-pipeline-core, training version:1.21.0, current version:1.20.0\n",
      "Package:azureml-telemetry, training version:1.21.0, current version:1.20.0\n",
      "Package:azureml-train-automl-client, training version:1.21.0, current version:1.20.0\n",
      "Package:azureml-train-automl-runtime, training version:1.21.0, current version:1.20.0\n",
      "WARNING:root:Please ensure the version of your local conda dependencies match the version on which your model was trained in order to properly retrieve your model.\n"
     ]
    },
    {
     "name": "stdout",
     "output_type": "stream",
     "text": [
      "Run(Experiment: Parkinson-classification,\n",
      "Id: AutoML_a647e683-2a75-47a6-8915-7892ca77fef2_47,\n",
      "Type: azureml.scriptrun,\n",
      "Status: Completed)\n",
      "Pipeline(memory=None,\n",
      "         steps=[('datatransformer',\n",
      "                 DataTransformer(enable_dnn=None, enable_feature_sweeping=None,\n",
      "                                 feature_sweeping_config=None,\n",
      "                                 feature_sweeping_timeout=None,\n",
      "                                 featurization_config=None, force_text_dnn=None,\n",
      "                                 is_cross_validation=None,\n",
      "                                 is_onnx_compatible=None, logger=None,\n",
      "                                 observer=None, task=None, working_dir=None)),\n",
      "                ('prefittedsoftvotingclassifier',...\n",
      "                                                                                                objective=None,\n",
      "                                                                                                random_state=None,\n",
      "                                                                                                reg_alpha=0.5789473684210527,\n",
      "                                                                                                reg_lambda=0.6842105263157894,\n",
      "                                                                                                silent=True,\n",
      "                                                                                                subsample=0.24789473684210528,\n",
      "                                                                                                subsample_for_bin=200000,\n",
      "                                                                                                subsample_freq=0,\n",
      "                                                                                                verbose=-10))],\n",
      "                                                                     verbose=False))],\n",
      "                                               flatten_transform=None,\n",
      "                                               weights=[0.4666666666666667, 0.2,\n",
      "                                                        0.06666666666666667,\n",
      "                                                        0.06666666666666667,\n",
      "                                                        0.13333333333333333,\n",
      "                                                        0.06666666666666667]))],\n",
      "         verbose=False)\n",
      "Parkinson-detection-automl\n"
     ]
    }
   ],
   "source": [
    "# Retrieve the best automl model.\n",
    "best_run, fitted_model = auto_ml_run.get_output()\n",
    "print(best_run)\n",
    "print(fitted_model)\n",
    "\n",
    "#Register the model\n",
    "description ='Parkinson detection classification '\n",
    "model_name='Parkinson-detection-automl'\n",
    "model_path='./'\n",
    "tags = None\n",
    "model = auto_ml_run.register_model(model_name = model_name, description = description , tags = tags)\n",
    "print(auto_ml_run.model_id)"
   ]
  },
  {
   "cell_type": "code",
   "execution_count": 11,
   "metadata": {
    "gather": {
     "logged": 1598431426111
    },
    "jupyter": {
     "outputs_hidden": false,
     "source_hidden": false
    },
    "nteract": {
     "transient": {
      "deleting": false
     }
    }
   },
   "outputs": [
    {
     "name": "stdout",
     "output_type": "stream",
     "text": [
      "Downloading from outputs/conda_env_v_1_0_0.yml to ./amlmodel/conda_env_v_1_0_0.yml ...\n",
      "Downloading from outputs/env_dependencies.json to ./amlmodel/env_dependencies.json ...\n",
      "Downloading from outputs/internal_cross_validated_models.pkl to ./amlmodel/internal_cross_validated_models.pkl ...\n",
      "Downloading from outputs/model.pkl to ./amlmodel/model.pkl ...\n",
      "Downloading from outputs/pipeline_graph.json to ./amlmodel/pipeline_graph.json ...\n",
      "Downloading from outputs/scoring_file_v_1_0_0.py to ./amlmodel/scoring_file_v_1_0_0.py ...\n"
     ]
    }
   ],
   "source": [
    "#TODO: Save the best modelimport os\n",
    "os.makedirs('./amlmodel', exist_ok=True)\n",
    "\n",
    "best_run.download_file('/outputs/model.pkl',os.path.join('./amlmodel','automl_best_model_park.pkl'))\n",
    "\n",
    "for f in best_run.get_file_names():\n",
    "    if f.startswith('outputs'):\n",
    "        output_file_path = os.path.join('./amlmodel', f.split('/')[-1])\n",
    "        print(f'Downloading from {f} to {output_file_path} ...')\n",
    "        best_run.download_file(name=f, output_file_path=output_file_path)"
   ]
  },
  {
   "cell_type": "code",
   "execution_count": 12,
   "metadata": {},
   "outputs": [],
   "source": [
    "#Register the best model for the deployement\n",
    "\n",
    "model=best_run.register_model(\n",
    "            model_name = 'automl-bestmodel-parkinson', \n",
    "            model_path = './outputs/model.pkl',\n",
    "            model_framework=Model.Framework.SCIKITLEARN,\n",
    "            description='Parkinson detection'\n",
    ")"
   ]
  },
  {
   "cell_type": "code",
   "execution_count": 13,
   "metadata": {},
   "outputs": [],
   "source": [
    "# Download the conda environment file and define the environement\n",
    "best_run.download_file('outputs/conda_env_v_1_0_0.yml', 'conda_env.yml')\n",
    "myenv = Environment.from_conda_specification(name = 'myenv',\n",
    "                                             file_path = 'conda_env.yml')"
   ]
  },
  {
   "cell_type": "code",
   "execution_count": 14,
   "metadata": {},
   "outputs": [],
   "source": [
    "# download the scoring file produced by AutoML\n",
    "best_run.download_file('outputs/scoring_file_v_1_0_0.py', 'score_auto_park.py')\n",
    "\n",
    "# set inference config\n",
    "inference_config = InferenceConfig(entry_script= 'score_auto_park.py',\n",
    "                                    environment=myenv)"
   ]
  },
  {
   "cell_type": "code",
   "execution_count": 15,
   "metadata": {},
   "outputs": [],
   "source": [
    "# set Aci Webservice config\n",
    "aci_config = AciWebservice.deploy_configuration(cpu_cores=1, memory_gb=1, auth_enabled=True)"
   ]
  },
  {
   "cell_type": "code",
   "execution_count": 16,
   "metadata": {},
   "outputs": [],
   "source": [
    "# deploye the model as a web service \n",
    "service = Model.deploy(workspace=ws, \n",
    "                       name='automl-bestmodel-parkinso', \n",
    "                       models=[model], \n",
    "                       inference_config=inference_config,\n",
    "                       deployment_config=aci_config,\n",
    "                       overwrite=True)"
   ]
  },
  {
   "cell_type": "code",
   "execution_count": 17,
   "metadata": {},
   "outputs": [
    {
     "data": {
      "text/plain": [
       "AciWebservice(workspace=Workspace.create(name='quick-starts-ws-137760', subscription_id='61c5c3f0-6dc7-4ed9-a7f3-c704b20e3b30', resource_group='aml-quickstarts-137760'), name=automl-bestmodel-parkinso, image_id=None, compute_type=None, state=ACI, scoring_uri=Transitioning, tags=None, properties={}, created_by={})"
      ]
     },
     "execution_count": 17,
     "metadata": {},
     "output_type": "execute_result"
    }
   ],
   "source": [
    "service"
   ]
  },
  {
   "cell_type": "code",
   "execution_count": 18,
   "metadata": {},
   "outputs": [
    {
     "name": "stdout",
     "output_type": "stream",
     "text": [
      "Tips: You can try get_logs(): https://aka.ms/debugimage#dockerlog or local deployment: https://aka.ms/debugimage#debug-locally to debug if deployment takes longer than 10 minutes.\n",
      "Running......................................................................................................................................................................\n",
      "Succeeded\n",
      "ACI service creation operation finished, operation \"Succeeded\"\n",
      "Service state:\n",
      "Healthy\n",
      "Scoring URI:\n",
      "http://26ea3b2a-396e-4404-baa4-ec904de156b9.southcentralus.azurecontainer.io/score\n",
      "Swagger URI:\n",
      "http://26ea3b2a-396e-4404-baa4-ec904de156b9.southcentralus.azurecontainer.io/swagger.json\n"
     ]
    }
   ],
   "source": [
    "# wait for deployment to finish and display the scoring uri and swagger uri\n",
    "service.wait_for_deployment(show_output=True)\n",
    "\n",
    "print('Service state:')\n",
    "print(service.state)\n",
    "\n",
    "print('Scoring URI:')\n",
    "print(service.scoring_uri)\n",
    "\n",
    "print('Swagger URI:')\n",
    "print(service.swagger_uri)"
   ]
  },
  {
   "cell_type": "code",
   "execution_count": 19,
   "metadata": {},
   "outputs": [
    {
     "name": "stdout",
     "output_type": "stream",
     "text": [
      "{\"data\": [{\"MDVP:Fo(Hz)\": 112.547, \"MDVP:Fhi(Hz)\": 133.374, \"MDVP:Flo(Hz)\": 105.715, \"MDVP:Jitter(%)\": 0.00355, \"MDVP:Jitter(Abs)\": 3e-05, \"MDVP:RAP\": 0.00166, \"MDVP:PPQ\": 0.0019, \"Jitter:DDP\": 0.00499, \"MDVP:Shimmer\": 0.01358, \"MDVP:Shimmer(dB)\": 0.129, \"Shimmer:APQ3\": 0.00664, \"Shimmer:APQ5\": 0.00786, \"MDVP:APQ\": 0.0114, \"Shimmer:DDA\": 0.01992, \"NHR\": 0.00435, \"HNR\": 26.436, \"RPDE\": 0.413295, \"DFA\": 0.7567, \"spread1\": -6.323531, \"spread2\": 0.218885, \"D2\": 2.193412, \"PPE\": 0.160376, \"Column1\": 0.0}, {\"MDVP:Fo(Hz)\": 252.455, \"MDVP:Fhi(Hz)\": 261.487, \"MDVP:Flo(Hz)\": 182.786, \"MDVP:Jitter(%)\": 0.00185, \"MDVP:Jitter(Abs)\": 7e-06, \"MDVP:RAP\": 0.00092, \"MDVP:PPQ\": 0.00113, \"Jitter:DDP\": 0.00276, \"MDVP:Shimmer\": 0.01152, \"MDVP:Shimmer(dB)\": 0.103, \"Shimmer:APQ3\": 0.00614, \"Shimmer:APQ5\": 0.0073, \"MDVP:APQ\": 0.0086, \"Shimmer:DDA\": 0.01841, \"NHR\": 0.00432, \"HNR\": 26.805, \"RPDE\": 0.610367, \"DFA\": 0.635204, \"spread1\": -7.31951, \"spread2\": 0.200873, \"D2\": 2.028612, \"PPE\": 0.086398, \"Column1\": 0.0}, {\"MDVP:Fo(Hz)\": 126.144, \"MDVP:Fhi(Hz)\": 154.284, \"MDVP:Flo(Hz)\": 97.543, \"MDVP:Jitter(%)\": 0.00975, \"MDVP:Jitter(Abs)\": 8e-05, \"MDVP:RAP\": 0.00593, \"MDVP:PPQ\": 0.00454, \"Jitter:DDP\": 0.01778, \"MDVP:Shimmer\": 0.02852, \"MDVP:Shimmer(dB)\": 0.266, \"Shimmer:APQ3\": 0.015, \"Shimmer:APQ5\": 0.01581, \"MDVP:APQ\": 0.02157, \"Shimmer:DDA\": 0.04499, \"NHR\": 0.03828, \"HNR\": 21.534, \"RPDE\": 0.635015, \"DFA\": 0.627337, \"spread1\": -5.070096, \"spread2\": 0.280091, \"D2\": 2.8923, \"PPE\": 0.249703, \"Column1\": 0.0}]}\n"
     ]
    }
   ],
   "source": [
    "x_df=df.sample(3)\n",
    "y_df = x_df.pop('status')\n",
    "\n",
    "x_df['Column1'] = 0.0\n",
    "\n",
    "# convert the records to a json data file\n",
    "recored=x_df.to_dict(orient='records')\n",
    "\n",
    "scoring_json = json.dumps({'data': recored})\n",
    "print(scoring_json)"
   ]
  },
  {
   "cell_type": "code",
   "execution_count": 20,
   "metadata": {},
   "outputs": [],
   "source": [
    "output = service.run(scoring_json)"
   ]
  },
  {
   "cell_type": "code",
   "execution_count": 21,
   "metadata": {},
   "outputs": [
    {
     "name": "stdout",
     "output_type": "stream",
     "text": [
      "{\"result\": [1, 0, 1]}\n"
     ]
    }
   ],
   "source": [
    "print (output)"
   ]
  },
  {
   "cell_type": "code",
   "execution_count": 22,
   "metadata": {},
   "outputs": [
    {
     "name": "stdout",
     "output_type": "stream",
     "text": [
      "171    0\n",
      "47     0\n",
      "158    1\n",
      "Name: status, dtype: int64\n"
     ]
    }
   ],
   "source": [
    "print(y_df)"
   ]
  },
  {
   "cell_type": "code",
   "execution_count": 23,
   "metadata": {},
   "outputs": [
    {
     "name": "stdout",
     "output_type": "stream",
     "text": [
      "2021-02-07T08:25:39,787006637+00:00 - iot-server/run \n",
      "2021-02-07T08:25:39,786983937+00:00 - rsyslog/run \n",
      "2021-02-07T08:25:39,787200839+00:00 - gunicorn/run \n",
      "2021-02-07T08:25:39,796514520+00:00 - nginx/run \n",
      "/usr/sbin/nginx: /azureml-envs/azureml_7785023fceb74e4facc1b1a577b1faf9/lib/libcrypto.so.1.0.0: no version information available (required by /usr/sbin/nginx)\n",
      "/usr/sbin/nginx: /azureml-envs/azureml_7785023fceb74e4facc1b1a577b1faf9/lib/libcrypto.so.1.0.0: no version information available (required by /usr/sbin/nginx)\n",
      "/usr/sbin/nginx: /azureml-envs/azureml_7785023fceb74e4facc1b1a577b1faf9/lib/libssl.so.1.0.0: no version information available (required by /usr/sbin/nginx)\n",
      "/usr/sbin/nginx: /azureml-envs/azureml_7785023fceb74e4facc1b1a577b1faf9/lib/libssl.so.1.0.0: no version information available (required by /usr/sbin/nginx)\n",
      "/usr/sbin/nginx: /azureml-envs/azureml_7785023fceb74e4facc1b1a577b1faf9/lib/libssl.so.1.0.0: no version information available (required by /usr/sbin/nginx)\n",
      "rsyslogd: /azureml-envs/azureml_7785023fceb74e4facc1b1a577b1faf9/lib/libuuid.so.1: no version information available (required by rsyslogd)\n",
      "EdgeHubConnectionString and IOTEDGE_IOTHUBHOSTNAME are not set. Exiting...\n",
      "2021-02-07T08:25:39,963835082+00:00 - iot-server/finish 1 0\n",
      "2021-02-07T08:25:39,965332595+00:00 - Exit code 1 is normal. Not restarting iot-server.\n",
      "Starting gunicorn 19.9.0\n",
      "Listening at: http://127.0.0.1:31311 (12)\n",
      "Using worker: sync\n",
      "worker timeout is set to 300\n",
      "Booting worker with pid: 42\n",
      "SPARK_HOME not set. Skipping PySpark Initialization.\n",
      "Generating new fontManager, this may take some time...\n",
      "Initializing logger\n",
      "2021-02-07 08:25:41,491 | root | INFO | Starting up app insights client\n",
      "2021-02-07 08:25:41,491 | root | INFO | Starting up request id generator\n",
      "2021-02-07 08:25:41,491 | root | INFO | Starting up app insight hooks\n",
      "2021-02-07 08:25:41,491 | root | INFO | Invoking user's init function\n",
      "2021-02-07 08:25:44,692 | root | INFO | Users's init has completed successfully\n",
      "2021-02-07 08:25:44,728 | root | INFO | Skipping middleware: dbg_model_info as it's not enabled.\n",
      "2021-02-07 08:25:44,728 | root | INFO | Skipping middleware: dbg_resource_usage as it's not enabled.\n",
      "2021-02-07 08:25:44,730 | root | INFO | Scoring timeout is found from os.environ: 60000 ms\n",
      "2021-02-07 08:25:51,351 | root | INFO | 200\n",
      "127.0.0.1 - - [07/Feb/2021:08:25:51 +0000] \"GET /swagger.json HTTP/1.0\" 200 3605 \"-\" \"Go-http-client/1.1\"\n",
      "2021-02-07 08:25:54,773 | root | INFO | 200\n",
      "127.0.0.1 - - [07/Feb/2021:08:25:54 +0000] \"GET /swagger.json HTTP/1.0\" 200 3605 \"-\" \"Go-http-client/1.1\"\n",
      "2021-02-07 08:28:07,121 | root | INFO | Validation Request Content-Type\n",
      "2021-02-07 08:28:07,122 | root | INFO | Scoring Timer is set to 60.0 seconds\n",
      "2021-02-07 08:28:07,230 | root | INFO | 200\n",
      "127.0.0.1 - - [07/Feb/2021:08:28:07 +0000] \"POST /score HTTP/1.0\" 200 25 \"-\" \"python-requests/2.25.1\"\n",
      "\n"
     ]
    }
   ],
   "source": [
    "print(service.get_logs())"
   ]
  },
  {
   "cell_type": "code",
   "execution_count": null,
   "metadata": {},
   "outputs": [],
   "source": [
    "service.delete()\n",
    "aml_compute.delete()"
   ]
  },
  {
   "cell_type": "markdown",
   "metadata": {},
   "source": [
    "## Model Deployment\n",
    "\n",
    "Remember you have to deploy only one of the two models you trained.. Perform the steps in the rest of this notebook only if you wish to deploy this model.\n",
    "\n",
    "TODO: In the cell below, register the model, create an inference config and deploy the model as a web service."
   ]
  },
  {
   "cell_type": "code",
   "execution_count": null,
   "metadata": {
    "gather": {
     "logged": 1598431435189
    },
    "jupyter": {
     "outputs_hidden": false,
     "source_hidden": false
    },
    "nteract": {
     "transient": {
      "deleting": false
     }
    }
   },
   "outputs": [],
   "source": []
  },
  {
   "cell_type": "markdown",
   "metadata": {
    "collapsed": true,
    "gather": {
     "logged": 1598431657736
    },
    "jupyter": {
     "outputs_hidden": false,
     "source_hidden": false
    },
    "nteract": {
     "transient": {
      "deleting": false
     }
    }
   },
   "source": [
    "TODO: In the cell below, send a request to the web service you deployed to test it."
   ]
  },
  {
   "cell_type": "code",
   "execution_count": null,
   "metadata": {
    "gather": {
     "logged": 1598432707604
    },
    "jupyter": {
     "outputs_hidden": false,
     "source_hidden": false
    },
    "nteract": {
     "transient": {
      "deleting": false
     }
    }
   },
   "outputs": [],
   "source": []
  },
  {
   "cell_type": "markdown",
   "metadata": {
    "collapsed": true,
    "gather": {
     "logged": 1598432765711
    },
    "jupyter": {
     "outputs_hidden": false,
     "source_hidden": false
    },
    "nteract": {
     "transient": {
      "deleting": false
     }
    }
   },
   "source": [
    "TODO: In the cell below, print the logs of the web service and delete the service"
   ]
  },
  {
   "cell_type": "code",
   "execution_count": null,
   "metadata": {
    "jupyter": {
     "outputs_hidden": false,
     "source_hidden": false
    },
    "nteract": {
     "transient": {
      "deleting": false
     }
    }
   },
   "outputs": [],
   "source": []
  }
 ],
 "metadata": {
  "kernel_info": {
   "name": "python3-azureml"
  },
  "kernelspec": {
   "display_name": "Python 3",
   "language": "python",
   "name": "python3"
  },
  "language_info": {
   "codemirror_mode": {
    "name": "ipython",
    "version": 3
   },
   "file_extension": ".py",
   "mimetype": "text/x-python",
   "name": "python",
   "nbconvert_exporter": "python",
   "pygments_lexer": "ipython3",
   "version": "3.6.9"
  },
  "nteract": {
   "version": "nteract-front-end@1.0.0"
  }
 },
 "nbformat": 4,
 "nbformat_minor": 2
}
